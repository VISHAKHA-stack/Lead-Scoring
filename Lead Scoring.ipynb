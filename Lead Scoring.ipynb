{
 "cells": [
  {
   "cell_type": "markdown",
   "metadata": {},
   "source": [
    "# Lead Scoring Case Study"
   ]
  },
  {
   "cell_type": "code",
   "execution_count": 1,
   "metadata": {},
   "outputs": [],
   "source": [
    "#Importing required libraries\n",
    "import pandas as pd\n",
    "import numpy as np\n",
    "import matplotlib.pyplot as plt\n",
    "import seaborn as sns\n",
    "\n",
    "pd.set_option('display.max_columns',999)\n",
    "pd.set_option('display.max_rows',200)\n",
    "pd.set_option('float_format', '{:f}'.format)\n",
    "\n",
    "from sklearn.model_selection import train_test_split\n",
    "from sklearn.preprocessing import MinMaxScaler\n",
    "from sklearn.feature_selection import RFE\n",
    "import statsmodels.api as sm\n",
    "\n",
    "# Suppressing Warnings\n",
    "import warnings\n",
    "warnings.filterwarnings('ignore')\n",
    "\n",
    "%matplotlib inline"
   ]
  },
  {
   "cell_type": "code",
   "execution_count": 2,
   "metadata": {},
   "outputs": [],
   "source": [
    "Xed=pd.read_csv('Leads.csv')"
   ]
  },
  {
   "cell_type": "markdown",
   "metadata": {},
   "source": [
    "## Data Exploration"
   ]
  },
  {
   "cell_type": "code",
   "execution_count": 3,
   "metadata": {},
   "outputs": [
    {
     "data": {
      "text/html": [
       "<div>\n",
       "<style scoped>\n",
       "    .dataframe tbody tr th:only-of-type {\n",
       "        vertical-align: middle;\n",
       "    }\n",
       "\n",
       "    .dataframe tbody tr th {\n",
       "        vertical-align: top;\n",
       "    }\n",
       "\n",
       "    .dataframe thead th {\n",
       "        text-align: right;\n",
       "    }\n",
       "</style>\n",
       "<table border=\"1\" class=\"dataframe\">\n",
       "  <thead>\n",
       "    <tr style=\"text-align: right;\">\n",
       "      <th></th>\n",
       "      <th>Prospect ID</th>\n",
       "      <th>Lead Number</th>\n",
       "      <th>Lead Origin</th>\n",
       "      <th>Lead Source</th>\n",
       "      <th>Do Not Email</th>\n",
       "      <th>Do Not Call</th>\n",
       "      <th>Converted</th>\n",
       "      <th>TotalVisits</th>\n",
       "      <th>Total Time Spent on Website</th>\n",
       "      <th>Page Views Per Visit</th>\n",
       "      <th>Last Activity</th>\n",
       "      <th>Country</th>\n",
       "      <th>Specialization</th>\n",
       "      <th>How did you hear about X Education</th>\n",
       "      <th>What is your current occupation</th>\n",
       "      <th>What matters most to you in choosing a course</th>\n",
       "      <th>Search</th>\n",
       "      <th>Magazine</th>\n",
       "      <th>Newspaper Article</th>\n",
       "      <th>X Education Forums</th>\n",
       "      <th>Newspaper</th>\n",
       "      <th>Digital Advertisement</th>\n",
       "      <th>Through Recommendations</th>\n",
       "      <th>Receive More Updates About Our Courses</th>\n",
       "      <th>Tags</th>\n",
       "      <th>Lead Quality</th>\n",
       "      <th>Update me on Supply Chain Content</th>\n",
       "      <th>Get updates on DM Content</th>\n",
       "      <th>Lead Profile</th>\n",
       "      <th>City</th>\n",
       "      <th>Asymmetrique Activity Index</th>\n",
       "      <th>Asymmetrique Profile Index</th>\n",
       "      <th>Asymmetrique Activity Score</th>\n",
       "      <th>Asymmetrique Profile Score</th>\n",
       "      <th>I agree to pay the amount through cheque</th>\n",
       "      <th>A free copy of Mastering The Interview</th>\n",
       "      <th>Last Notable Activity</th>\n",
       "    </tr>\n",
       "  </thead>\n",
       "  <tbody>\n",
       "    <tr>\n",
       "      <th>0</th>\n",
       "      <td>7927b2df-8bba-4d29-b9a2-b6e0beafe620</td>\n",
       "      <td>660737</td>\n",
       "      <td>API</td>\n",
       "      <td>Olark Chat</td>\n",
       "      <td>No</td>\n",
       "      <td>No</td>\n",
       "      <td>0</td>\n",
       "      <td>0.000000</td>\n",
       "      <td>0</td>\n",
       "      <td>0.000000</td>\n",
       "      <td>Page Visited on Website</td>\n",
       "      <td>NaN</td>\n",
       "      <td>Select</td>\n",
       "      <td>Select</td>\n",
       "      <td>Unemployed</td>\n",
       "      <td>Better Career Prospects</td>\n",
       "      <td>No</td>\n",
       "      <td>No</td>\n",
       "      <td>No</td>\n",
       "      <td>No</td>\n",
       "      <td>No</td>\n",
       "      <td>No</td>\n",
       "      <td>No</td>\n",
       "      <td>No</td>\n",
       "      <td>Interested in other courses</td>\n",
       "      <td>Low in Relevance</td>\n",
       "      <td>No</td>\n",
       "      <td>No</td>\n",
       "      <td>Select</td>\n",
       "      <td>Select</td>\n",
       "      <td>02.Medium</td>\n",
       "      <td>02.Medium</td>\n",
       "      <td>15.000000</td>\n",
       "      <td>15.000000</td>\n",
       "      <td>No</td>\n",
       "      <td>No</td>\n",
       "      <td>Modified</td>\n",
       "    </tr>\n",
       "    <tr>\n",
       "      <th>1</th>\n",
       "      <td>2a272436-5132-4136-86fa-dcc88c88f482</td>\n",
       "      <td>660728</td>\n",
       "      <td>API</td>\n",
       "      <td>Organic Search</td>\n",
       "      <td>No</td>\n",
       "      <td>No</td>\n",
       "      <td>0</td>\n",
       "      <td>5.000000</td>\n",
       "      <td>674</td>\n",
       "      <td>2.500000</td>\n",
       "      <td>Email Opened</td>\n",
       "      <td>India</td>\n",
       "      <td>Select</td>\n",
       "      <td>Select</td>\n",
       "      <td>Unemployed</td>\n",
       "      <td>Better Career Prospects</td>\n",
       "      <td>No</td>\n",
       "      <td>No</td>\n",
       "      <td>No</td>\n",
       "      <td>No</td>\n",
       "      <td>No</td>\n",
       "      <td>No</td>\n",
       "      <td>No</td>\n",
       "      <td>No</td>\n",
       "      <td>Ringing</td>\n",
       "      <td>NaN</td>\n",
       "      <td>No</td>\n",
       "      <td>No</td>\n",
       "      <td>Select</td>\n",
       "      <td>Select</td>\n",
       "      <td>02.Medium</td>\n",
       "      <td>02.Medium</td>\n",
       "      <td>15.000000</td>\n",
       "      <td>15.000000</td>\n",
       "      <td>No</td>\n",
       "      <td>No</td>\n",
       "      <td>Email Opened</td>\n",
       "    </tr>\n",
       "    <tr>\n",
       "      <th>2</th>\n",
       "      <td>8cc8c611-a219-4f35-ad23-fdfd2656bd8a</td>\n",
       "      <td>660727</td>\n",
       "      <td>Landing Page Submission</td>\n",
       "      <td>Direct Traffic</td>\n",
       "      <td>No</td>\n",
       "      <td>No</td>\n",
       "      <td>1</td>\n",
       "      <td>2.000000</td>\n",
       "      <td>1532</td>\n",
       "      <td>2.000000</td>\n",
       "      <td>Email Opened</td>\n",
       "      <td>India</td>\n",
       "      <td>Business Administration</td>\n",
       "      <td>Select</td>\n",
       "      <td>Student</td>\n",
       "      <td>Better Career Prospects</td>\n",
       "      <td>No</td>\n",
       "      <td>No</td>\n",
       "      <td>No</td>\n",
       "      <td>No</td>\n",
       "      <td>No</td>\n",
       "      <td>No</td>\n",
       "      <td>No</td>\n",
       "      <td>No</td>\n",
       "      <td>Will revert after reading the email</td>\n",
       "      <td>Might be</td>\n",
       "      <td>No</td>\n",
       "      <td>No</td>\n",
       "      <td>Potential Lead</td>\n",
       "      <td>Mumbai</td>\n",
       "      <td>02.Medium</td>\n",
       "      <td>01.High</td>\n",
       "      <td>14.000000</td>\n",
       "      <td>20.000000</td>\n",
       "      <td>No</td>\n",
       "      <td>Yes</td>\n",
       "      <td>Email Opened</td>\n",
       "    </tr>\n",
       "    <tr>\n",
       "      <th>3</th>\n",
       "      <td>0cc2df48-7cf4-4e39-9de9-19797f9b38cc</td>\n",
       "      <td>660719</td>\n",
       "      <td>Landing Page Submission</td>\n",
       "      <td>Direct Traffic</td>\n",
       "      <td>No</td>\n",
       "      <td>No</td>\n",
       "      <td>0</td>\n",
       "      <td>1.000000</td>\n",
       "      <td>305</td>\n",
       "      <td>1.000000</td>\n",
       "      <td>Unreachable</td>\n",
       "      <td>India</td>\n",
       "      <td>Media and Advertising</td>\n",
       "      <td>Word Of Mouth</td>\n",
       "      <td>Unemployed</td>\n",
       "      <td>Better Career Prospects</td>\n",
       "      <td>No</td>\n",
       "      <td>No</td>\n",
       "      <td>No</td>\n",
       "      <td>No</td>\n",
       "      <td>No</td>\n",
       "      <td>No</td>\n",
       "      <td>No</td>\n",
       "      <td>No</td>\n",
       "      <td>Ringing</td>\n",
       "      <td>Not Sure</td>\n",
       "      <td>No</td>\n",
       "      <td>No</td>\n",
       "      <td>Select</td>\n",
       "      <td>Mumbai</td>\n",
       "      <td>02.Medium</td>\n",
       "      <td>01.High</td>\n",
       "      <td>13.000000</td>\n",
       "      <td>17.000000</td>\n",
       "      <td>No</td>\n",
       "      <td>No</td>\n",
       "      <td>Modified</td>\n",
       "    </tr>\n",
       "    <tr>\n",
       "      <th>4</th>\n",
       "      <td>3256f628-e534-4826-9d63-4a8b88782852</td>\n",
       "      <td>660681</td>\n",
       "      <td>Landing Page Submission</td>\n",
       "      <td>Google</td>\n",
       "      <td>No</td>\n",
       "      <td>No</td>\n",
       "      <td>1</td>\n",
       "      <td>2.000000</td>\n",
       "      <td>1428</td>\n",
       "      <td>1.000000</td>\n",
       "      <td>Converted to Lead</td>\n",
       "      <td>India</td>\n",
       "      <td>Select</td>\n",
       "      <td>Other</td>\n",
       "      <td>Unemployed</td>\n",
       "      <td>Better Career Prospects</td>\n",
       "      <td>No</td>\n",
       "      <td>No</td>\n",
       "      <td>No</td>\n",
       "      <td>No</td>\n",
       "      <td>No</td>\n",
       "      <td>No</td>\n",
       "      <td>No</td>\n",
       "      <td>No</td>\n",
       "      <td>Will revert after reading the email</td>\n",
       "      <td>Might be</td>\n",
       "      <td>No</td>\n",
       "      <td>No</td>\n",
       "      <td>Select</td>\n",
       "      <td>Mumbai</td>\n",
       "      <td>02.Medium</td>\n",
       "      <td>01.High</td>\n",
       "      <td>15.000000</td>\n",
       "      <td>18.000000</td>\n",
       "      <td>No</td>\n",
       "      <td>No</td>\n",
       "      <td>Modified</td>\n",
       "    </tr>\n",
       "  </tbody>\n",
       "</table>\n",
       "</div>"
      ],
      "text/plain": [
       "                            Prospect ID  Lead Number              Lead Origin  \\\n",
       "0  7927b2df-8bba-4d29-b9a2-b6e0beafe620       660737                      API   \n",
       "1  2a272436-5132-4136-86fa-dcc88c88f482       660728                      API   \n",
       "2  8cc8c611-a219-4f35-ad23-fdfd2656bd8a       660727  Landing Page Submission   \n",
       "3  0cc2df48-7cf4-4e39-9de9-19797f9b38cc       660719  Landing Page Submission   \n",
       "4  3256f628-e534-4826-9d63-4a8b88782852       660681  Landing Page Submission   \n",
       "\n",
       "      Lead Source Do Not Email Do Not Call  Converted  TotalVisits  \\\n",
       "0      Olark Chat           No          No          0     0.000000   \n",
       "1  Organic Search           No          No          0     5.000000   \n",
       "2  Direct Traffic           No          No          1     2.000000   \n",
       "3  Direct Traffic           No          No          0     1.000000   \n",
       "4          Google           No          No          1     2.000000   \n",
       "\n",
       "   Total Time Spent on Website  Page Views Per Visit            Last Activity  \\\n",
       "0                            0              0.000000  Page Visited on Website   \n",
       "1                          674              2.500000             Email Opened   \n",
       "2                         1532              2.000000             Email Opened   \n",
       "3                          305              1.000000              Unreachable   \n",
       "4                         1428              1.000000        Converted to Lead   \n",
       "\n",
       "  Country           Specialization How did you hear about X Education  \\\n",
       "0     NaN                   Select                             Select   \n",
       "1   India                   Select                             Select   \n",
       "2   India  Business Administration                             Select   \n",
       "3   India    Media and Advertising                      Word Of Mouth   \n",
       "4   India                   Select                              Other   \n",
       "\n",
       "  What is your current occupation  \\\n",
       "0                      Unemployed   \n",
       "1                      Unemployed   \n",
       "2                         Student   \n",
       "3                      Unemployed   \n",
       "4                      Unemployed   \n",
       "\n",
       "  What matters most to you in choosing a course Search Magazine  \\\n",
       "0                       Better Career Prospects     No       No   \n",
       "1                       Better Career Prospects     No       No   \n",
       "2                       Better Career Prospects     No       No   \n",
       "3                       Better Career Prospects     No       No   \n",
       "4                       Better Career Prospects     No       No   \n",
       "\n",
       "  Newspaper Article X Education Forums Newspaper Digital Advertisement  \\\n",
       "0                No                 No        No                    No   \n",
       "1                No                 No        No                    No   \n",
       "2                No                 No        No                    No   \n",
       "3                No                 No        No                    No   \n",
       "4                No                 No        No                    No   \n",
       "\n",
       "  Through Recommendations Receive More Updates About Our Courses  \\\n",
       "0                      No                                     No   \n",
       "1                      No                                     No   \n",
       "2                      No                                     No   \n",
       "3                      No                                     No   \n",
       "4                      No                                     No   \n",
       "\n",
       "                                  Tags      Lead Quality  \\\n",
       "0          Interested in other courses  Low in Relevance   \n",
       "1                              Ringing               NaN   \n",
       "2  Will revert after reading the email          Might be   \n",
       "3                              Ringing          Not Sure   \n",
       "4  Will revert after reading the email          Might be   \n",
       "\n",
       "  Update me on Supply Chain Content Get updates on DM Content    Lead Profile  \\\n",
       "0                                No                        No          Select   \n",
       "1                                No                        No          Select   \n",
       "2                                No                        No  Potential Lead   \n",
       "3                                No                        No          Select   \n",
       "4                                No                        No          Select   \n",
       "\n",
       "     City Asymmetrique Activity Index Asymmetrique Profile Index  \\\n",
       "0  Select                   02.Medium                  02.Medium   \n",
       "1  Select                   02.Medium                  02.Medium   \n",
       "2  Mumbai                   02.Medium                    01.High   \n",
       "3  Mumbai                   02.Medium                    01.High   \n",
       "4  Mumbai                   02.Medium                    01.High   \n",
       "\n",
       "   Asymmetrique Activity Score  Asymmetrique Profile Score  \\\n",
       "0                    15.000000                   15.000000   \n",
       "1                    15.000000                   15.000000   \n",
       "2                    14.000000                   20.000000   \n",
       "3                    13.000000                   17.000000   \n",
       "4                    15.000000                   18.000000   \n",
       "\n",
       "  I agree to pay the amount through cheque  \\\n",
       "0                                       No   \n",
       "1                                       No   \n",
       "2                                       No   \n",
       "3                                       No   \n",
       "4                                       No   \n",
       "\n",
       "  A free copy of Mastering The Interview Last Notable Activity  \n",
       "0                                     No              Modified  \n",
       "1                                     No          Email Opened  \n",
       "2                                    Yes          Email Opened  \n",
       "3                                     No              Modified  \n",
       "4                                     No              Modified  "
      ]
     },
     "execution_count": 3,
     "metadata": {},
     "output_type": "execute_result"
    }
   ],
   "source": [
    "Xed.head()"
   ]
  },
  {
   "cell_type": "code",
   "execution_count": 4,
   "metadata": {},
   "outputs": [
    {
     "data": {
      "text/plain": [
       "(9240, 37)"
      ]
     },
     "execution_count": 4,
     "metadata": {},
     "output_type": "execute_result"
    }
   ],
   "source": [
    "Xed.shape"
   ]
  },
  {
   "cell_type": "code",
   "execution_count": 5,
   "metadata": {},
   "outputs": [
    {
     "data": {
      "text/plain": [
       "341880"
      ]
     },
     "execution_count": 5,
     "metadata": {},
     "output_type": "execute_result"
    }
   ],
   "source": [
    "Xed.size"
   ]
  },
  {
   "cell_type": "code",
   "execution_count": 6,
   "metadata": {},
   "outputs": [
    {
     "name": "stdout",
     "output_type": "stream",
     "text": [
      "<class 'pandas.core.frame.DataFrame'>\n",
      "RangeIndex: 9240 entries, 0 to 9239\n",
      "Data columns (total 37 columns):\n",
      " #   Column                                         Non-Null Count  Dtype  \n",
      "---  ------                                         --------------  -----  \n",
      " 0   Prospect ID                                    9240 non-null   object \n",
      " 1   Lead Number                                    9240 non-null   int64  \n",
      " 2   Lead Origin                                    9240 non-null   object \n",
      " 3   Lead Source                                    9204 non-null   object \n",
      " 4   Do Not Email                                   9240 non-null   object \n",
      " 5   Do Not Call                                    9240 non-null   object \n",
      " 6   Converted                                      9240 non-null   int64  \n",
      " 7   TotalVisits                                    9103 non-null   float64\n",
      " 8   Total Time Spent on Website                    9240 non-null   int64  \n",
      " 9   Page Views Per Visit                           9103 non-null   float64\n",
      " 10  Last Activity                                  9137 non-null   object \n",
      " 11  Country                                        6779 non-null   object \n",
      " 12  Specialization                                 7802 non-null   object \n",
      " 13  How did you hear about X Education             7033 non-null   object \n",
      " 14  What is your current occupation                6550 non-null   object \n",
      " 15  What matters most to you in choosing a course  6531 non-null   object \n",
      " 16  Search                                         9240 non-null   object \n",
      " 17  Magazine                                       9240 non-null   object \n",
      " 18  Newspaper Article                              9240 non-null   object \n",
      " 19  X Education Forums                             9240 non-null   object \n",
      " 20  Newspaper                                      9240 non-null   object \n",
      " 21  Digital Advertisement                          9240 non-null   object \n",
      " 22  Through Recommendations                        9240 non-null   object \n",
      " 23  Receive More Updates About Our Courses         9240 non-null   object \n",
      " 24  Tags                                           5887 non-null   object \n",
      " 25  Lead Quality                                   4473 non-null   object \n",
      " 26  Update me on Supply Chain Content              9240 non-null   object \n",
      " 27  Get updates on DM Content                      9240 non-null   object \n",
      " 28  Lead Profile                                   6531 non-null   object \n",
      " 29  City                                           7820 non-null   object \n",
      " 30  Asymmetrique Activity Index                    5022 non-null   object \n",
      " 31  Asymmetrique Profile Index                     5022 non-null   object \n",
      " 32  Asymmetrique Activity Score                    5022 non-null   float64\n",
      " 33  Asymmetrique Profile Score                     5022 non-null   float64\n",
      " 34  I agree to pay the amount through cheque       9240 non-null   object \n",
      " 35  A free copy of Mastering The Interview         9240 non-null   object \n",
      " 36  Last Notable Activity                          9240 non-null   object \n",
      "dtypes: float64(4), int64(3), object(30)\n",
      "memory usage: 2.6+ MB\n"
     ]
    }
   ],
   "source": [
    "Xed.info(verbose=True, null_counts=True)"
   ]
  },
  {
   "cell_type": "code",
   "execution_count": 7,
   "metadata": {
    "scrolled": true
   },
   "outputs": [
    {
     "data": {
      "text/html": [
       "<div>\n",
       "<style scoped>\n",
       "    .dataframe tbody tr th:only-of-type {\n",
       "        vertical-align: middle;\n",
       "    }\n",
       "\n",
       "    .dataframe tbody tr th {\n",
       "        vertical-align: top;\n",
       "    }\n",
       "\n",
       "    .dataframe thead th {\n",
       "        text-align: right;\n",
       "    }\n",
       "</style>\n",
       "<table border=\"1\" class=\"dataframe\">\n",
       "  <thead>\n",
       "    <tr style=\"text-align: right;\">\n",
       "      <th></th>\n",
       "      <th>Lead Number</th>\n",
       "      <th>Converted</th>\n",
       "      <th>TotalVisits</th>\n",
       "      <th>Total Time Spent on Website</th>\n",
       "      <th>Page Views Per Visit</th>\n",
       "      <th>Asymmetrique Activity Score</th>\n",
       "      <th>Asymmetrique Profile Score</th>\n",
       "    </tr>\n",
       "  </thead>\n",
       "  <tbody>\n",
       "    <tr>\n",
       "      <th>count</th>\n",
       "      <td>9240.000000</td>\n",
       "      <td>9240.000000</td>\n",
       "      <td>9103.000000</td>\n",
       "      <td>9240.000000</td>\n",
       "      <td>9103.000000</td>\n",
       "      <td>5022.000000</td>\n",
       "      <td>5022.000000</td>\n",
       "    </tr>\n",
       "    <tr>\n",
       "      <th>mean</th>\n",
       "      <td>617188.435606</td>\n",
       "      <td>0.385390</td>\n",
       "      <td>3.445238</td>\n",
       "      <td>487.698268</td>\n",
       "      <td>2.362820</td>\n",
       "      <td>14.306252</td>\n",
       "      <td>16.344883</td>\n",
       "    </tr>\n",
       "    <tr>\n",
       "      <th>std</th>\n",
       "      <td>23405.995698</td>\n",
       "      <td>0.486714</td>\n",
       "      <td>4.854853</td>\n",
       "      <td>548.021466</td>\n",
       "      <td>2.161418</td>\n",
       "      <td>1.386694</td>\n",
       "      <td>1.811395</td>\n",
       "    </tr>\n",
       "    <tr>\n",
       "      <th>min</th>\n",
       "      <td>579533.000000</td>\n",
       "      <td>0.000000</td>\n",
       "      <td>0.000000</td>\n",
       "      <td>0.000000</td>\n",
       "      <td>0.000000</td>\n",
       "      <td>7.000000</td>\n",
       "      <td>11.000000</td>\n",
       "    </tr>\n",
       "    <tr>\n",
       "      <th>25%</th>\n",
       "      <td>596484.500000</td>\n",
       "      <td>0.000000</td>\n",
       "      <td>1.000000</td>\n",
       "      <td>12.000000</td>\n",
       "      <td>1.000000</td>\n",
       "      <td>14.000000</td>\n",
       "      <td>15.000000</td>\n",
       "    </tr>\n",
       "    <tr>\n",
       "      <th>50%</th>\n",
       "      <td>615479.000000</td>\n",
       "      <td>0.000000</td>\n",
       "      <td>3.000000</td>\n",
       "      <td>248.000000</td>\n",
       "      <td>2.000000</td>\n",
       "      <td>14.000000</td>\n",
       "      <td>16.000000</td>\n",
       "    </tr>\n",
       "    <tr>\n",
       "      <th>75%</th>\n",
       "      <td>637387.250000</td>\n",
       "      <td>1.000000</td>\n",
       "      <td>5.000000</td>\n",
       "      <td>936.000000</td>\n",
       "      <td>3.000000</td>\n",
       "      <td>15.000000</td>\n",
       "      <td>18.000000</td>\n",
       "    </tr>\n",
       "    <tr>\n",
       "      <th>max</th>\n",
       "      <td>660737.000000</td>\n",
       "      <td>1.000000</td>\n",
       "      <td>251.000000</td>\n",
       "      <td>2272.000000</td>\n",
       "      <td>55.000000</td>\n",
       "      <td>18.000000</td>\n",
       "      <td>20.000000</td>\n",
       "    </tr>\n",
       "  </tbody>\n",
       "</table>\n",
       "</div>"
      ],
      "text/plain": [
       "        Lead Number   Converted  TotalVisits  Total Time Spent on Website  \\\n",
       "count   9240.000000 9240.000000  9103.000000                  9240.000000   \n",
       "mean  617188.435606    0.385390     3.445238                   487.698268   \n",
       "std    23405.995698    0.486714     4.854853                   548.021466   \n",
       "min   579533.000000    0.000000     0.000000                     0.000000   \n",
       "25%   596484.500000    0.000000     1.000000                    12.000000   \n",
       "50%   615479.000000    0.000000     3.000000                   248.000000   \n",
       "75%   637387.250000    1.000000     5.000000                   936.000000   \n",
       "max   660737.000000    1.000000   251.000000                  2272.000000   \n",
       "\n",
       "       Page Views Per Visit  Asymmetrique Activity Score  \\\n",
       "count           9103.000000                  5022.000000   \n",
       "mean               2.362820                    14.306252   \n",
       "std                2.161418                     1.386694   \n",
       "min                0.000000                     7.000000   \n",
       "25%                1.000000                    14.000000   \n",
       "50%                2.000000                    14.000000   \n",
       "75%                3.000000                    15.000000   \n",
       "max               55.000000                    18.000000   \n",
       "\n",
       "       Asymmetrique Profile Score  \n",
       "count                 5022.000000  \n",
       "mean                    16.344883  \n",
       "std                      1.811395  \n",
       "min                     11.000000  \n",
       "25%                     15.000000  \n",
       "50%                     16.000000  \n",
       "75%                     18.000000  \n",
       "max                     20.000000  "
      ]
     },
     "execution_count": 7,
     "metadata": {},
     "output_type": "execute_result"
    }
   ],
   "source": [
    "Xed.describe()"
   ]
  },
  {
   "cell_type": "code",
   "execution_count": 8,
   "metadata": {},
   "outputs": [
    {
     "data": {
      "text/plain": [
       "Index(['Prospect ID', 'Lead Number', 'Lead Origin', 'Lead Source',\n",
       "       'Do Not Email', 'Do Not Call', 'Converted', 'TotalVisits',\n",
       "       'Total Time Spent on Website', 'Page Views Per Visit', 'Last Activity',\n",
       "       'Country', 'Specialization', 'How did you hear about X Education',\n",
       "       'What is your current occupation',\n",
       "       'What matters most to you in choosing a course', 'Search', 'Magazine',\n",
       "       'Newspaper Article', 'X Education Forums', 'Newspaper',\n",
       "       'Digital Advertisement', 'Through Recommendations',\n",
       "       'Receive More Updates About Our Courses', 'Tags', 'Lead Quality',\n",
       "       'Update me on Supply Chain Content', 'Get updates on DM Content',\n",
       "       'Lead Profile', 'City', 'Asymmetrique Activity Index',\n",
       "       'Asymmetrique Profile Index', 'Asymmetrique Activity Score',\n",
       "       'Asymmetrique Profile Score',\n",
       "       'I agree to pay the amount through cheque',\n",
       "       'A free copy of Mastering The Interview', 'Last Notable Activity'],\n",
       "      dtype='object')"
      ]
     },
     "execution_count": 8,
     "metadata": {},
     "output_type": "execute_result"
    }
   ],
   "source": [
    "Xed.columns"
   ]
  },
  {
   "cell_type": "markdown",
   "metadata": {},
   "source": [
    "## Data Cleaning"
   ]
  },
  {
   "cell_type": "code",
   "execution_count": 9,
   "metadata": {
    "scrolled": true
   },
   "outputs": [
    {
     "data": {
      "text/plain": [
       "Prospect ID                                         0\n",
       "I agree to pay the amount through cheque            0\n",
       "Get updates on DM Content                           0\n",
       "Update me on Supply Chain Content                   0\n",
       "Receive More Updates About Our Courses              0\n",
       "Through Recommendations                             0\n",
       "Digital Advertisement                               0\n",
       "Newspaper                                           0\n",
       "X Education Forums                                  0\n",
       "A free copy of Mastering The Interview              0\n",
       "Magazine                                            0\n",
       "Search                                              0\n",
       "Newspaper Article                                   0\n",
       "Last Notable Activity                               0\n",
       "Lead Number                                         0\n",
       "Lead Origin                                         0\n",
       "Total Time Spent on Website                         0\n",
       "Converted                                           0\n",
       "Do Not Call                                         0\n",
       "Do Not Email                                        0\n",
       "Lead Source                                        36\n",
       "Last Activity                                     103\n",
       "Page Views Per Visit                              137\n",
       "TotalVisits                                       137\n",
       "City                                             1420\n",
       "Specialization                                   1438\n",
       "How did you hear about X Education               2207\n",
       "Country                                          2461\n",
       "What is your current occupation                  2690\n",
       "Lead Profile                                     2709\n",
       "What matters most to you in choosing a course    2709\n",
       "Tags                                             3353\n",
       "Asymmetrique Activity Index                      4218\n",
       "Asymmetrique Profile Index                       4218\n",
       "Asymmetrique Activity Score                      4218\n",
       "Asymmetrique Profile Score                       4218\n",
       "Lead Quality                                     4767\n",
       "dtype: int64"
      ]
     },
     "execution_count": 9,
     "metadata": {},
     "output_type": "execute_result"
    }
   ],
   "source": [
    "#Number columns null values\n",
    "count=Xed.isnull().sum().sort_values(ascending = True)\n",
    "count"
   ]
  },
  {
   "cell_type": "code",
   "execution_count": 10,
   "metadata": {},
   "outputs": [],
   "source": [
    "#Drop all columns greater than 3000 missing values\n",
    "for col in Xed.columns:\n",
    "    if Xed[col].isnull().sum() > 3000:\n",
    "        Xed.drop(col, 1, inplace=True)"
   ]
  },
  {
   "cell_type": "code",
   "execution_count": 11,
   "metadata": {},
   "outputs": [
    {
     "data": {
      "text/plain": [
       "True"
      ]
     },
     "execution_count": 11,
     "metadata": {},
     "output_type": "execute_result"
    }
   ],
   "source": [
    "#Checking for duplicates\n",
    "sum(Xed.duplicated(subset = 'Prospect ID')) == 0"
   ]
  },
  {
   "cell_type": "code",
   "execution_count": 12,
   "metadata": {},
   "outputs": [
    {
     "data": {
      "text/plain": [
       "True"
      ]
     },
     "execution_count": 12,
     "metadata": {},
     "output_type": "execute_result"
    }
   ],
   "source": [
    "#Checking for duplicates\n",
    "sum(Xed.duplicated(subset = 'Lead Number')) == 0"
   ]
  },
  {
   "cell_type": "markdown",
   "metadata": {},
   "source": [
    "Clearly Prospect ID & Lead Number are two variables that are just indicative of the ID number of the Contacted People & can be dropped."
   ]
  },
  {
   "cell_type": "code",
   "execution_count": 13,
   "metadata": {},
   "outputs": [],
   "source": [
    "Xed.drop(['Lead Number'], axis = 1, inplace = True)\n",
    "Xed.drop(['Prospect ID'], axis = 1, inplace = True)"
   ]
  },
  {
   "cell_type": "code",
   "execution_count": 14,
   "metadata": {},
   "outputs": [
    {
     "data": {
      "text/plain": [
       "India                  70.259740\n",
       "NaN                    26.634199\n",
       "United States           0.746753\n",
       "United Arab Emirates    0.573593\n",
       "Singapore               0.259740\n",
       "Saudi Arabia            0.227273\n",
       "United Kingdom          0.162338\n",
       "Australia               0.140693\n",
       "Qatar                   0.108225\n",
       "Hong Kong               0.075758\n",
       "Bahrain                 0.075758\n",
       "France                  0.064935\n",
       "Oman                    0.064935\n",
       "unknown                 0.054113\n",
       "Kuwait                  0.043290\n",
       "Canada                  0.043290\n",
       "Germany                 0.043290\n",
       "South Africa            0.043290\n",
       "Nigeria                 0.043290\n",
       "Sweden                  0.032468\n",
       "China                   0.021645\n",
       "Italy                   0.021645\n",
       "Asia/Pacific Region     0.021645\n",
       "Netherlands             0.021645\n",
       "Uganda                  0.021645\n",
       "Philippines             0.021645\n",
       "Bangladesh              0.021645\n",
       "Ghana                   0.021645\n",
       "Belgium                 0.021645\n",
       "Tanzania                0.010823\n",
       "Malaysia                0.010823\n",
       "Sri Lanka               0.010823\n",
       "Indonesia               0.010823\n",
       "Switzerland             0.010823\n",
       "Russia                  0.010823\n",
       "Denmark                 0.010823\n",
       "Vietnam                 0.010823\n",
       "Kenya                   0.010823\n",
       "Liberia                 0.010823\n",
       "Name: Country, dtype: float64"
      ]
     },
     "execution_count": 14,
     "metadata": {},
     "output_type": "execute_result"
    }
   ],
   "source": [
    "Xed.Country.value_counts(normalize = True, dropna = False) * 100"
   ]
  },
  {
   "cell_type": "code",
   "execution_count": 15,
   "metadata": {},
   "outputs": [
    {
     "data": {
      "text/plain": [
       "Mumbai                        34.870130\n",
       "Select                        24.339827\n",
       "NaN                           15.367965\n",
       "Thane & Outskirts              8.138528\n",
       "Other Cities                   7.424242\n",
       "Other Cities of Maharashtra    4.945887\n",
       "Other Metro Cities             4.112554\n",
       "Tier II Cities                 0.800866\n",
       "Name: City, dtype: float64"
      ]
     },
     "execution_count": 15,
     "metadata": {},
     "output_type": "execute_result"
    }
   ],
   "source": [
    "Xed.City.value_counts(normalize = True, dropna = False) * 100"
   ]
  },
  {
   "cell_type": "markdown",
   "metadata": {},
   "source": [
    "Also we can drop 'City' and 'Country' as it is not going to be very helpful."
   ]
  },
  {
   "cell_type": "code",
   "execution_count": 16,
   "metadata": {},
   "outputs": [],
   "source": [
    "Xed.drop(['City'], axis = 1, inplace = True)\n",
    "Xed.drop(['Country'], axis = 1, inplace = True)"
   ]
  },
  {
   "cell_type": "code",
   "execution_count": 17,
   "metadata": {},
   "outputs": [
    {
     "data": {
      "text/plain": [
       "Lead Origin                                      0.000000\n",
       "I agree to pay the amount through cheque         0.000000\n",
       "Get updates on DM Content                        0.000000\n",
       "Update me on Supply Chain Content                0.000000\n",
       "Receive More Updates About Our Courses           0.000000\n",
       "Through Recommendations                          0.000000\n",
       "Digital Advertisement                            0.000000\n",
       "Newspaper                                        0.000000\n",
       "X Education Forums                               0.000000\n",
       "Newspaper Article                                0.000000\n",
       "Magazine                                         0.000000\n",
       "A free copy of Mastering The Interview           0.000000\n",
       "Search                                           0.000000\n",
       "Total Time Spent on Website                      0.000000\n",
       "Converted                                        0.000000\n",
       "Do Not Call                                      0.000000\n",
       "Do Not Email                                     0.000000\n",
       "Last Notable Activity                            0.000000\n",
       "Lead Source                                      0.390000\n",
       "Last Activity                                    1.110000\n",
       "Page Views Per Visit                             1.480000\n",
       "TotalVisits                                      1.480000\n",
       "Specialization                                  15.560000\n",
       "How did you hear about X Education              23.890000\n",
       "What is your current occupation                 29.110000\n",
       "Lead Profile                                    29.320000\n",
       "What matters most to you in choosing a course   29.320000\n",
       "dtype: float64"
      ]
     },
     "execution_count": 17,
     "metadata": {},
     "output_type": "execute_result"
    }
   ],
   "source": [
    "#Recheck coulmns with null values in %\n",
    "round(Xed.isnull().mean()*100,2).sort_values(ascending = True)\n"
   ]
  },
  {
   "cell_type": "markdown",
   "metadata": {},
   "source": [
    "As 'Select' represents that the particular column was left unchecked, a count of the same would help."
   ]
  },
  {
   "cell_type": "code",
   "execution_count": 18,
   "metadata": {},
   "outputs": [],
   "source": [
    "# Replacing 'Select' with NaN (Since it means no option is selected)\n",
    "Xed = Xed.replace('select',np.nan)"
   ]
  },
  {
   "cell_type": "code",
   "execution_count": 19,
   "metadata": {},
   "outputs": [],
   "source": [
    "#Name: Specialization, dtype: int64\n",
    "#Name: How did you hear about X Education, dtype: int64\n",
    "#Name: Lead Profile, dtype: int64\n",
    "\n",
    "## The above 3 consists 'Select'. Thus, analyze them seperately."
   ]
  },
  {
   "cell_type": "code",
   "execution_count": 20,
   "metadata": {},
   "outputs": [
    {
     "data": {
      "text/plain": [
       "Lead Origin                                         5\n",
       "Lead Source                                        21\n",
       "Do Not Email                                        2\n",
       "Do Not Call                                         2\n",
       "Converted                                           2\n",
       "TotalVisits                                        41\n",
       "Total Time Spent on Website                      1731\n",
       "Page Views Per Visit                              114\n",
       "Last Activity                                      17\n",
       "Specialization                                     19\n",
       "How did you hear about X Education                 10\n",
       "What is your current occupation                     6\n",
       "What matters most to you in choosing a course       3\n",
       "Search                                              2\n",
       "Magazine                                            1\n",
       "Newspaper Article                                   2\n",
       "X Education Forums                                  2\n",
       "Newspaper                                           2\n",
       "Digital Advertisement                               2\n",
       "Through Recommendations                             2\n",
       "Receive More Updates About Our Courses              1\n",
       "Update me on Supply Chain Content                   1\n",
       "Get updates on DM Content                           1\n",
       "Lead Profile                                        6\n",
       "I agree to pay the amount through cheque            1\n",
       "A free copy of Mastering The Interview              2\n",
       "Last Notable Activity                              16\n",
       "dtype: int64"
      ]
     },
     "execution_count": 20,
     "metadata": {},
     "output_type": "execute_result"
    }
   ],
   "source": [
    "Xed.nunique()"
   ]
  },
  {
   "cell_type": "code",
   "execution_count": 21,
   "metadata": {},
   "outputs": [
    {
     "data": {
      "text/plain": [
       "Lead Origin                                      0.000000\n",
       "Lead Source                                      0.390000\n",
       "Do Not Email                                     0.000000\n",
       "Do Not Call                                      0.000000\n",
       "Converted                                        0.000000\n",
       "TotalVisits                                      1.480000\n",
       "Total Time Spent on Website                      0.000000\n",
       "Page Views Per Visit                             1.480000\n",
       "Last Activity                                    1.110000\n",
       "Specialization                                  15.560000\n",
       "How did you hear about X Education              23.890000\n",
       "What is your current occupation                 29.110000\n",
       "What matters most to you in choosing a course   29.320000\n",
       "Search                                           0.000000\n",
       "Magazine                                         0.000000\n",
       "Newspaper Article                                0.000000\n",
       "X Education Forums                               0.000000\n",
       "Newspaper                                        0.000000\n",
       "Digital Advertisement                            0.000000\n",
       "Through Recommendations                          0.000000\n",
       "Receive More Updates About Our Courses           0.000000\n",
       "Update me on Supply Chain Content                0.000000\n",
       "Get updates on DM Content                        0.000000\n",
       "Lead Profile                                    29.320000\n",
       "I agree to pay the amount through cheque         0.000000\n",
       "A free copy of Mastering The Interview           0.000000\n",
       "Last Notable Activity                            0.000000\n",
       "dtype: float64"
      ]
     },
     "execution_count": 21,
     "metadata": {},
     "output_type": "execute_result"
    }
   ],
   "source": [
    "# Checking the percentage of missing values\n",
    "round(100*(Xed.isnull().sum()/len(Xed.index)), 2)"
   ]
  },
  {
   "cell_type": "code",
   "execution_count": 22,
   "metadata": {},
   "outputs": [],
   "source": [
    "#dropping cols with more than 45% missing values\n",
    "\n",
    "cols=Xed.columns\n",
    "\n",
    "for i in cols:\n",
    "    if((100*(Xed[i].isnull().sum()/len(Xed.index))) >= 35):\n",
    "        Xed.drop(i, 1, inplace = True)"
   ]
  },
  {
   "cell_type": "code",
   "execution_count": 23,
   "metadata": {},
   "outputs": [
    {
     "data": {
      "text/plain": [
       "Lead Origin                                      0.000000\n",
       "Lead Source                                      0.390000\n",
       "Do Not Email                                     0.000000\n",
       "Do Not Call                                      0.000000\n",
       "Converted                                        0.000000\n",
       "TotalVisits                                      1.480000\n",
       "Total Time Spent on Website                      0.000000\n",
       "Page Views Per Visit                             1.480000\n",
       "Last Activity                                    1.110000\n",
       "Specialization                                  15.560000\n",
       "How did you hear about X Education              23.890000\n",
       "What is your current occupation                 29.110000\n",
       "What matters most to you in choosing a course   29.320000\n",
       "Search                                           0.000000\n",
       "Magazine                                         0.000000\n",
       "Newspaper Article                                0.000000\n",
       "X Education Forums                               0.000000\n",
       "Newspaper                                        0.000000\n",
       "Digital Advertisement                            0.000000\n",
       "Through Recommendations                          0.000000\n",
       "Receive More Updates About Our Courses           0.000000\n",
       "Update me on Supply Chain Content                0.000000\n",
       "Get updates on DM Content                        0.000000\n",
       "Lead Profile                                    29.320000\n",
       "I agree to pay the amount through cheque         0.000000\n",
       "A free copy of Mastering The Interview           0.000000\n",
       "Last Notable Activity                            0.000000\n",
       "dtype: float64"
      ]
     },
     "execution_count": 23,
     "metadata": {},
     "output_type": "execute_result"
    }
   ],
   "source": [
    "# Rechecking the percentage of missing values\n",
    "round(100*(Xed.isnull().sum()/len(Xed.index)), 2)"
   ]
  },
  {
   "cell_type": "markdown",
   "metadata": {},
   "source": [
    "Now we can drop a few more columns here which are not useful"
   ]
  },
  {
   "cell_type": "code",
   "execution_count": 24,
   "metadata": {},
   "outputs": [],
   "source": [
    "#Xed.drop(['X Education Forums', 'Digital Advertisement', 'Through Recommendations'], axis = 1, inplace = True)"
   ]
  },
  {
   "cell_type": "code",
   "execution_count": 25,
   "metadata": {},
   "outputs": [
    {
     "data": {
      "text/plain": [
       "Lead Origin                                      0.000000\n",
       "Lead Source                                      0.390000\n",
       "Do Not Email                                     0.000000\n",
       "Do Not Call                                      0.000000\n",
       "Converted                                        0.000000\n",
       "TotalVisits                                      1.480000\n",
       "Total Time Spent on Website                      0.000000\n",
       "Page Views Per Visit                             1.480000\n",
       "Last Activity                                    1.110000\n",
       "Specialization                                  15.560000\n",
       "How did you hear about X Education              23.890000\n",
       "What is your current occupation                 29.110000\n",
       "What matters most to you in choosing a course   29.320000\n",
       "Search                                           0.000000\n",
       "Magazine                                         0.000000\n",
       "Newspaper Article                                0.000000\n",
       "X Education Forums                               0.000000\n",
       "Newspaper                                        0.000000\n",
       "Digital Advertisement                            0.000000\n",
       "Through Recommendations                          0.000000\n",
       "Receive More Updates About Our Courses           0.000000\n",
       "Update me on Supply Chain Content                0.000000\n",
       "Get updates on DM Content                        0.000000\n",
       "Lead Profile                                    29.320000\n",
       "I agree to pay the amount through cheque         0.000000\n",
       "A free copy of Mastering The Interview           0.000000\n",
       "Last Notable Activity                            0.000000\n",
       "dtype: float64"
      ]
     },
     "execution_count": 25,
     "metadata": {},
     "output_type": "execute_result"
    }
   ],
   "source": [
    "round(100*(Xed.isnull().sum()/len(Xed.index)), 2)"
   ]
  },
  {
   "cell_type": "markdown",
   "metadata": {},
   "source": [
    "## EDA"
   ]
  },
  {
   "cell_type": "code",
   "execution_count": 26,
   "metadata": {},
   "outputs": [
    {
     "data": {
      "text/plain": [
       "Select                               1942\n",
       "Finance Management                    976\n",
       "Human Resource Management             848\n",
       "Marketing Management                  838\n",
       "Operations Management                 503\n",
       "Business Administration               403\n",
       "IT Projects Management                366\n",
       "Supply Chain Management               349\n",
       "Banking, Investment And Insurance     338\n",
       "Media and Advertising                 203\n",
       "Travel and Tourism                    203\n",
       "International Business                178\n",
       "Healthcare Management                 159\n",
       "Hospitality Management                114\n",
       "E-COMMERCE                            112\n",
       "Retail Management                     100\n",
       "Rural and Agribusiness                 73\n",
       "E-Business                             57\n",
       "Services Excellence                    40\n",
       "Name: Specialization, dtype: int64"
      ]
     },
     "execution_count": 26,
     "metadata": {},
     "output_type": "execute_result"
    }
   ],
   "source": [
    "Xed['Specialization'].astype('category').value_counts()"
   ]
  },
  {
   "cell_type": "code",
   "execution_count": 27,
   "metadata": {
    "scrolled": false
   },
   "outputs": [
    {
     "data": {
      "image/png": "[encoded data removed]",
      "text/plain": [
       "<Figure size 1080x360 with 1 Axes>"
      ]
     },
     "metadata": {
      "needs_background": "light"
     },
     "output_type": "display_data"
    }
   ],
   "source": [
    "plt.figure(figsize=(15,5))\n",
    "s1=sns.countplot(Xed.Specialization, hue=Xed.Converted)\n",
    "s1.set_xticklabels(s1.get_xticklabels(),rotation=90)\n",
    "plt.show()"
   ]
  },
  {
   "cell_type": "markdown",
   "metadata": {},
   "source": [
    "From above plot, the Specialization from any Management is high. Thus, the column should not be dropped."
   ]
  },
  {
   "cell_type": "code",
   "execution_count": 28,
   "metadata": {},
   "outputs": [],
   "source": [
    "# categorize all management courses\n",
    "Xed.loc[(Xed.Specialization == 'Finance Management') | (Xed.Specialization == 'Human Resource Management') | \n",
    "       (Xed.Specialization == 'Marketing Management') |  (Xed.Specialization == 'Operations Management') |\n",
    "       (Xed.Specialization == 'IT Projects Management') | (Xed.Specialization == 'Supply Chain Management') |\n",
    "       (Xed.Specialization == 'Healthcare Management') | (Xed.Specialization == 'Hospitality Management') |\n",
    "       (Xed.Specialization == 'Retail Management') , 'Specialization'] = 'Management Specializations'\n",
    "\n",
    "# categorize all busines courses\n",
    "Xed.loc[(Xed.Specialization == 'Business Administration') | (Xed.Specialization == 'International Business') | \n",
    "       (Xed.Specialization == 'Rural and Agribusiness') | (Xed.Specialization == 'E-Business') \n",
    "        , 'Specialization'] = 'Business Specializations'\n",
    "\n",
    "# categorize all industry courses\n",
    "Xed.loc[(Xed.Specialization == 'Banking, Investment And Insurance') | (Xed.Specialization == 'Media and Advertising') |\n",
    "       (Xed.Specialization == 'Travel and Tourism') | (Xed.Specialization == 'Services Excellence') |\n",
    "       (Xed.Specialization == 'E-COMMERCE'), 'Specialization'] = 'Industry Specializations'"
   ]
  },
  {
   "cell_type": "code",
   "execution_count": 29,
   "metadata": {},
   "outputs": [
    {
     "data": {
      "text/plain": [
       "Management Specializations   54.511664\n",
       "Select                       24.891054\n",
       "Industry Specializations     11.484235\n",
       "Business Specializations      9.113048\n",
       "Name: Specialization, dtype: float64"
      ]
     },
     "execution_count": 29,
     "metadata": {},
     "output_type": "execute_result"
    }
   ],
   "source": [
    "Xed.Specialization.value_counts(normalize = True) * 100"
   ]
  },
  {
   "cell_type": "code",
   "execution_count": 30,
   "metadata": {
    "scrolled": true
   },
   "outputs": [
    {
     "data": {
      "text/plain": [
       "Select                   5043\n",
       "Online Search             808\n",
       "Word Of Mouth             348\n",
       "Student of SomeSchool     310\n",
       "Other                     186\n",
       "Multiple Sources          152\n",
       "Advertisements             70\n",
       "Social Media               67\n",
       "Email                      26\n",
       "SMS                        23\n",
       "Name: How did you hear about X Education, dtype: int64"
      ]
     },
     "execution_count": 30,
     "metadata": {},
     "output_type": "execute_result"
    }
   ],
   "source": [
    "Xed['How did you hear about X Education'].astype('category').value_counts()"
   ]
  },
  {
   "cell_type": "code",
   "execution_count": 31,
   "metadata": {
    "scrolled": true
   },
   "outputs": [
    {
     "data": {
      "text/plain": [
       "Select                         4146\n",
       "Potential Lead                 1613\n",
       "Other Leads                     487\n",
       "Student of SomeSchool           241\n",
       "Lateral Student                  24\n",
       "Dual Specialization Student      20\n",
       "Name: Lead Profile, dtype: int64"
      ]
     },
     "execution_count": 31,
     "metadata": {},
     "output_type": "execute_result"
    }
   ],
   "source": [
    "Xed['Lead Profile'].astype('category').value_counts()"
   ]
  },
  {
   "cell_type": "code",
   "execution_count": 32,
   "metadata": {},
   "outputs": [],
   "source": [
    "Xed.drop(['Lead Profile','How did you hear about X Education'],  axis = 1, inplace = True)"
   ]
  },
  {
   "cell_type": "code",
   "execution_count": 33,
   "metadata": {},
   "outputs": [
    {
     "data": {
      "text/plain": [
       "Lead Origin                                         0\n",
       "Lead Source                                        36\n",
       "Do Not Email                                        0\n",
       "Do Not Call                                         0\n",
       "Converted                                           0\n",
       "TotalVisits                                       137\n",
       "Total Time Spent on Website                         0\n",
       "Page Views Per Visit                              137\n",
       "Last Activity                                     103\n",
       "Specialization                                   1438\n",
       "What is your current occupation                  2690\n",
       "What matters most to you in choosing a course    2709\n",
       "Search                                              0\n",
       "Magazine                                            0\n",
       "Newspaper Article                                   0\n",
       "X Education Forums                                  0\n",
       "Newspaper                                           0\n",
       "Digital Advertisement                               0\n",
       "Through Recommendations                             0\n",
       "Receive More Updates About Our Courses              0\n",
       "Update me on Supply Chain Content                   0\n",
       "Get updates on DM Content                           0\n",
       "I agree to pay the amount through cheque            0\n",
       "A free copy of Mastering The Interview              0\n",
       "Last Notable Activity                               0\n",
       "dtype: int64"
      ]
     },
     "execution_count": 33,
     "metadata": {},
     "output_type": "execute_result"
    }
   ],
   "source": [
    "Xed.isnull().sum()"
   ]
  },
  {
   "cell_type": "code",
   "execution_count": 35,
   "metadata": {},
   "outputs": [],
   "source": [
    "Xed['Specialization'] = Xed['Specialization'].replace(np.nan, 'Not Specified')"
   ]
  },
  {
   "cell_type": "code",
   "execution_count": 36,
   "metadata": {},
   "outputs": [],
   "source": [
    "# Drop the null values rows in the column 'Specialization'\n",
    "\n",
    "Xed = Xed[~pd.isnull(Xed['Specialization'])]"
   ]
  },
  {
   "cell_type": "code",
   "execution_count": 37,
   "metadata": {},
   "outputs": [
    {
     "data": {
      "image/png": "[encoded data removed]",
      "text/plain": [
       "<Figure size 1080x360 with 1 Axes>"
      ]
     },
     "metadata": {
      "needs_background": "light"
     },
     "output_type": "display_data"
    }
   ],
   "source": [
    "#Visualizing the change\n",
    "plt.figure(figsize=(15,5))\n",
    "s1=sns.countplot(Xed.Specialization, hue=Xed.Converted)\n",
    "s1.set_xticklabels(s1.get_xticklabels(),rotation=90)\n",
    "plt.show()"
   ]
  },
  {
   "cell_type": "code",
   "execution_count": 38,
   "metadata": {},
   "outputs": [
    {
     "data": {
      "text/plain": [
       "Unemployed              5600\n",
       "NaN                     2690\n",
       "Working Professional     706\n",
       "Student                  210\n",
       "Other                     16\n",
       "Housewife                 10\n",
       "Businessman                8\n",
       "Name: What is your current occupation, dtype: int64"
      ]
     },
     "execution_count": 38,
     "metadata": {},
     "output_type": "execute_result"
    }
   ],
   "source": [
    "Xed['What is your current occupation'].value_counts(dropna=False)"
   ]
  },
  {
   "cell_type": "code",
   "execution_count": 39,
   "metadata": {},
   "outputs": [],
   "source": [
    "#Assuming Nan to be unemployed\n",
    "\n",
    "Xed['What is your current occupation'] = Xed['What is your current occupation'].replace(np.nan, 'Unemployed')"
   ]
  },
  {
   "cell_type": "code",
   "execution_count": 40,
   "metadata": {},
   "outputs": [
    {
     "data": {
      "text/plain": [
       "Unemployed              8290\n",
       "Working Professional     706\n",
       "Student                  210\n",
       "Other                     16\n",
       "Housewife                 10\n",
       "Businessman                8\n",
       "Name: What is your current occupation, dtype: int64"
      ]
     },
     "execution_count": 40,
     "metadata": {},
     "output_type": "execute_result"
    }
   ],
   "source": [
    "#Rechecking count of values\n",
    "Xed['What is your current occupation'].value_counts(dropna=False)"
   ]
  },
  {
   "cell_type": "code",
   "execution_count": 41,
   "metadata": {},
   "outputs": [],
   "source": [
    "Xed = Xed[~pd.isnull(Xed['What is your current occupation'])]"
   ]
  },
  {
   "cell_type": "code",
   "execution_count": 42,
   "metadata": {},
   "outputs": [
    {
     "data": {
      "image/png": "[encoded data removed]",
      "text/plain": [
       "<Figure size 432x288 with 1 Axes>"
      ]
     },
     "metadata": {
      "needs_background": "light"
     },
     "output_type": "display_data"
    }
   ],
   "source": [
    "#Visualizing count of Variable based on Converted value\n",
    "\n",
    "s1=sns.countplot(Xed['What is your current occupation'], hue=Xed.Converted)\n",
    "s1.set_xticklabels(s1.get_xticklabels(),rotation=90)\n",
    "plt.show()"
   ]
  },
  {
   "cell_type": "markdown",
   "metadata": {},
   "source": [
    "Inference: Unemployed as well as Working professionals have a high chance of joining the course"
   ]
  },
  {
   "cell_type": "code",
   "execution_count": 43,
   "metadata": {},
   "outputs": [
    {
     "data": {
      "text/plain": [
       "Better Career Prospects      6528\n",
       "Flexibility & Convenience       2\n",
       "Other                           1\n",
       "Name: What matters most to you in choosing a course, dtype: int64"
      ]
     },
     "execution_count": 43,
     "metadata": {},
     "output_type": "execute_result"
    }
   ],
   "source": [
    "Xed['What matters most to you in choosing a course'].value_counts()"
   ]
  },
  {
   "cell_type": "code",
   "execution_count": 44,
   "metadata": {},
   "outputs": [
    {
     "data": {
      "image/png": "[encoded data removed]",
      "text/plain": [
       "<Figure size 432x288 with 1 Axes>"
      ]
     },
     "metadata": {
      "needs_background": "light"
     },
     "output_type": "display_data"
    }
   ],
   "source": [
    "s1=sns.countplot(Xed['What matters most to you in choosing a course'], hue=Xed.Converted)\n",
    "s1.set_xticklabels(s1.get_xticklabels(),rotation=90)\n",
    "plt.show()"
   ]
  },
  {
   "cell_type": "markdown",
   "metadata": {},
   "source": [
    "The column 'What matters most to you in choosing a course' can be dropped as Better Career Prospects accounts for majority."
   ]
  },
  {
   "cell_type": "code",
   "execution_count": 45,
   "metadata": {},
   "outputs": [],
   "source": [
    "Xed.drop(['What matters most to you in choosing a course'], axis = 1, inplace=True)"
   ]
  },
  {
   "cell_type": "code",
   "execution_count": 46,
   "metadata": {},
   "outputs": [
    {
     "data": {
      "text/plain": [
       "Lead Origin                                   0\n",
       "Lead Source                                  36\n",
       "Do Not Email                                  0\n",
       "Do Not Call                                   0\n",
       "Converted                                     0\n",
       "TotalVisits                                 137\n",
       "Total Time Spent on Website                   0\n",
       "Page Views Per Visit                        137\n",
       "Last Activity                               103\n",
       "Specialization                                0\n",
       "What is your current occupation               0\n",
       "Search                                        0\n",
       "Magazine                                      0\n",
       "Newspaper Article                             0\n",
       "X Education Forums                            0\n",
       "Newspaper                                     0\n",
       "Digital Advertisement                         0\n",
       "Through Recommendations                       0\n",
       "Receive More Updates About Our Courses        0\n",
       "Update me on Supply Chain Content             0\n",
       "Get updates on DM Content                     0\n",
       "I agree to pay the amount through cheque      0\n",
       "A free copy of Mastering The Interview        0\n",
       "Last Notable Activity                         0\n",
       "dtype: int64"
      ]
     },
     "execution_count": 46,
     "metadata": {},
     "output_type": "execute_result"
    }
   ],
   "source": [
    "#Recheck count of null values\n",
    "Xed.isnull().sum()"
   ]
  },
  {
   "cell_type": "code",
   "execution_count": 47,
   "metadata": {},
   "outputs": [
    {
     "data": {
      "text/plain": [
       "Google               2868\n",
       "Direct Traffic       2543\n",
       "Olark Chat           1755\n",
       "Organic Search       1154\n",
       "Reference             534\n",
       "Welingak Website      142\n",
       "Referral Sites        125\n",
       "Facebook               55\n",
       "NaN                    36\n",
       "bing                    6\n",
       "google                  5\n",
       "Click2call              4\n",
       "Social Media            2\n",
       "Press_Release           2\n",
       "Live Chat               2\n",
       "youtubechannel          1\n",
       "Pay per Click Ads       1\n",
       "blog                    1\n",
       "testone                 1\n",
       "welearnblog_Home        1\n",
       "WeLearn                 1\n",
       "NC_EDM                  1\n",
       "Name: Lead Source, dtype: int64"
      ]
     },
     "execution_count": 47,
     "metadata": {},
     "output_type": "execute_result"
    }
   ],
   "source": [
    "#Value counts of Lead Source column\n",
    "\n",
    "Xed['Lead Source'].value_counts(dropna=False)"
   ]
  },
  {
   "cell_type": "code",
   "execution_count": 48,
   "metadata": {},
   "outputs": [],
   "source": [
    "#Replace Nan with Others\n",
    "Xed['Lead Source'] = Xed['Lead Source'].replace(np.nan,'Others')"
   ]
  },
  {
   "cell_type": "code",
   "execution_count": 49,
   "metadata": {},
   "outputs": [],
   "source": [
    "# Drop the null values rows in the column 'Lead Source'\n",
    "Xed = Xed[~pd.isnull(Xed['Lead Source'])]"
   ]
  },
  {
   "cell_type": "code",
   "execution_count": 50,
   "metadata": {},
   "outputs": [
    {
     "data": {
      "image/png": "[encoded data removed]",
      "text/plain": [
       "<Figure size 1080x360 with 1 Axes>"
      ]
     },
     "metadata": {
      "needs_background": "light"
     },
     "output_type": "display_data"
    }
   ],
   "source": [
    "#Visualize based on Converted value\n",
    "plt.figure(figsize=(15,5))\n",
    "s1=sns.countplot(Xed['Lead Source'], hue=Xed.Converted)\n",
    "s1.set_xticklabels(s1.get_xticklabels(),rotation=90)\n",
    "plt.show()"
   ]
  },
  {
   "cell_type": "markdown",
   "metadata": {},
   "source": [
    "1. Google and Direct Traffic generate maximum traffic.\n",
    "2. To improve overall lead conversion rate, focus should be on improving lead converion of olark chat, organic search, direct traffic, and google leads.\n",
    "3. More leads should be generated from Reference."
   ]
  },
  {
   "cell_type": "code",
   "execution_count": 51,
   "metadata": {
    "scrolled": true
   },
   "outputs": [
    {
     "data": {
      "text/plain": [
       "Email Opened                    3437\n",
       "SMS Sent                        2745\n",
       "Olark Chat Conversation          973\n",
       "Page Visited on Website          640\n",
       "Converted to Lead                428\n",
       "Email Bounced                    326\n",
       "Email Link Clicked               267\n",
       "Form Submitted on Website        116\n",
       "NaN                              103\n",
       "Unreachable                       93\n",
       "Unsubscribed                      61\n",
       "Had a Phone Conversation          30\n",
       "Approached upfront                 9\n",
       "View in browser link Clicked       6\n",
       "Email Marked Spam                  2\n",
       "Email Received                     2\n",
       "Resubscribed to emails             1\n",
       "Visited Booth in Tradeshow         1\n",
       "Name: Last Activity, dtype: int64"
      ]
     },
     "execution_count": 51,
     "metadata": {},
     "output_type": "execute_result"
    }
   ],
   "source": [
    "Xed['Last Activity'].value_counts(dropna=False)"
   ]
  },
  {
   "cell_type": "code",
   "execution_count": 52,
   "metadata": {},
   "outputs": [
    {
     "data": {
      "text/plain": [
       "0.000000      2189\n",
       "2.000000      1680\n",
       "3.000000      1306\n",
       "4.000000      1120\n",
       "5.000000       783\n",
       "6.000000       466\n",
       "1.000000       395\n",
       "7.000000       309\n",
       "8.000000       224\n",
       "9.000000       164\n",
       "NaN            137\n",
       "10.000000      114\n",
       "11.000000       86\n",
       "13.000000       48\n",
       "12.000000       45\n",
       "14.000000       36\n",
       "16.000000       21\n",
       "15.000000       18\n",
       "17.000000       16\n",
       "18.000000       15\n",
       "20.000000       12\n",
       "19.000000        9\n",
       "23.000000        6\n",
       "21.000000        6\n",
       "24.000000        5\n",
       "27.000000        5\n",
       "25.000000        5\n",
       "22.000000        3\n",
       "28.000000        2\n",
       "29.000000        2\n",
       "26.000000        2\n",
       "141.000000       1\n",
       "41.000000        1\n",
       "55.000000        1\n",
       "115.000000       1\n",
       "32.000000        1\n",
       "54.000000        1\n",
       "42.000000        1\n",
       "251.000000       1\n",
       "74.000000        1\n",
       "43.000000        1\n",
       "30.000000        1\n",
       "Name: TotalVisits, dtype: int64"
      ]
     },
     "execution_count": 52,
     "metadata": {},
     "output_type": "execute_result"
    }
   ],
   "source": [
    "Xed['TotalVisits'].value_counts(dropna=False)"
   ]
  },
  {
   "cell_type": "code",
   "execution_count": 53,
   "metadata": {},
   "outputs": [],
   "source": [
    "# Drop the null value rows in the column 'TotalVisits'\n",
    "\n",
    "Xed = Xed[~pd.isnull(Xed['TotalVisits'])]"
   ]
  },
  {
   "cell_type": "code",
   "execution_count": 54,
   "metadata": {},
   "outputs": [
    {
     "data": {
      "text/plain": [
       "Lead Origin                                 0\n",
       "Lead Source                                 0\n",
       "Do Not Email                                0\n",
       "Do Not Call                                 0\n",
       "Converted                                   0\n",
       "TotalVisits                                 0\n",
       "Total Time Spent on Website                 0\n",
       "Page Views Per Visit                        0\n",
       "Last Activity                               0\n",
       "Specialization                              0\n",
       "What is your current occupation             0\n",
       "Search                                      0\n",
       "Magazine                                    0\n",
       "Newspaper Article                           0\n",
       "X Education Forums                          0\n",
       "Newspaper                                   0\n",
       "Digital Advertisement                       0\n",
       "Through Recommendations                     0\n",
       "Receive More Updates About Our Courses      0\n",
       "Update me on Supply Chain Content           0\n",
       "Get updates on DM Content                   0\n",
       "I agree to pay the amount through cheque    0\n",
       "A free copy of Mastering The Interview      0\n",
       "Last Notable Activity                       0\n",
       "dtype: int64"
      ]
     },
     "execution_count": 54,
     "metadata": {},
     "output_type": "execute_result"
    }
   ],
   "source": [
    "Xed.isnull().sum()"
   ]
  },
  {
   "cell_type": "code",
   "execution_count": 55,
   "metadata": {},
   "outputs": [
    {
     "name": "stdout",
     "output_type": "stream",
     "text": [
      "9103\n",
      "0.9851731601731601\n"
     ]
    }
   ],
   "source": [
    "#% of rows retained\n",
    "print(len(Xed.index))\n",
    "print(len(Xed.index)/9240)"
   ]
  },
  {
   "cell_type": "markdown",
   "metadata": {},
   "source": [
    "98% of rows have been retained."
   ]
  },
  {
   "cell_type": "markdown",
   "metadata": {},
   "source": [
    "### Univariate Analysis"
   ]
  },
  {
   "cell_type": "code",
   "execution_count": 56,
   "metadata": {},
   "outputs": [
    {
     "data": {
      "text/html": [
       "<div>\n",
       "<style scoped>\n",
       "    .dataframe tbody tr th:only-of-type {\n",
       "        vertical-align: middle;\n",
       "    }\n",
       "\n",
       "    .dataframe tbody tr th {\n",
       "        vertical-align: top;\n",
       "    }\n",
       "\n",
       "    .dataframe thead th {\n",
       "        text-align: right;\n",
       "    }\n",
       "</style>\n",
       "<table border=\"1\" class=\"dataframe\">\n",
       "  <thead>\n",
       "    <tr style=\"text-align: right;\">\n",
       "      <th></th>\n",
       "      <th>Lead Origin</th>\n",
       "      <th>Lead Source</th>\n",
       "      <th>Do Not Email</th>\n",
       "      <th>Do Not Call</th>\n",
       "      <th>Converted</th>\n",
       "      <th>TotalVisits</th>\n",
       "      <th>Total Time Spent on Website</th>\n",
       "      <th>Page Views Per Visit</th>\n",
       "      <th>Last Activity</th>\n",
       "      <th>Specialization</th>\n",
       "      <th>What is your current occupation</th>\n",
       "      <th>Search</th>\n",
       "      <th>Magazine</th>\n",
       "      <th>Newspaper Article</th>\n",
       "      <th>X Education Forums</th>\n",
       "      <th>Newspaper</th>\n",
       "      <th>Digital Advertisement</th>\n",
       "      <th>Through Recommendations</th>\n",
       "      <th>Receive More Updates About Our Courses</th>\n",
       "      <th>Update me on Supply Chain Content</th>\n",
       "      <th>Get updates on DM Content</th>\n",
       "      <th>I agree to pay the amount through cheque</th>\n",
       "      <th>A free copy of Mastering The Interview</th>\n",
       "      <th>Last Notable Activity</th>\n",
       "    </tr>\n",
       "  </thead>\n",
       "  <tbody>\n",
       "    <tr>\n",
       "      <th>0</th>\n",
       "      <td>API</td>\n",
       "      <td>Olark Chat</td>\n",
       "      <td>No</td>\n",
       "      <td>No</td>\n",
       "      <td>0</td>\n",
       "      <td>0.000000</td>\n",
       "      <td>0</td>\n",
       "      <td>0.000000</td>\n",
       "      <td>Page Visited on Website</td>\n",
       "      <td>Select</td>\n",
       "      <td>Unemployed</td>\n",
       "      <td>No</td>\n",
       "      <td>No</td>\n",
       "      <td>No</td>\n",
       "      <td>No</td>\n",
       "      <td>No</td>\n",
       "      <td>No</td>\n",
       "      <td>No</td>\n",
       "      <td>No</td>\n",
       "      <td>No</td>\n",
       "      <td>No</td>\n",
       "      <td>No</td>\n",
       "      <td>No</td>\n",
       "      <td>Modified</td>\n",
       "    </tr>\n",
       "    <tr>\n",
       "      <th>1</th>\n",
       "      <td>API</td>\n",
       "      <td>Organic Search</td>\n",
       "      <td>No</td>\n",
       "      <td>No</td>\n",
       "      <td>0</td>\n",
       "      <td>5.000000</td>\n",
       "      <td>674</td>\n",
       "      <td>2.500000</td>\n",
       "      <td>Email Opened</td>\n",
       "      <td>Select</td>\n",
       "      <td>Unemployed</td>\n",
       "      <td>No</td>\n",
       "      <td>No</td>\n",
       "      <td>No</td>\n",
       "      <td>No</td>\n",
       "      <td>No</td>\n",
       "      <td>No</td>\n",
       "      <td>No</td>\n",
       "      <td>No</td>\n",
       "      <td>No</td>\n",
       "      <td>No</td>\n",
       "      <td>No</td>\n",
       "      <td>No</td>\n",
       "      <td>Email Opened</td>\n",
       "    </tr>\n",
       "    <tr>\n",
       "      <th>2</th>\n",
       "      <td>Landing Page Submission</td>\n",
       "      <td>Direct Traffic</td>\n",
       "      <td>No</td>\n",
       "      <td>No</td>\n",
       "      <td>1</td>\n",
       "      <td>2.000000</td>\n",
       "      <td>1532</td>\n",
       "      <td>2.000000</td>\n",
       "      <td>Email Opened</td>\n",
       "      <td>Business Specializations</td>\n",
       "      <td>Student</td>\n",
       "      <td>No</td>\n",
       "      <td>No</td>\n",
       "      <td>No</td>\n",
       "      <td>No</td>\n",
       "      <td>No</td>\n",
       "      <td>No</td>\n",
       "      <td>No</td>\n",
       "      <td>No</td>\n",
       "      <td>No</td>\n",
       "      <td>No</td>\n",
       "      <td>No</td>\n",
       "      <td>Yes</td>\n",
       "      <td>Email Opened</td>\n",
       "    </tr>\n",
       "    <tr>\n",
       "      <th>3</th>\n",
       "      <td>Landing Page Submission</td>\n",
       "      <td>Direct Traffic</td>\n",
       "      <td>No</td>\n",
       "      <td>No</td>\n",
       "      <td>0</td>\n",
       "      <td>1.000000</td>\n",
       "      <td>305</td>\n",
       "      <td>1.000000</td>\n",
       "      <td>Unreachable</td>\n",
       "      <td>Industry Specializations</td>\n",
       "      <td>Unemployed</td>\n",
       "      <td>No</td>\n",
       "      <td>No</td>\n",
       "      <td>No</td>\n",
       "      <td>No</td>\n",
       "      <td>No</td>\n",
       "      <td>No</td>\n",
       "      <td>No</td>\n",
       "      <td>No</td>\n",
       "      <td>No</td>\n",
       "      <td>No</td>\n",
       "      <td>No</td>\n",
       "      <td>No</td>\n",
       "      <td>Modified</td>\n",
       "    </tr>\n",
       "    <tr>\n",
       "      <th>4</th>\n",
       "      <td>Landing Page Submission</td>\n",
       "      <td>Google</td>\n",
       "      <td>No</td>\n",
       "      <td>No</td>\n",
       "      <td>1</td>\n",
       "      <td>2.000000</td>\n",
       "      <td>1428</td>\n",
       "      <td>1.000000</td>\n",
       "      <td>Converted to Lead</td>\n",
       "      <td>Select</td>\n",
       "      <td>Unemployed</td>\n",
       "      <td>No</td>\n",
       "      <td>No</td>\n",
       "      <td>No</td>\n",
       "      <td>No</td>\n",
       "      <td>No</td>\n",
       "      <td>No</td>\n",
       "      <td>No</td>\n",
       "      <td>No</td>\n",
       "      <td>No</td>\n",
       "      <td>No</td>\n",
       "      <td>No</td>\n",
       "      <td>No</td>\n",
       "      <td>Modified</td>\n",
       "    </tr>\n",
       "  </tbody>\n",
       "</table>\n",
       "</div>"
      ],
      "text/plain": [
       "               Lead Origin     Lead Source Do Not Email Do Not Call  \\\n",
       "0                      API      Olark Chat           No          No   \n",
       "1                      API  Organic Search           No          No   \n",
       "2  Landing Page Submission  Direct Traffic           No          No   \n",
       "3  Landing Page Submission  Direct Traffic           No          No   \n",
       "4  Landing Page Submission          Google           No          No   \n",
       "\n",
       "   Converted  TotalVisits  Total Time Spent on Website  Page Views Per Visit  \\\n",
       "0          0     0.000000                            0              0.000000   \n",
       "1          0     5.000000                          674              2.500000   \n",
       "2          1     2.000000                         1532              2.000000   \n",
       "3          0     1.000000                          305              1.000000   \n",
       "4          1     2.000000                         1428              1.000000   \n",
       "\n",
       "             Last Activity            Specialization  \\\n",
       "0  Page Visited on Website                    Select   \n",
       "1             Email Opened                    Select   \n",
       "2             Email Opened  Business Specializations   \n",
       "3              Unreachable  Industry Specializations   \n",
       "4        Converted to Lead                    Select   \n",
       "\n",
       "  What is your current occupation Search Magazine Newspaper Article  \\\n",
       "0                      Unemployed     No       No                No   \n",
       "1                      Unemployed     No       No                No   \n",
       "2                         Student     No       No                No   \n",
       "3                      Unemployed     No       No                No   \n",
       "4                      Unemployed     No       No                No   \n",
       "\n",
       "  X Education Forums Newspaper Digital Advertisement Through Recommendations  \\\n",
       "0                 No        No                    No                      No   \n",
       "1                 No        No                    No                      No   \n",
       "2                 No        No                    No                      No   \n",
       "3                 No        No                    No                      No   \n",
       "4                 No        No                    No                      No   \n",
       "\n",
       "  Receive More Updates About Our Courses Update me on Supply Chain Content  \\\n",
       "0                                     No                                No   \n",
       "1                                     No                                No   \n",
       "2                                     No                                No   \n",
       "3                                     No                                No   \n",
       "4                                     No                                No   \n",
       "\n",
       "  Get updates on DM Content I agree to pay the amount through cheque  \\\n",
       "0                        No                                       No   \n",
       "1                        No                                       No   \n",
       "2                        No                                       No   \n",
       "3                        No                                       No   \n",
       "4                        No                                       No   \n",
       "\n",
       "  A free copy of Mastering The Interview Last Notable Activity  \n",
       "0                                     No              Modified  \n",
       "1                                     No          Email Opened  \n",
       "2                                    Yes          Email Opened  \n",
       "3                                     No              Modified  \n",
       "4                                     No              Modified  "
      ]
     },
     "execution_count": 56,
     "metadata": {},
     "output_type": "execute_result"
    }
   ],
   "source": [
    "Xed.head()"
   ]
  },
  {
   "cell_type": "code",
   "execution_count": 57,
   "metadata": {},
   "outputs": [
    {
     "name": "stdout",
     "output_type": "stream",
     "text": [
      "<class 'pandas.core.frame.DataFrame'>\n",
      "Int64Index: 9103 entries, 0 to 9239\n",
      "Data columns (total 24 columns):\n",
      " #   Column                                    Non-Null Count  Dtype  \n",
      "---  ------                                    --------------  -----  \n",
      " 0   Lead Origin                               9103 non-null   object \n",
      " 1   Lead Source                               9103 non-null   object \n",
      " 2   Do Not Email                              9103 non-null   object \n",
      " 3   Do Not Call                               9103 non-null   object \n",
      " 4   Converted                                 9103 non-null   int64  \n",
      " 5   TotalVisits                               9103 non-null   float64\n",
      " 6   Total Time Spent on Website               9103 non-null   int64  \n",
      " 7   Page Views Per Visit                      9103 non-null   float64\n",
      " 8   Last Activity                             9103 non-null   object \n",
      " 9   Specialization                            9103 non-null   object \n",
      " 10  What is your current occupation           9103 non-null   object \n",
      " 11  Search                                    9103 non-null   object \n",
      " 12  Magazine                                  9103 non-null   object \n",
      " 13  Newspaper Article                         9103 non-null   object \n",
      " 14  X Education Forums                        9103 non-null   object \n",
      " 15  Newspaper                                 9103 non-null   object \n",
      " 16  Digital Advertisement                     9103 non-null   object \n",
      " 17  Through Recommendations                   9103 non-null   object \n",
      " 18  Receive More Updates About Our Courses    9103 non-null   object \n",
      " 19  Update me on Supply Chain Content         9103 non-null   object \n",
      " 20  Get updates on DM Content                 9103 non-null   object \n",
      " 21  I agree to pay the amount through cheque  9103 non-null   object \n",
      " 22  A free copy of Mastering The Interview    9103 non-null   object \n",
      " 23  Last Notable Activity                     9103 non-null   object \n",
      "dtypes: float64(2), int64(2), object(20)\n",
      "memory usage: 1.7+ MB\n"
     ]
    }
   ],
   "source": [
    "Xed.info()"
   ]
  },
  {
   "cell_type": "code",
   "execution_count": 58,
   "metadata": {},
   "outputs": [
    {
     "data": {
      "text/plain": [
       "(9103, 24)"
      ]
     },
     "execution_count": 58,
     "metadata": {},
     "output_type": "execute_result"
    }
   ],
   "source": [
    "Xed.shape"
   ]
  },
  {
   "cell_type": "code",
   "execution_count": 59,
   "metadata": {},
   "outputs": [
    {
     "data": {
      "text/plain": [
       "Lead Origin                                  object\n",
       "Lead Source                                  object\n",
       "Do Not Email                                 object\n",
       "Do Not Call                                  object\n",
       "Converted                                     int64\n",
       "TotalVisits                                 float64\n",
       "Total Time Spent on Website                   int64\n",
       "Page Views Per Visit                        float64\n",
       "Last Activity                                object\n",
       "Specialization                               object\n",
       "What is your current occupation              object\n",
       "Search                                       object\n",
       "Magazine                                     object\n",
       "Newspaper Article                            object\n",
       "X Education Forums                           object\n",
       "Newspaper                                    object\n",
       "Digital Advertisement                        object\n",
       "Through Recommendations                      object\n",
       "Receive More Updates About Our Courses       object\n",
       "Update me on Supply Chain Content            object\n",
       "Get updates on DM Content                    object\n",
       "I agree to pay the amount through cheque     object\n",
       "A free copy of Mastering The Interview       object\n",
       "Last Notable Activity                        object\n",
       "dtype: object"
      ]
     },
     "execution_count": 59,
     "metadata": {},
     "output_type": "execute_result"
    }
   ],
   "source": [
    "Xed.dtypes"
   ]
  },
  {
   "cell_type": "code",
   "execution_count": 60,
   "metadata": {},
   "outputs": [
    {
     "data": {
      "image/png": "[encoded data removed]",
      "text/plain": [
       "<Figure size 1440x1440 with 3 Axes>"
      ]
     },
     "metadata": {
      "needs_background": "light"
     },
     "output_type": "display_data"
    }
   ],
   "source": [
    "#Visualizing the numerical variables\n",
    "plt.figure(figsize = (20,20))\n",
    "plt.subplot(221)\n",
    "plt.hist(Xed['TotalVisits'], bins = 200)\n",
    "plt.title('Total Visits')\n",
    "plt.xlim(0,25)\n",
    "\n",
    "plt.subplot(222)\n",
    "plt.hist(Xed['Total Time Spent on Website'], bins = 10)\n",
    "plt.title('Total Time Spent on Website')\n",
    "\n",
    "plt.subplot(223)\n",
    "plt.hist(Xed['Page Views Per Visit'], bins = 20)\n",
    "plt.title('Page Views Per Visit')\n",
    "plt.xlim(0,20)\n",
    "plt.show()"
   ]
  },
  {
   "cell_type": "markdown",
   "metadata": {},
   "source": [
    "# Visualizing relationship b/w categorical variables and Target variable(Converted)"
   ]
  },
  {
   "cell_type": "code",
   "execution_count": 61,
   "metadata": {},
   "outputs": [
    {
     "data": {
      "image/png": "[encoded data removed]",
      "text/plain": [
       "<Figure size 1080x720 with 2 Axes>"
      ]
     },
     "metadata": {
      "needs_background": "light"
     },
     "output_type": "display_data"
    }
   ],
   "source": [
    "plt.figure(figsize = (15,10))\n",
    "\n",
    "plt.subplot(1,2,1)\n",
    "sns.countplot(x='Lead Origin', hue='Converted', data=Xed).tick_params(axis='x', rotation = 90)\n",
    "plt.title('Lead Origin')\n",
    "\n",
    "plt.subplot(1,2,2)\n",
    "sns.countplot(x='Lead Source', hue='Converted', data=Xed).tick_params(axis='x', rotation = 90)\n",
    "plt.title('Lead Source')\n",
    "plt.show()"
   ]
  },
  {
   "cell_type": "code",
   "execution_count": 62,
   "metadata": {},
   "outputs": [
    {
     "data": {
      "image/png": "[encoded data removed]",
      "text/plain": [
       "<Figure size 1080x720 with 2 Axes>"
      ]
     },
     "metadata": {
      "needs_background": "light"
     },
     "output_type": "display_data"
    }
   ],
   "source": [
    "plt.figure(figsize = (15,10))\n",
    "\n",
    "plt.subplot(1,2,1)\n",
    "sns.countplot(x='Do Not Email', hue='Converted', data=Xed).tick_params(axis='x', rotation = 90)\n",
    "plt.title('Do Not Email')\n",
    "\n",
    "plt.subplot(1,2,2)\n",
    "sns.countplot(x='Do Not Call', hue='Converted', data=Xed).tick_params(axis='x', rotation = 90)\n",
    "plt.title('Do Not Call')\n",
    "plt.show()"
   ]
  },
  {
   "cell_type": "code",
   "execution_count": 63,
   "metadata": {},
   "outputs": [
    {
     "data": {
      "image/png": "[encoded data removed]",
      "text/plain": [
       "<Figure size 1080x720 with 2 Axes>"
      ]
     },
     "metadata": {
      "needs_background": "light"
     },
     "output_type": "display_data"
    }
   ],
   "source": [
    "plt.figure(figsize = (15,10))\n",
    "\n",
    "plt.subplot(1,2,1)\n",
    "sns.countplot(x='Last Activity', hue='Converted', data=Xed).tick_params(axis='x', rotation = 90)\n",
    "plt.title('Last Activity')\n",
    "\n",
    "plt.subplot(1,2,2)\n",
    "sns.countplot(x='Specialization', hue='Converted', data=Xed).tick_params(axis='x', rotation = 90)\n",
    "plt.title('Specialization')\n",
    "plt.show()"
   ]
  },
  {
   "cell_type": "code",
   "execution_count": 64,
   "metadata": {},
   "outputs": [
    {
     "data": {
      "image/png": "[encoded data removed]",
      "text/plain": [
       "<Figure size 1080x720 with 2 Axes>"
      ]
     },
     "metadata": {
      "needs_background": "light"
     },
     "output_type": "display_data"
    }
   ],
   "source": [
    "plt.figure(figsize = (15,10))\n",
    "\n",
    "plt.subplot(1,2,1)\n",
    "sns.countplot(x='What is your current occupation', hue='Converted', data=Xed).tick_params(axis='x', rotation = 90)\n",
    "plt.title('What is your current occupation')\n",
    "\n",
    "plt.subplot(1,2,2)\n",
    "sns.countplot(x='Search', hue='Converted', data=Xed).tick_params(axis='x', rotation = 90)\n",
    "plt.title('Search')\n",
    "plt.show()"
   ]
  },
  {
   "cell_type": "code",
   "execution_count": 65,
   "metadata": {},
   "outputs": [
    {
     "data": {
      "image/png": "[encoded data removed]",
      "text/plain": [
       "<Figure size 1080x720 with 2 Axes>"
      ]
     },
     "metadata": {
      "needs_background": "light"
     },
     "output_type": "display_data"
    }
   ],
   "source": [
    "plt.figure(figsize = (15,10))\n",
    "\n",
    "plt.subplot(1,2,1)\n",
    "sns.countplot(x='Magazine', hue='Converted', data=Xed).tick_params(axis='x', rotation = 90)\n",
    "plt.title('Magazine')\n",
    "\n",
    "plt.subplot(1,2,2)\n",
    "sns.countplot(x='Newspaper Article', hue='Converted', data=Xed).tick_params(axis='x', rotation = 90)\n",
    "plt.title('Newspaper Article')\n",
    "plt.show()"
   ]
  },
  {
   "cell_type": "code",
   "execution_count": 66,
   "metadata": {},
   "outputs": [
    {
     "data": {
      "image/png": "[encoded data removed]",
      "text/plain": [
       "<Figure size 1080x720 with 2 Axes>"
      ]
     },
     "metadata": {
      "needs_background": "light"
     },
     "output_type": "display_data"
    }
   ],
   "source": [
    "plt.figure(figsize = (15,10))\n",
    "\n",
    "plt.subplot(1,2,1)\n",
    "sns.countplot(x='X Education Forums', hue='Converted', data=Xed).tick_params(axis='x', rotation = 90)\n",
    "plt.title('X Education Forums')\n",
    "\n",
    "plt.subplot(1,2,2)\n",
    "sns.countplot(x='Newspaper Article', hue='Converted', data=Xed).tick_params(axis='x', rotation = 90)\n",
    "plt.title('Newspaper')\n",
    "plt.show()"
   ]
  },
  {
   "cell_type": "code",
   "execution_count": 67,
   "metadata": {},
   "outputs": [
    {
     "data": {
      "image/png": "[encoded data removed]",
      "text/plain": [
       "<Figure size 1080x720 with 2 Axes>"
      ]
     },
     "metadata": {
      "needs_background": "light"
     },
     "output_type": "display_data"
    }
   ],
   "source": [
    "plt.figure(figsize = (15,10))\n",
    "\n",
    "plt.subplot(1,2,1)\n",
    "sns.countplot(x='Digital Advertisement', hue='Converted', data=Xed).tick_params(axis='x', rotation = 90)\n",
    "plt.title('Digital Advertisement')\n",
    "\n",
    "plt.subplot(1,2,2)\n",
    "sns.countplot(x='Through Recommendations', hue='Converted', data=Xed).tick_params(axis='x', rotation = 90)\n",
    "plt.title('Through Recommendations')\n",
    "plt.show()"
   ]
  },
  {
   "cell_type": "code",
   "execution_count": 68,
   "metadata": {},
   "outputs": [
    {
     "data": {
      "image/png": "[encoded data removed]",
      "text/plain": [
       "<Figure size 1080x720 with 2 Axes>"
      ]
     },
     "metadata": {
      "needs_background": "light"
     },
     "output_type": "display_data"
    }
   ],
   "source": [
    "plt.figure(figsize = (15,10))\n",
    "\n",
    "plt.subplot(1,2,1)\n",
    "sns.countplot(x='Receive More Updates About Our Courses', hue='Converted', data=Xed).tick_params(axis='x', rotation = 90)\n",
    "plt.title('Receive More Updates About Our Courses')\n",
    "\n",
    "plt.subplot(1,2,2)\n",
    "sns.countplot(x='Get updates on DM Content', hue='Converted', data=Xed).tick_params(axis='x', rotation = 90)\n",
    "plt.title('Get updates on DM Content')\n",
    "plt.show()"
   ]
  },
  {
   "cell_type": "code",
   "execution_count": 69,
   "metadata": {},
   "outputs": [
    {
     "data": {
      "image/png": "[encoded data removed]",
      "text/plain": [
       "<Figure size 1080x576 with 2 Axes>"
      ]
     },
     "metadata": {
      "needs_background": "light"
     },
     "output_type": "display_data"
    }
   ],
   "source": [
    "plt.figure(figsize = (15,8))\n",
    "\n",
    "plt.subplot(1,2,1)\n",
    "sns.countplot(x='I agree to pay the amount through cheque', hue='Converted', data=Xed).tick_params(axis='x', rotation = 90)\n",
    "plt.title('I agree to pay the amount through cheque')\n",
    "\n",
    "plt.subplot(1,2,2)\n",
    "sns.countplot(x='Last Notable Activity', hue='Converted', data=Xed).tick_params(axis='x', rotation = 90)\n",
    "plt.title('Last Notable Activity')\n",
    "plt.show()"
   ]
  },
  {
   "cell_type": "code",
   "execution_count": 70,
   "metadata": {
    "scrolled": false
   },
   "outputs": [
    {
     "data": {
      "image/png": "[encoded data removed]",
      "text/plain": [
       "<Figure size 1440x720 with 2 Axes>"
      ]
     },
     "metadata": {
      "needs_background": "light"
     },
     "output_type": "display_data"
    }
   ],
   "source": [
    "# To check the correlation among varibles\n",
    "plt.figure(figsize=(20,10))\n",
    "sns.heatmap(Xed.corr())\n",
    "plt.show()"
   ]
  },
  {
   "cell_type": "code",
   "execution_count": 71,
   "metadata": {},
   "outputs": [
    {
     "data": {
      "image/png": "[encoded data removed]",
      "text/plain": [
       "<Figure size 432x288 with 1 Axes>"
      ]
     },
     "metadata": {
      "needs_background": "light"
     },
     "output_type": "display_data"
    }
   ],
   "source": [
    "sns.countplot(x = \"Lead Origin\", hue = \"Converted\", data = Xed)\n",
    "#xticks(rotation = 90)\n",
    "plt.show()"
   ]
  },
  {
   "cell_type": "code",
   "execution_count": 72,
   "metadata": {},
   "outputs": [
    {
     "data": {
      "text/plain": [
       "<AxesSubplot:xlabel='TotalVisits'>"
      ]
     },
     "execution_count": 72,
     "metadata": {},
     "output_type": "execute_result"
    },
    {
     "data": {
      "image/png": "[encoded data removed]",
      "text/plain": [
       "<Figure size 432x288 with 1 Axes>"
      ]
     },
     "metadata": {
      "needs_background": "light"
     },
     "output_type": "display_data"
    }
   ],
   "source": [
    "sns.boxplot(Xed['TotalVisits'])"
   ]
  },
  {
   "cell_type": "code",
   "execution_count": 73,
   "metadata": {},
   "outputs": [
    {
     "data": {
      "text/plain": [
       "<AxesSubplot:xlabel='Converted', ylabel='TotalVisits'>"
      ]
     },
     "execution_count": 73,
     "metadata": {},
     "output_type": "execute_result"
    },
    {
     "data": {
      "image/png": "[encoded data removed]",
      "text/plain": [
       "<Figure size 432x288 with 1 Axes>"
      ]
     },
     "metadata": {
      "needs_background": "light"
     },
     "output_type": "display_data"
    }
   ],
   "source": [
    "sns.boxplot(y = 'TotalVisits', x = 'Converted', data = Xed)"
   ]
  },
  {
   "cell_type": "code",
   "execution_count": 74,
   "metadata": {},
   "outputs": [
    {
     "data": {
      "text/plain": [
       "count   9103.000000\n",
       "mean     481.350104\n",
       "std      545.066142\n",
       "min        0.000000\n",
       "25%        9.000000\n",
       "50%      244.000000\n",
       "75%      919.500000\n",
       "max     2272.000000\n",
       "Name: Total Time Spent on Website, dtype: float64"
      ]
     },
     "execution_count": 74,
     "metadata": {},
     "output_type": "execute_result"
    }
   ],
   "source": [
    "Xed['Total Time Spent on Website'].describe()"
   ]
  },
  {
   "cell_type": "code",
   "execution_count": 75,
   "metadata": {},
   "outputs": [
    {
     "data": {
      "text/plain": [
       "<AxesSubplot:xlabel='Total Time Spent on Website'>"
      ]
     },
     "execution_count": 75,
     "metadata": {},
     "output_type": "execute_result"
    },
    {
     "data": {
      "image/png": "[encoded data removed]",
      "text/plain": [
       "<Figure size 432x288 with 1 Axes>"
      ]
     },
     "metadata": {
      "needs_background": "light"
     },
     "output_type": "display_data"
    }
   ],
   "source": [
    "sns.boxplot(Xed['Total Time Spent on Website'])"
   ]
  },
  {
   "cell_type": "code",
   "execution_count": 76,
   "metadata": {},
   "outputs": [
    {
     "data": {
      "text/plain": [
       "<AxesSubplot:xlabel='Converted', ylabel='Total Time Spent on Website'>"
      ]
     },
     "execution_count": 76,
     "metadata": {},
     "output_type": "execute_result"
    },
    {
     "data": {
      "image/png": "[encoded data removed]",
      "text/plain": [
       "<Figure size 432x288 with 1 Axes>"
      ]
     },
     "metadata": {
      "needs_background": "light"
     },
     "output_type": "display_data"
    }
   ],
   "source": [
    "sns.boxplot(y = 'Total Time Spent on Website', x = 'Converted', data = Xed)"
   ]
  },
  {
   "cell_type": "code",
   "execution_count": 77,
   "metadata": {},
   "outputs": [
    {
     "data": {
      "text/plain": [
       "count   9103.000000\n",
       "mean       2.362820\n",
       "std        2.161418\n",
       "min        0.000000\n",
       "25%        1.000000\n",
       "50%        2.000000\n",
       "75%        3.000000\n",
       "max       55.000000\n",
       "Name: Page Views Per Visit, dtype: float64"
      ]
     },
     "execution_count": 77,
     "metadata": {},
     "output_type": "execute_result"
    }
   ],
   "source": [
    "Xed['Page Views Per Visit'].describe()"
   ]
  },
  {
   "cell_type": "code",
   "execution_count": 78,
   "metadata": {},
   "outputs": [
    {
     "data": {
      "text/plain": [
       "<AxesSubplot:xlabel='Page Views Per Visit'>"
      ]
     },
     "execution_count": 78,
     "metadata": {},
     "output_type": "execute_result"
    },
    {
     "data": {
      "image/png": "[encoded data removed]",
      "text/plain": [
       "<Figure size 432x288 with 1 Axes>"
      ]
     },
     "metadata": {
      "needs_background": "light"
     },
     "output_type": "display_data"
    }
   ],
   "source": [
    "sns.boxplot(Xed['Page Views Per Visit'])"
   ]
  },
  {
   "cell_type": "code",
   "execution_count": 79,
   "metadata": {},
   "outputs": [
    {
     "data": {
      "text/plain": [
       "<AxesSubplot:xlabel='Converted', ylabel='Page Views Per Visit'>"
      ]
     },
     "execution_count": 79,
     "metadata": {},
     "output_type": "execute_result"
    },
    {
     "data": {
      "image/png": "[encoded data removed]",
      "text/plain": [
       "<Figure size 432x288 with 1 Axes>"
      ]
     },
     "metadata": {
      "needs_background": "light"
     },
     "output_type": "display_data"
    }
   ],
   "source": [
    "sns.boxplot(y = 'Page Views Per Visit', x = 'Converted', data = Xed)"
   ]
  },
  {
   "cell_type": "code",
   "execution_count": 80,
   "metadata": {},
   "outputs": [
    {
     "data": {
      "text/plain": [
       "<seaborn.axisgrid.PairGrid at 0x1c542e6d160>"
      ]
     },
     "execution_count": 80,
     "metadata": {},
     "output_type": "execute_result"
    },
    {
     "data": {
      "image/png": "[encoded data removed]",
      "text/plain": [
       "<Figure size 720x720 with 20 Axes>"
      ]
     },
     "metadata": {
      "needs_background": "light"
     },
     "output_type": "display_data"
    }
   ],
   "source": [
    "sns.pairplot(Xed)"
   ]
  },
  {
   "cell_type": "code",
   "execution_count": 81,
   "metadata": {},
   "outputs": [
    {
     "data": {
      "text/plain": [
       "Index(['Lead Origin', 'Lead Source', 'Do Not Email', 'Do Not Call',\n",
       "       'Last Activity', 'Specialization', 'What is your current occupation',\n",
       "       'Search', 'Magazine', 'Newspaper Article', 'X Education Forums',\n",
       "       'Newspaper', 'Digital Advertisement', 'Through Recommendations',\n",
       "       'Receive More Updates About Our Courses',\n",
       "       'Update me on Supply Chain Content', 'Get updates on DM Content',\n",
       "       'I agree to pay the amount through cheque',\n",
       "       'A free copy of Mastering The Interview', 'Last Notable Activity'],\n",
       "      dtype='object')"
      ]
     },
     "execution_count": 81,
     "metadata": {},
     "output_type": "execute_result"
    }
   ],
   "source": [
    "#Getting all categorical columns\n",
    "cat_columns = Xed.dtypes[Xed.dtypes =='object'].index\n",
    "cat_columns"
   ]
  },
  {
   "cell_type": "code",
   "execution_count": 82,
   "metadata": {},
   "outputs": [
    {
     "data": {
      "text/plain": [
       "Index(['Converted', 'TotalVisits', 'Total Time Spent on Website',\n",
       "       'Page Views Per Visit'],\n",
       "      dtype='object')"
      ]
     },
     "execution_count": 82,
     "metadata": {},
     "output_type": "execute_result"
    }
   ],
   "source": [
    "num_columns = Xed.dtypes[Xed.dtypes !='object'].index\n",
    "num_columns"
   ]
  },
  {
   "cell_type": "code",
   "execution_count": 83,
   "metadata": {},
   "outputs": [
    {
     "data": {
      "text/plain": [
       "38.02043282434362"
      ]
     },
     "execution_count": 83,
     "metadata": {},
     "output_type": "execute_result"
    }
   ],
   "source": [
    "#Check the % of Data that has Converted Values = 1:\n",
    "\n",
    "Converted = (sum(Xed['Converted'])/len(Xed['Converted'].index))*100\n",
    "Converted"
   ]
  },
  {
   "cell_type": "code",
   "execution_count": null,
   "metadata": {},
   "outputs": [],
   "source": []
  },
  {
   "cell_type": "code",
   "execution_count": null,
   "metadata": {},
   "outputs": [],
   "source": []
  },
  {
   "cell_type": "markdown",
   "metadata": {},
   "source": [
    "## Dummy variable creation"
   ]
  },
  {
   "cell_type": "code",
   "execution_count": 84,
   "metadata": {},
   "outputs": [
    {
     "data": {
      "text/html": [
       "<div>\n",
       "<style scoped>\n",
       "    .dataframe tbody tr th:only-of-type {\n",
       "        vertical-align: middle;\n",
       "    }\n",
       "\n",
       "    .dataframe tbody tr th {\n",
       "        vertical-align: top;\n",
       "    }\n",
       "\n",
       "    .dataframe thead th {\n",
       "        text-align: right;\n",
       "    }\n",
       "</style>\n",
       "<table border=\"1\" class=\"dataframe\">\n",
       "  <thead>\n",
       "    <tr style=\"text-align: right;\">\n",
       "      <th></th>\n",
       "      <th>Converted</th>\n",
       "      <th>TotalVisits</th>\n",
       "      <th>Total Time Spent on Website</th>\n",
       "      <th>Page Views Per Visit</th>\n",
       "      <th>Lead Origin_Landing Page Submission</th>\n",
       "      <th>Lead Origin_Lead Add Form</th>\n",
       "      <th>Lead Origin_Lead Import</th>\n",
       "      <th>Lead Source_Direct Traffic</th>\n",
       "      <th>Lead Source_Facebook</th>\n",
       "      <th>Lead Source_Google</th>\n",
       "      <th>Lead Source_Live Chat</th>\n",
       "      <th>Lead Source_NC_EDM</th>\n",
       "      <th>Lead Source_Olark Chat</th>\n",
       "      <th>Lead Source_Organic Search</th>\n",
       "      <th>Lead Source_Others</th>\n",
       "      <th>Lead Source_Pay per Click Ads</th>\n",
       "      <th>Lead Source_Press_Release</th>\n",
       "      <th>Lead Source_Reference</th>\n",
       "      <th>Lead Source_Referral Sites</th>\n",
       "      <th>Lead Source_Social Media</th>\n",
       "      <th>Lead Source_WeLearn</th>\n",
       "      <th>Lead Source_Welingak Website</th>\n",
       "      <th>Lead Source_bing</th>\n",
       "      <th>Lead Source_blog</th>\n",
       "      <th>Lead Source_google</th>\n",
       "      <th>Lead Source_testone</th>\n",
       "      <th>Lead Source_welearnblog_Home</th>\n",
       "      <th>Lead Source_youtubechannel</th>\n",
       "      <th>Do Not Email_Yes</th>\n",
       "      <th>Do Not Call_Yes</th>\n",
       "      <th>Last Activity_Converted to Lead</th>\n",
       "      <th>Last Activity_Email Bounced</th>\n",
       "      <th>Last Activity_Email Link Clicked</th>\n",
       "      <th>Last Activity_Email Marked Spam</th>\n",
       "      <th>Last Activity_Email Opened</th>\n",
       "      <th>Last Activity_Email Received</th>\n",
       "      <th>Last Activity_Form Submitted on Website</th>\n",
       "      <th>Last Activity_Had a Phone Conversation</th>\n",
       "      <th>Last Activity_Olark Chat Conversation</th>\n",
       "      <th>Last Activity_Page Visited on Website</th>\n",
       "      <th>Last Activity_Resubscribed to emails</th>\n",
       "      <th>Last Activity_SMS Sent</th>\n",
       "      <th>Last Activity_Unreachable</th>\n",
       "      <th>Last Activity_Unsubscribed</th>\n",
       "      <th>Last Activity_View in browser link Clicked</th>\n",
       "      <th>Last Activity_Visited Booth in Tradeshow</th>\n",
       "      <th>Specialization_Industry Specializations</th>\n",
       "      <th>Specialization_Management Specializations</th>\n",
       "      <th>Specialization_Not Specified</th>\n",
       "      <th>Specialization_Select</th>\n",
       "      <th>What is your current occupation_Housewife</th>\n",
       "      <th>What is your current occupation_Other</th>\n",
       "      <th>What is your current occupation_Student</th>\n",
       "      <th>What is your current occupation_Unemployed</th>\n",
       "      <th>What is your current occupation_Working Professional</th>\n",
       "      <th>Search_Yes</th>\n",
       "      <th>Newspaper Article_Yes</th>\n",
       "      <th>X Education Forums_Yes</th>\n",
       "      <th>Newspaper_Yes</th>\n",
       "      <th>Digital Advertisement_Yes</th>\n",
       "      <th>Through Recommendations_Yes</th>\n",
       "      <th>A free copy of Mastering The Interview_Yes</th>\n",
       "      <th>Last Notable Activity_Email Bounced</th>\n",
       "      <th>Last Notable Activity_Email Link Clicked</th>\n",
       "      <th>Last Notable Activity_Email Marked Spam</th>\n",
       "      <th>Last Notable Activity_Email Opened</th>\n",
       "      <th>Last Notable Activity_Email Received</th>\n",
       "      <th>Last Notable Activity_Form Submitted on Website</th>\n",
       "      <th>Last Notable Activity_Had a Phone Conversation</th>\n",
       "      <th>Last Notable Activity_Modified</th>\n",
       "      <th>Last Notable Activity_Olark Chat Conversation</th>\n",
       "      <th>Last Notable Activity_Page Visited on Website</th>\n",
       "      <th>Last Notable Activity_Resubscribed to emails</th>\n",
       "      <th>Last Notable Activity_SMS Sent</th>\n",
       "      <th>Last Notable Activity_Unreachable</th>\n",
       "      <th>Last Notable Activity_Unsubscribed</th>\n",
       "      <th>Last Notable Activity_View in browser link Clicked</th>\n",
       "    </tr>\n",
       "  </thead>\n",
       "  <tbody>\n",
       "    <tr>\n",
       "      <th>0</th>\n",
       "      <td>0</td>\n",
       "      <td>0.000000</td>\n",
       "      <td>0</td>\n",
       "      <td>0.000000</td>\n",
       "      <td>0</td>\n",
       "      <td>0</td>\n",
       "      <td>0</td>\n",
       "      <td>0</td>\n",
       "      <td>0</td>\n",
       "      <td>0</td>\n",
       "      <td>0</td>\n",
       "      <td>0</td>\n",
       "      <td>1</td>\n",
       "      <td>0</td>\n",
       "      <td>0</td>\n",
       "      <td>0</td>\n",
       "      <td>0</td>\n",
       "      <td>0</td>\n",
       "      <td>0</td>\n",
       "      <td>0</td>\n",
       "      <td>0</td>\n",
       "      <td>0</td>\n",
       "      <td>0</td>\n",
       "      <td>0</td>\n",
       "      <td>0</td>\n",
       "      <td>0</td>\n",
       "      <td>0</td>\n",
       "      <td>0</td>\n",
       "      <td>0</td>\n",
       "      <td>0</td>\n",
       "      <td>0</td>\n",
       "      <td>0</td>\n",
       "      <td>0</td>\n",
       "      <td>0</td>\n",
       "      <td>0</td>\n",
       "      <td>0</td>\n",
       "      <td>0</td>\n",
       "      <td>0</td>\n",
       "      <td>0</td>\n",
       "      <td>1</td>\n",
       "      <td>0</td>\n",
       "      <td>0</td>\n",
       "      <td>0</td>\n",
       "      <td>0</td>\n",
       "      <td>0</td>\n",
       "      <td>0</td>\n",
       "      <td>0</td>\n",
       "      <td>0</td>\n",
       "      <td>0</td>\n",
       "      <td>1</td>\n",
       "      <td>0</td>\n",
       "      <td>0</td>\n",
       "      <td>0</td>\n",
       "      <td>1</td>\n",
       "      <td>0</td>\n",
       "      <td>0</td>\n",
       "      <td>0</td>\n",
       "      <td>0</td>\n",
       "      <td>0</td>\n",
       "      <td>0</td>\n",
       "      <td>0</td>\n",
       "      <td>0</td>\n",
       "      <td>0</td>\n",
       "      <td>0</td>\n",
       "      <td>0</td>\n",
       "      <td>0</td>\n",
       "      <td>0</td>\n",
       "      <td>0</td>\n",
       "      <td>0</td>\n",
       "      <td>1</td>\n",
       "      <td>0</td>\n",
       "      <td>0</td>\n",
       "      <td>0</td>\n",
       "      <td>0</td>\n",
       "      <td>0</td>\n",
       "      <td>0</td>\n",
       "      <td>0</td>\n",
       "    </tr>\n",
       "    <tr>\n",
       "      <th>1</th>\n",
       "      <td>0</td>\n",
       "      <td>5.000000</td>\n",
       "      <td>674</td>\n",
       "      <td>2.500000</td>\n",
       "      <td>0</td>\n",
       "      <td>0</td>\n",
       "      <td>0</td>\n",
       "      <td>0</td>\n",
       "      <td>0</td>\n",
       "      <td>0</td>\n",
       "      <td>0</td>\n",
       "      <td>0</td>\n",
       "      <td>0</td>\n",
       "      <td>1</td>\n",
       "      <td>0</td>\n",
       "      <td>0</td>\n",
       "      <td>0</td>\n",
       "      <td>0</td>\n",
       "      <td>0</td>\n",
       "      <td>0</td>\n",
       "      <td>0</td>\n",
       "      <td>0</td>\n",
       "      <td>0</td>\n",
       "      <td>0</td>\n",
       "      <td>0</td>\n",
       "      <td>0</td>\n",
       "      <td>0</td>\n",
       "      <td>0</td>\n",
       "      <td>0</td>\n",
       "      <td>0</td>\n",
       "      <td>0</td>\n",
       "      <td>0</td>\n",
       "      <td>0</td>\n",
       "      <td>0</td>\n",
       "      <td>1</td>\n",
       "      <td>0</td>\n",
       "      <td>0</td>\n",
       "      <td>0</td>\n",
       "      <td>0</td>\n",
       "      <td>0</td>\n",
       "      <td>0</td>\n",
       "      <td>0</td>\n",
       "      <td>0</td>\n",
       "      <td>0</td>\n",
       "      <td>0</td>\n",
       "      <td>0</td>\n",
       "      <td>0</td>\n",
       "      <td>0</td>\n",
       "      <td>0</td>\n",
       "      <td>1</td>\n",
       "      <td>0</td>\n",
       "      <td>0</td>\n",
       "      <td>0</td>\n",
       "      <td>1</td>\n",
       "      <td>0</td>\n",
       "      <td>0</td>\n",
       "      <td>0</td>\n",
       "      <td>0</td>\n",
       "      <td>0</td>\n",
       "      <td>0</td>\n",
       "      <td>0</td>\n",
       "      <td>0</td>\n",
       "      <td>0</td>\n",
       "      <td>0</td>\n",
       "      <td>0</td>\n",
       "      <td>1</td>\n",
       "      <td>0</td>\n",
       "      <td>0</td>\n",
       "      <td>0</td>\n",
       "      <td>0</td>\n",
       "      <td>0</td>\n",
       "      <td>0</td>\n",
       "      <td>0</td>\n",
       "      <td>0</td>\n",
       "      <td>0</td>\n",
       "      <td>0</td>\n",
       "      <td>0</td>\n",
       "    </tr>\n",
       "    <tr>\n",
       "      <th>2</th>\n",
       "      <td>1</td>\n",
       "      <td>2.000000</td>\n",
       "      <td>1532</td>\n",
       "      <td>2.000000</td>\n",
       "      <td>1</td>\n",
       "      <td>0</td>\n",
       "      <td>0</td>\n",
       "      <td>1</td>\n",
       "      <td>0</td>\n",
       "      <td>0</td>\n",
       "      <td>0</td>\n",
       "      <td>0</td>\n",
       "      <td>0</td>\n",
       "      <td>0</td>\n",
       "      <td>0</td>\n",
       "      <td>0</td>\n",
       "      <td>0</td>\n",
       "      <td>0</td>\n",
       "      <td>0</td>\n",
       "      <td>0</td>\n",
       "      <td>0</td>\n",
       "      <td>0</td>\n",
       "      <td>0</td>\n",
       "      <td>0</td>\n",
       "      <td>0</td>\n",
       "      <td>0</td>\n",
       "      <td>0</td>\n",
       "      <td>0</td>\n",
       "      <td>0</td>\n",
       "      <td>0</td>\n",
       "      <td>0</td>\n",
       "      <td>0</td>\n",
       "      <td>0</td>\n",
       "      <td>0</td>\n",
       "      <td>1</td>\n",
       "      <td>0</td>\n",
       "      <td>0</td>\n",
       "      <td>0</td>\n",
       "      <td>0</td>\n",
       "      <td>0</td>\n",
       "      <td>0</td>\n",
       "      <td>0</td>\n",
       "      <td>0</td>\n",
       "      <td>0</td>\n",
       "      <td>0</td>\n",
       "      <td>0</td>\n",
       "      <td>0</td>\n",
       "      <td>0</td>\n",
       "      <td>0</td>\n",
       "      <td>0</td>\n",
       "      <td>0</td>\n",
       "      <td>0</td>\n",
       "      <td>1</td>\n",
       "      <td>0</td>\n",
       "      <td>0</td>\n",
       "      <td>0</td>\n",
       "      <td>0</td>\n",
       "      <td>0</td>\n",
       "      <td>0</td>\n",
       "      <td>0</td>\n",
       "      <td>0</td>\n",
       "      <td>1</td>\n",
       "      <td>0</td>\n",
       "      <td>0</td>\n",
       "      <td>0</td>\n",
       "      <td>1</td>\n",
       "      <td>0</td>\n",
       "      <td>0</td>\n",
       "      <td>0</td>\n",
       "      <td>0</td>\n",
       "      <td>0</td>\n",
       "      <td>0</td>\n",
       "      <td>0</td>\n",
       "      <td>0</td>\n",
       "      <td>0</td>\n",
       "      <td>0</td>\n",
       "      <td>0</td>\n",
       "    </tr>\n",
       "    <tr>\n",
       "      <th>3</th>\n",
       "      <td>0</td>\n",
       "      <td>1.000000</td>\n",
       "      <td>305</td>\n",
       "      <td>1.000000</td>\n",
       "      <td>1</td>\n",
       "      <td>0</td>\n",
       "      <td>0</td>\n",
       "      <td>1</td>\n",
       "      <td>0</td>\n",
       "      <td>0</td>\n",
       "      <td>0</td>\n",
       "      <td>0</td>\n",
       "      <td>0</td>\n",
       "      <td>0</td>\n",
       "      <td>0</td>\n",
       "      <td>0</td>\n",
       "      <td>0</td>\n",
       "      <td>0</td>\n",
       "      <td>0</td>\n",
       "      <td>0</td>\n",
       "      <td>0</td>\n",
       "      <td>0</td>\n",
       "      <td>0</td>\n",
       "      <td>0</td>\n",
       "      <td>0</td>\n",
       "      <td>0</td>\n",
       "      <td>0</td>\n",
       "      <td>0</td>\n",
       "      <td>0</td>\n",
       "      <td>0</td>\n",
       "      <td>0</td>\n",
       "      <td>0</td>\n",
       "      <td>0</td>\n",
       "      <td>0</td>\n",
       "      <td>0</td>\n",
       "      <td>0</td>\n",
       "      <td>0</td>\n",
       "      <td>0</td>\n",
       "      <td>0</td>\n",
       "      <td>0</td>\n",
       "      <td>0</td>\n",
       "      <td>0</td>\n",
       "      <td>1</td>\n",
       "      <td>0</td>\n",
       "      <td>0</td>\n",
       "      <td>0</td>\n",
       "      <td>1</td>\n",
       "      <td>0</td>\n",
       "      <td>0</td>\n",
       "      <td>0</td>\n",
       "      <td>0</td>\n",
       "      <td>0</td>\n",
       "      <td>0</td>\n",
       "      <td>1</td>\n",
       "      <td>0</td>\n",
       "      <td>0</td>\n",
       "      <td>0</td>\n",
       "      <td>0</td>\n",
       "      <td>0</td>\n",
       "      <td>0</td>\n",
       "      <td>0</td>\n",
       "      <td>0</td>\n",
       "      <td>0</td>\n",
       "      <td>0</td>\n",
       "      <td>0</td>\n",
       "      <td>0</td>\n",
       "      <td>0</td>\n",
       "      <td>0</td>\n",
       "      <td>0</td>\n",
       "      <td>1</td>\n",
       "      <td>0</td>\n",
       "      <td>0</td>\n",
       "      <td>0</td>\n",
       "      <td>0</td>\n",
       "      <td>0</td>\n",
       "      <td>0</td>\n",
       "      <td>0</td>\n",
       "    </tr>\n",
       "    <tr>\n",
       "      <th>4</th>\n",
       "      <td>1</td>\n",
       "      <td>2.000000</td>\n",
       "      <td>1428</td>\n",
       "      <td>1.000000</td>\n",
       "      <td>1</td>\n",
       "      <td>0</td>\n",
       "      <td>0</td>\n",
       "      <td>0</td>\n",
       "      <td>0</td>\n",
       "      <td>1</td>\n",
       "      <td>0</td>\n",
       "      <td>0</td>\n",
       "      <td>0</td>\n",
       "      <td>0</td>\n",
       "      <td>0</td>\n",
       "      <td>0</td>\n",
       "      <td>0</td>\n",
       "      <td>0</td>\n",
       "      <td>0</td>\n",
       "      <td>0</td>\n",
       "      <td>0</td>\n",
       "      <td>0</td>\n",
       "      <td>0</td>\n",
       "      <td>0</td>\n",
       "      <td>0</td>\n",
       "      <td>0</td>\n",
       "      <td>0</td>\n",
       "      <td>0</td>\n",
       "      <td>0</td>\n",
       "      <td>0</td>\n",
       "      <td>1</td>\n",
       "      <td>0</td>\n",
       "      <td>0</td>\n",
       "      <td>0</td>\n",
       "      <td>0</td>\n",
       "      <td>0</td>\n",
       "      <td>0</td>\n",
       "      <td>0</td>\n",
       "      <td>0</td>\n",
       "      <td>0</td>\n",
       "      <td>0</td>\n",
       "      <td>0</td>\n",
       "      <td>0</td>\n",
       "      <td>0</td>\n",
       "      <td>0</td>\n",
       "      <td>0</td>\n",
       "      <td>0</td>\n",
       "      <td>0</td>\n",
       "      <td>0</td>\n",
       "      <td>1</td>\n",
       "      <td>0</td>\n",
       "      <td>0</td>\n",
       "      <td>0</td>\n",
       "      <td>1</td>\n",
       "      <td>0</td>\n",
       "      <td>0</td>\n",
       "      <td>0</td>\n",
       "      <td>0</td>\n",
       "      <td>0</td>\n",
       "      <td>0</td>\n",
       "      <td>0</td>\n",
       "      <td>0</td>\n",
       "      <td>0</td>\n",
       "      <td>0</td>\n",
       "      <td>0</td>\n",
       "      <td>0</td>\n",
       "      <td>0</td>\n",
       "      <td>0</td>\n",
       "      <td>0</td>\n",
       "      <td>1</td>\n",
       "      <td>0</td>\n",
       "      <td>0</td>\n",
       "      <td>0</td>\n",
       "      <td>0</td>\n",
       "      <td>0</td>\n",
       "      <td>0</td>\n",
       "      <td>0</td>\n",
       "    </tr>\n",
       "  </tbody>\n",
       "</table>\n",
       "</div>"
      ],
      "text/plain": [
       "   Converted  TotalVisits  Total Time Spent on Website  Page Views Per Visit  \\\n",
       "0          0     0.000000                            0              0.000000   \n",
       "1          0     5.000000                          674              2.500000   \n",
       "2          1     2.000000                         1532              2.000000   \n",
       "3          0     1.000000                          305              1.000000   \n",
       "4          1     2.000000                         1428              1.000000   \n",
       "\n",
       "   Lead Origin_Landing Page Submission  Lead Origin_Lead Add Form  \\\n",
       "0                                    0                          0   \n",
       "1                                    0                          0   \n",
       "2                                    1                          0   \n",
       "3                                    1                          0   \n",
       "4                                    1                          0   \n",
       "\n",
       "   Lead Origin_Lead Import  Lead Source_Direct Traffic  Lead Source_Facebook  \\\n",
       "0                        0                           0                     0   \n",
       "1                        0                           0                     0   \n",
       "2                        0                           1                     0   \n",
       "3                        0                           1                     0   \n",
       "4                        0                           0                     0   \n",
       "\n",
       "   Lead Source_Google  Lead Source_Live Chat  Lead Source_NC_EDM  \\\n",
       "0                   0                      0                   0   \n",
       "1                   0                      0                   0   \n",
       "2                   0                      0                   0   \n",
       "3                   0                      0                   0   \n",
       "4                   1                      0                   0   \n",
       "\n",
       "   Lead Source_Olark Chat  Lead Source_Organic Search  Lead Source_Others  \\\n",
       "0                       1                           0                   0   \n",
       "1                       0                           1                   0   \n",
       "2                       0                           0                   0   \n",
       "3                       0                           0                   0   \n",
       "4                       0                           0                   0   \n",
       "\n",
       "   Lead Source_Pay per Click Ads  Lead Source_Press_Release  \\\n",
       "0                              0                          0   \n",
       "1                              0                          0   \n",
       "2                              0                          0   \n",
       "3                              0                          0   \n",
       "4                              0                          0   \n",
       "\n",
       "   Lead Source_Reference  Lead Source_Referral Sites  \\\n",
       "0                      0                           0   \n",
       "1                      0                           0   \n",
       "2                      0                           0   \n",
       "3                      0                           0   \n",
       "4                      0                           0   \n",
       "\n",
       "   Lead Source_Social Media  Lead Source_WeLearn  \\\n",
       "0                         0                    0   \n",
       "1                         0                    0   \n",
       "2                         0                    0   \n",
       "3                         0                    0   \n",
       "4                         0                    0   \n",
       "\n",
       "   Lead Source_Welingak Website  Lead Source_bing  Lead Source_blog  \\\n",
       "0                             0                 0                 0   \n",
       "1                             0                 0                 0   \n",
       "2                             0                 0                 0   \n",
       "3                             0                 0                 0   \n",
       "4                             0                 0                 0   \n",
       "\n",
       "   Lead Source_google  Lead Source_testone  Lead Source_welearnblog_Home  \\\n",
       "0                   0                    0                             0   \n",
       "1                   0                    0                             0   \n",
       "2                   0                    0                             0   \n",
       "3                   0                    0                             0   \n",
       "4                   0                    0                             0   \n",
       "\n",
       "   Lead Source_youtubechannel  Do Not Email_Yes  Do Not Call_Yes  \\\n",
       "0                           0                 0                0   \n",
       "1                           0                 0                0   \n",
       "2                           0                 0                0   \n",
       "3                           0                 0                0   \n",
       "4                           0                 0                0   \n",
       "\n",
       "   Last Activity_Converted to Lead  Last Activity_Email Bounced  \\\n",
       "0                                0                            0   \n",
       "1                                0                            0   \n",
       "2                                0                            0   \n",
       "3                                0                            0   \n",
       "4                                1                            0   \n",
       "\n",
       "   Last Activity_Email Link Clicked  Last Activity_Email Marked Spam  \\\n",
       "0                                 0                                0   \n",
       "1                                 0                                0   \n",
       "2                                 0                                0   \n",
       "3                                 0                                0   \n",
       "4                                 0                                0   \n",
       "\n",
       "   Last Activity_Email Opened  Last Activity_Email Received  \\\n",
       "0                           0                             0   \n",
       "1                           1                             0   \n",
       "2                           1                             0   \n",
       "3                           0                             0   \n",
       "4                           0                             0   \n",
       "\n",
       "   Last Activity_Form Submitted on Website  \\\n",
       "0                                        0   \n",
       "1                                        0   \n",
       "2                                        0   \n",
       "3                                        0   \n",
       "4                                        0   \n",
       "\n",
       "   Last Activity_Had a Phone Conversation  \\\n",
       "0                                       0   \n",
       "1                                       0   \n",
       "2                                       0   \n",
       "3                                       0   \n",
       "4                                       0   \n",
       "\n",
       "   Last Activity_Olark Chat Conversation  \\\n",
       "0                                      0   \n",
       "1                                      0   \n",
       "2                                      0   \n",
       "3                                      0   \n",
       "4                                      0   \n",
       "\n",
       "   Last Activity_Page Visited on Website  \\\n",
       "0                                      1   \n",
       "1                                      0   \n",
       "2                                      0   \n",
       "3                                      0   \n",
       "4                                      0   \n",
       "\n",
       "   Last Activity_Resubscribed to emails  Last Activity_SMS Sent  \\\n",
       "0                                     0                       0   \n",
       "1                                     0                       0   \n",
       "2                                     0                       0   \n",
       "3                                     0                       0   \n",
       "4                                     0                       0   \n",
       "\n",
       "   Last Activity_Unreachable  Last Activity_Unsubscribed  \\\n",
       "0                          0                           0   \n",
       "1                          0                           0   \n",
       "2                          0                           0   \n",
       "3                          1                           0   \n",
       "4                          0                           0   \n",
       "\n",
       "   Last Activity_View in browser link Clicked  \\\n",
       "0                                           0   \n",
       "1                                           0   \n",
       "2                                           0   \n",
       "3                                           0   \n",
       "4                                           0   \n",
       "\n",
       "   Last Activity_Visited Booth in Tradeshow  \\\n",
       "0                                         0   \n",
       "1                                         0   \n",
       "2                                         0   \n",
       "3                                         0   \n",
       "4                                         0   \n",
       "\n",
       "   Specialization_Industry Specializations  \\\n",
       "0                                        0   \n",
       "1                                        0   \n",
       "2                                        0   \n",
       "3                                        1   \n",
       "4                                        0   \n",
       "\n",
       "   Specialization_Management Specializations  Specialization_Not Specified  \\\n",
       "0                                          0                             0   \n",
       "1                                          0                             0   \n",
       "2                                          0                             0   \n",
       "3                                          0                             0   \n",
       "4                                          0                             0   \n",
       "\n",
       "   Specialization_Select  What is your current occupation_Housewife  \\\n",
       "0                      1                                          0   \n",
       "1                      1                                          0   \n",
       "2                      0                                          0   \n",
       "3                      0                                          0   \n",
       "4                      1                                          0   \n",
       "\n",
       "   What is your current occupation_Other  \\\n",
       "0                                      0   \n",
       "1                                      0   \n",
       "2                                      0   \n",
       "3                                      0   \n",
       "4                                      0   \n",
       "\n",
       "   What is your current occupation_Student  \\\n",
       "0                                        0   \n",
       "1                                        0   \n",
       "2                                        1   \n",
       "3                                        0   \n",
       "4                                        0   \n",
       "\n",
       "   What is your current occupation_Unemployed  \\\n",
       "0                                           1   \n",
       "1                                           1   \n",
       "2                                           0   \n",
       "3                                           1   \n",
       "4                                           1   \n",
       "\n",
       "   What is your current occupation_Working Professional  Search_Yes  \\\n",
       "0                                                  0              0   \n",
       "1                                                  0              0   \n",
       "2                                                  0              0   \n",
       "3                                                  0              0   \n",
       "4                                                  0              0   \n",
       "\n",
       "   Newspaper Article_Yes  X Education Forums_Yes  Newspaper_Yes  \\\n",
       "0                      0                       0              0   \n",
       "1                      0                       0              0   \n",
       "2                      0                       0              0   \n",
       "3                      0                       0              0   \n",
       "4                      0                       0              0   \n",
       "\n",
       "   Digital Advertisement_Yes  Through Recommendations_Yes  \\\n",
       "0                          0                            0   \n",
       "1                          0                            0   \n",
       "2                          0                            0   \n",
       "3                          0                            0   \n",
       "4                          0                            0   \n",
       "\n",
       "   A free copy of Mastering The Interview_Yes  \\\n",
       "0                                           0   \n",
       "1                                           0   \n",
       "2                                           1   \n",
       "3                                           0   \n",
       "4                                           0   \n",
       "\n",
       "   Last Notable Activity_Email Bounced  \\\n",
       "0                                    0   \n",
       "1                                    0   \n",
       "2                                    0   \n",
       "3                                    0   \n",
       "4                                    0   \n",
       "\n",
       "   Last Notable Activity_Email Link Clicked  \\\n",
       "0                                         0   \n",
       "1                                         0   \n",
       "2                                         0   \n",
       "3                                         0   \n",
       "4                                         0   \n",
       "\n",
       "   Last Notable Activity_Email Marked Spam  \\\n",
       "0                                        0   \n",
       "1                                        0   \n",
       "2                                        0   \n",
       "3                                        0   \n",
       "4                                        0   \n",
       "\n",
       "   Last Notable Activity_Email Opened  Last Notable Activity_Email Received  \\\n",
       "0                                   0                                     0   \n",
       "1                                   1                                     0   \n",
       "2                                   1                                     0   \n",
       "3                                   0                                     0   \n",
       "4                                   0                                     0   \n",
       "\n",
       "   Last Notable Activity_Form Submitted on Website  \\\n",
       "0                                                0   \n",
       "1                                                0   \n",
       "2                                                0   \n",
       "3                                                0   \n",
       "4                                                0   \n",
       "\n",
       "   Last Notable Activity_Had a Phone Conversation  \\\n",
       "0                                               0   \n",
       "1                                               0   \n",
       "2                                               0   \n",
       "3                                               0   \n",
       "4                                               0   \n",
       "\n",
       "   Last Notable Activity_Modified  \\\n",
       "0                               1   \n",
       "1                               0   \n",
       "2                               0   \n",
       "3                               1   \n",
       "4                               1   \n",
       "\n",
       "   Last Notable Activity_Olark Chat Conversation  \\\n",
       "0                                              0   \n",
       "1                                              0   \n",
       "2                                              0   \n",
       "3                                              0   \n",
       "4                                              0   \n",
       "\n",
       "   Last Notable Activity_Page Visited on Website  \\\n",
       "0                                              0   \n",
       "1                                              0   \n",
       "2                                              0   \n",
       "3                                              0   \n",
       "4                                              0   \n",
       "\n",
       "   Last Notable Activity_Resubscribed to emails  \\\n",
       "0                                             0   \n",
       "1                                             0   \n",
       "2                                             0   \n",
       "3                                             0   \n",
       "4                                             0   \n",
       "\n",
       "   Last Notable Activity_SMS Sent  Last Notable Activity_Unreachable  \\\n",
       "0                               0                                  0   \n",
       "1                               0                                  0   \n",
       "2                               0                                  0   \n",
       "3                               0                                  0   \n",
       "4                               0                                  0   \n",
       "\n",
       "   Last Notable Activity_Unsubscribed  \\\n",
       "0                                   0   \n",
       "1                                   0   \n",
       "2                                   0   \n",
       "3                                   0   \n",
       "4                                   0   \n",
       "\n",
       "   Last Notable Activity_View in browser link Clicked  \n",
       "0                                                  0   \n",
       "1                                                  0   \n",
       "2                                                  0   \n",
       "3                                                  0   \n",
       "4                                                  0   "
      ]
     },
     "execution_count": 84,
     "metadata": {},
     "output_type": "execute_result"
    }
   ],
   "source": [
    "#Creating dummies for all categorical columns\n",
    "lead = pd.get_dummies(Xed, drop_first = True)\n",
    "lead.head()"
   ]
  },
  {
   "cell_type": "code",
   "execution_count": 85,
   "metadata": {},
   "outputs": [
    {
     "data": {
      "text/plain": [
       "(9103, 77)"
      ]
     },
     "execution_count": 85,
     "metadata": {},
     "output_type": "execute_result"
    }
   ],
   "source": [
    "lead.shape"
   ]
  },
  {
   "cell_type": "code",
   "execution_count": 86,
   "metadata": {},
   "outputs": [],
   "source": [
    "#Separating the target column\n",
    "y = lead.pop('Converted')\n",
    "X = lead"
   ]
  },
  {
   "cell_type": "code",
   "execution_count": 87,
   "metadata": {},
   "outputs": [
    {
     "data": {
      "text/plain": [
       "Index(['TotalVisits', 'Total Time Spent on Website', 'Page Views Per Visit'], dtype='object')"
      ]
     },
     "execution_count": 87,
     "metadata": {},
     "output_type": "execute_result"
    }
   ],
   "source": [
    "#Removing Converted from numerical columns list\n",
    "num_columns = num_columns.drop('Converted')\n",
    "num_columns"
   ]
  },
  {
   "cell_type": "code",
   "execution_count": 88,
   "metadata": {},
   "outputs": [],
   "source": [
    "#Splitting the dataset in 70-30 ratio into train and test data\n",
    "X_train, X_test, y_train, y_test = train_test_split(X, y, train_size = 0.7, test_size = 0.3, random_state = 42)"
   ]
  },
  {
   "cell_type": "code",
   "execution_count": 89,
   "metadata": {},
   "outputs": [
    {
     "data": {
      "text/plain": [
       "(6372, 76)"
      ]
     },
     "execution_count": 89,
     "metadata": {},
     "output_type": "execute_result"
    }
   ],
   "source": [
    "\n",
    "X_train.shape"
   ]
  },
  {
   "cell_type": "code",
   "execution_count": 90,
   "metadata": {},
   "outputs": [
    {
     "data": {
      "text/plain": [
       "(2731, 76)"
      ]
     },
     "execution_count": 90,
     "metadata": {},
     "output_type": "execute_result"
    }
   ],
   "source": [
    "\n",
    "X_test.shape"
   ]
  },
  {
   "cell_type": "code",
   "execution_count": 91,
   "metadata": {},
   "outputs": [
    {
     "data": {
      "text/html": [
       "<div>\n",
       "<style scoped>\n",
       "    .dataframe tbody tr th:only-of-type {\n",
       "        vertical-align: middle;\n",
       "    }\n",
       "\n",
       "    .dataframe tbody tr th {\n",
       "        vertical-align: top;\n",
       "    }\n",
       "\n",
       "    .dataframe thead th {\n",
       "        text-align: right;\n",
       "    }\n",
       "</style>\n",
       "<table border=\"1\" class=\"dataframe\">\n",
       "  <thead>\n",
       "    <tr style=\"text-align: right;\">\n",
       "      <th></th>\n",
       "      <th>TotalVisits</th>\n",
       "      <th>Total Time Spent on Website</th>\n",
       "      <th>Page Views Per Visit</th>\n",
       "      <th>Lead Origin_Landing Page Submission</th>\n",
       "      <th>Lead Origin_Lead Add Form</th>\n",
       "      <th>Lead Origin_Lead Import</th>\n",
       "      <th>Lead Source_Direct Traffic</th>\n",
       "      <th>Lead Source_Facebook</th>\n",
       "      <th>Lead Source_Google</th>\n",
       "      <th>Lead Source_Live Chat</th>\n",
       "      <th>Lead Source_NC_EDM</th>\n",
       "      <th>Lead Source_Olark Chat</th>\n",
       "      <th>Lead Source_Organic Search</th>\n",
       "      <th>Lead Source_Others</th>\n",
       "      <th>Lead Source_Pay per Click Ads</th>\n",
       "      <th>Lead Source_Press_Release</th>\n",
       "      <th>Lead Source_Reference</th>\n",
       "      <th>Lead Source_Referral Sites</th>\n",
       "      <th>Lead Source_Social Media</th>\n",
       "      <th>Lead Source_WeLearn</th>\n",
       "      <th>Lead Source_Welingak Website</th>\n",
       "      <th>Lead Source_bing</th>\n",
       "      <th>Lead Source_blog</th>\n",
       "      <th>Lead Source_google</th>\n",
       "      <th>Lead Source_testone</th>\n",
       "      <th>Lead Source_welearnblog_Home</th>\n",
       "      <th>Lead Source_youtubechannel</th>\n",
       "      <th>Do Not Email_Yes</th>\n",
       "      <th>Do Not Call_Yes</th>\n",
       "      <th>Last Activity_Converted to Lead</th>\n",
       "      <th>Last Activity_Email Bounced</th>\n",
       "      <th>Last Activity_Email Link Clicked</th>\n",
       "      <th>Last Activity_Email Marked Spam</th>\n",
       "      <th>Last Activity_Email Opened</th>\n",
       "      <th>Last Activity_Email Received</th>\n",
       "      <th>Last Activity_Form Submitted on Website</th>\n",
       "      <th>Last Activity_Had a Phone Conversation</th>\n",
       "      <th>Last Activity_Olark Chat Conversation</th>\n",
       "      <th>Last Activity_Page Visited on Website</th>\n",
       "      <th>Last Activity_Resubscribed to emails</th>\n",
       "      <th>Last Activity_SMS Sent</th>\n",
       "      <th>Last Activity_Unreachable</th>\n",
       "      <th>Last Activity_Unsubscribed</th>\n",
       "      <th>Last Activity_View in browser link Clicked</th>\n",
       "      <th>Last Activity_Visited Booth in Tradeshow</th>\n",
       "      <th>Specialization_Industry Specializations</th>\n",
       "      <th>Specialization_Management Specializations</th>\n",
       "      <th>Specialization_Not Specified</th>\n",
       "      <th>Specialization_Select</th>\n",
       "      <th>What is your current occupation_Housewife</th>\n",
       "      <th>What is your current occupation_Other</th>\n",
       "      <th>What is your current occupation_Student</th>\n",
       "      <th>What is your current occupation_Unemployed</th>\n",
       "      <th>What is your current occupation_Working Professional</th>\n",
       "      <th>Search_Yes</th>\n",
       "      <th>Newspaper Article_Yes</th>\n",
       "      <th>X Education Forums_Yes</th>\n",
       "      <th>Newspaper_Yes</th>\n",
       "      <th>Digital Advertisement_Yes</th>\n",
       "      <th>Through Recommendations_Yes</th>\n",
       "      <th>A free copy of Mastering The Interview_Yes</th>\n",
       "      <th>Last Notable Activity_Email Bounced</th>\n",
       "      <th>Last Notable Activity_Email Link Clicked</th>\n",
       "      <th>Last Notable Activity_Email Marked Spam</th>\n",
       "      <th>Last Notable Activity_Email Opened</th>\n",
       "      <th>Last Notable Activity_Email Received</th>\n",
       "      <th>Last Notable Activity_Form Submitted on Website</th>\n",
       "      <th>Last Notable Activity_Had a Phone Conversation</th>\n",
       "      <th>Last Notable Activity_Modified</th>\n",
       "      <th>Last Notable Activity_Olark Chat Conversation</th>\n",
       "      <th>Last Notable Activity_Page Visited on Website</th>\n",
       "      <th>Last Notable Activity_Resubscribed to emails</th>\n",
       "      <th>Last Notable Activity_SMS Sent</th>\n",
       "      <th>Last Notable Activity_Unreachable</th>\n",
       "      <th>Last Notable Activity_Unsubscribed</th>\n",
       "      <th>Last Notable Activity_View in browser link Clicked</th>\n",
       "    </tr>\n",
       "  </thead>\n",
       "  <tbody>\n",
       "    <tr>\n",
       "      <th>3360</th>\n",
       "      <td>0.011952</td>\n",
       "      <td>0.518486</td>\n",
       "      <td>0.125000</td>\n",
       "      <td>1</td>\n",
       "      <td>0</td>\n",
       "      <td>0</td>\n",
       "      <td>0</td>\n",
       "      <td>0</td>\n",
       "      <td>1</td>\n",
       "      <td>0</td>\n",
       "      <td>0</td>\n",
       "      <td>0</td>\n",
       "      <td>0</td>\n",
       "      <td>0</td>\n",
       "      <td>0</td>\n",
       "      <td>0</td>\n",
       "      <td>0</td>\n",
       "      <td>0</td>\n",
       "      <td>0</td>\n",
       "      <td>0</td>\n",
       "      <td>0</td>\n",
       "      <td>0</td>\n",
       "      <td>0</td>\n",
       "      <td>0</td>\n",
       "      <td>0</td>\n",
       "      <td>0</td>\n",
       "      <td>0</td>\n",
       "      <td>0</td>\n",
       "      <td>0</td>\n",
       "      <td>0</td>\n",
       "      <td>0</td>\n",
       "      <td>0</td>\n",
       "      <td>0</td>\n",
       "      <td>0</td>\n",
       "      <td>0</td>\n",
       "      <td>0</td>\n",
       "      <td>0</td>\n",
       "      <td>0</td>\n",
       "      <td>0</td>\n",
       "      <td>0</td>\n",
       "      <td>1</td>\n",
       "      <td>0</td>\n",
       "      <td>0</td>\n",
       "      <td>0</td>\n",
       "      <td>0</td>\n",
       "      <td>0</td>\n",
       "      <td>1</td>\n",
       "      <td>0</td>\n",
       "      <td>0</td>\n",
       "      <td>0</td>\n",
       "      <td>0</td>\n",
       "      <td>0</td>\n",
       "      <td>1</td>\n",
       "      <td>0</td>\n",
       "      <td>0</td>\n",
       "      <td>0</td>\n",
       "      <td>0</td>\n",
       "      <td>0</td>\n",
       "      <td>0</td>\n",
       "      <td>0</td>\n",
       "      <td>0</td>\n",
       "      <td>0</td>\n",
       "      <td>0</td>\n",
       "      <td>0</td>\n",
       "      <td>0</td>\n",
       "      <td>0</td>\n",
       "      <td>0</td>\n",
       "      <td>0</td>\n",
       "      <td>0</td>\n",
       "      <td>0</td>\n",
       "      <td>0</td>\n",
       "      <td>0</td>\n",
       "      <td>1</td>\n",
       "      <td>0</td>\n",
       "      <td>0</td>\n",
       "      <td>0</td>\n",
       "    </tr>\n",
       "    <tr>\n",
       "      <th>436</th>\n",
       "      <td>0.011952</td>\n",
       "      <td>0.020246</td>\n",
       "      <td>0.125000</td>\n",
       "      <td>1</td>\n",
       "      <td>0</td>\n",
       "      <td>0</td>\n",
       "      <td>1</td>\n",
       "      <td>0</td>\n",
       "      <td>0</td>\n",
       "      <td>0</td>\n",
       "      <td>0</td>\n",
       "      <td>0</td>\n",
       "      <td>0</td>\n",
       "      <td>0</td>\n",
       "      <td>0</td>\n",
       "      <td>0</td>\n",
       "      <td>0</td>\n",
       "      <td>0</td>\n",
       "      <td>0</td>\n",
       "      <td>0</td>\n",
       "      <td>0</td>\n",
       "      <td>0</td>\n",
       "      <td>0</td>\n",
       "      <td>0</td>\n",
       "      <td>0</td>\n",
       "      <td>0</td>\n",
       "      <td>0</td>\n",
       "      <td>0</td>\n",
       "      <td>0</td>\n",
       "      <td>0</td>\n",
       "      <td>0</td>\n",
       "      <td>1</td>\n",
       "      <td>0</td>\n",
       "      <td>0</td>\n",
       "      <td>0</td>\n",
       "      <td>0</td>\n",
       "      <td>0</td>\n",
       "      <td>0</td>\n",
       "      <td>0</td>\n",
       "      <td>0</td>\n",
       "      <td>0</td>\n",
       "      <td>0</td>\n",
       "      <td>0</td>\n",
       "      <td>0</td>\n",
       "      <td>0</td>\n",
       "      <td>0</td>\n",
       "      <td>1</td>\n",
       "      <td>0</td>\n",
       "      <td>0</td>\n",
       "      <td>0</td>\n",
       "      <td>0</td>\n",
       "      <td>0</td>\n",
       "      <td>1</td>\n",
       "      <td>0</td>\n",
       "      <td>0</td>\n",
       "      <td>0</td>\n",
       "      <td>0</td>\n",
       "      <td>0</td>\n",
       "      <td>0</td>\n",
       "      <td>0</td>\n",
       "      <td>1</td>\n",
       "      <td>0</td>\n",
       "      <td>1</td>\n",
       "      <td>0</td>\n",
       "      <td>0</td>\n",
       "      <td>0</td>\n",
       "      <td>0</td>\n",
       "      <td>0</td>\n",
       "      <td>0</td>\n",
       "      <td>0</td>\n",
       "      <td>0</td>\n",
       "      <td>0</td>\n",
       "      <td>0</td>\n",
       "      <td>0</td>\n",
       "      <td>0</td>\n",
       "      <td>0</td>\n",
       "    </tr>\n",
       "    <tr>\n",
       "      <th>8236</th>\n",
       "      <td>0.023904</td>\n",
       "      <td>0.305018</td>\n",
       "      <td>0.125000</td>\n",
       "      <td>1</td>\n",
       "      <td>0</td>\n",
       "      <td>0</td>\n",
       "      <td>0</td>\n",
       "      <td>0</td>\n",
       "      <td>1</td>\n",
       "      <td>0</td>\n",
       "      <td>0</td>\n",
       "      <td>0</td>\n",
       "      <td>0</td>\n",
       "      <td>0</td>\n",
       "      <td>0</td>\n",
       "      <td>0</td>\n",
       "      <td>0</td>\n",
       "      <td>0</td>\n",
       "      <td>0</td>\n",
       "      <td>0</td>\n",
       "      <td>0</td>\n",
       "      <td>0</td>\n",
       "      <td>0</td>\n",
       "      <td>0</td>\n",
       "      <td>0</td>\n",
       "      <td>0</td>\n",
       "      <td>0</td>\n",
       "      <td>0</td>\n",
       "      <td>0</td>\n",
       "      <td>0</td>\n",
       "      <td>0</td>\n",
       "      <td>0</td>\n",
       "      <td>0</td>\n",
       "      <td>0</td>\n",
       "      <td>0</td>\n",
       "      <td>0</td>\n",
       "      <td>0</td>\n",
       "      <td>0</td>\n",
       "      <td>1</td>\n",
       "      <td>0</td>\n",
       "      <td>0</td>\n",
       "      <td>0</td>\n",
       "      <td>0</td>\n",
       "      <td>0</td>\n",
       "      <td>0</td>\n",
       "      <td>1</td>\n",
       "      <td>0</td>\n",
       "      <td>0</td>\n",
       "      <td>0</td>\n",
       "      <td>0</td>\n",
       "      <td>0</td>\n",
       "      <td>0</td>\n",
       "      <td>1</td>\n",
       "      <td>0</td>\n",
       "      <td>0</td>\n",
       "      <td>0</td>\n",
       "      <td>0</td>\n",
       "      <td>0</td>\n",
       "      <td>0</td>\n",
       "      <td>0</td>\n",
       "      <td>0</td>\n",
       "      <td>0</td>\n",
       "      <td>0</td>\n",
       "      <td>0</td>\n",
       "      <td>0</td>\n",
       "      <td>0</td>\n",
       "      <td>0</td>\n",
       "      <td>0</td>\n",
       "      <td>1</td>\n",
       "      <td>0</td>\n",
       "      <td>0</td>\n",
       "      <td>0</td>\n",
       "      <td>0</td>\n",
       "      <td>0</td>\n",
       "      <td>0</td>\n",
       "      <td>0</td>\n",
       "    </tr>\n",
       "    <tr>\n",
       "      <th>3034</th>\n",
       "      <td>0.003984</td>\n",
       "      <td>0.548856</td>\n",
       "      <td>0.041667</td>\n",
       "      <td>0</td>\n",
       "      <td>1</td>\n",
       "      <td>0</td>\n",
       "      <td>0</td>\n",
       "      <td>0</td>\n",
       "      <td>0</td>\n",
       "      <td>0</td>\n",
       "      <td>0</td>\n",
       "      <td>0</td>\n",
       "      <td>0</td>\n",
       "      <td>0</td>\n",
       "      <td>0</td>\n",
       "      <td>0</td>\n",
       "      <td>1</td>\n",
       "      <td>0</td>\n",
       "      <td>0</td>\n",
       "      <td>0</td>\n",
       "      <td>0</td>\n",
       "      <td>0</td>\n",
       "      <td>0</td>\n",
       "      <td>0</td>\n",
       "      <td>0</td>\n",
       "      <td>0</td>\n",
       "      <td>0</td>\n",
       "      <td>0</td>\n",
       "      <td>0</td>\n",
       "      <td>0</td>\n",
       "      <td>0</td>\n",
       "      <td>1</td>\n",
       "      <td>0</td>\n",
       "      <td>0</td>\n",
       "      <td>0</td>\n",
       "      <td>0</td>\n",
       "      <td>0</td>\n",
       "      <td>0</td>\n",
       "      <td>0</td>\n",
       "      <td>0</td>\n",
       "      <td>0</td>\n",
       "      <td>0</td>\n",
       "      <td>0</td>\n",
       "      <td>0</td>\n",
       "      <td>0</td>\n",
       "      <td>0</td>\n",
       "      <td>0</td>\n",
       "      <td>0</td>\n",
       "      <td>1</td>\n",
       "      <td>0</td>\n",
       "      <td>0</td>\n",
       "      <td>0</td>\n",
       "      <td>1</td>\n",
       "      <td>0</td>\n",
       "      <td>0</td>\n",
       "      <td>0</td>\n",
       "      <td>0</td>\n",
       "      <td>0</td>\n",
       "      <td>0</td>\n",
       "      <td>0</td>\n",
       "      <td>0</td>\n",
       "      <td>0</td>\n",
       "      <td>0</td>\n",
       "      <td>0</td>\n",
       "      <td>0</td>\n",
       "      <td>0</td>\n",
       "      <td>0</td>\n",
       "      <td>0</td>\n",
       "      <td>1</td>\n",
       "      <td>0</td>\n",
       "      <td>0</td>\n",
       "      <td>0</td>\n",
       "      <td>0</td>\n",
       "      <td>0</td>\n",
       "      <td>0</td>\n",
       "      <td>0</td>\n",
       "    </tr>\n",
       "    <tr>\n",
       "      <th>2776</th>\n",
       "      <td>0.007968</td>\n",
       "      <td>0.030810</td>\n",
       "      <td>0.041667</td>\n",
       "      <td>0</td>\n",
       "      <td>0</td>\n",
       "      <td>0</td>\n",
       "      <td>0</td>\n",
       "      <td>0</td>\n",
       "      <td>1</td>\n",
       "      <td>0</td>\n",
       "      <td>0</td>\n",
       "      <td>0</td>\n",
       "      <td>0</td>\n",
       "      <td>0</td>\n",
       "      <td>0</td>\n",
       "      <td>0</td>\n",
       "      <td>0</td>\n",
       "      <td>0</td>\n",
       "      <td>0</td>\n",
       "      <td>0</td>\n",
       "      <td>0</td>\n",
       "      <td>0</td>\n",
       "      <td>0</td>\n",
       "      <td>0</td>\n",
       "      <td>0</td>\n",
       "      <td>0</td>\n",
       "      <td>0</td>\n",
       "      <td>0</td>\n",
       "      <td>0</td>\n",
       "      <td>0</td>\n",
       "      <td>0</td>\n",
       "      <td>0</td>\n",
       "      <td>0</td>\n",
       "      <td>0</td>\n",
       "      <td>0</td>\n",
       "      <td>0</td>\n",
       "      <td>0</td>\n",
       "      <td>0</td>\n",
       "      <td>0</td>\n",
       "      <td>0</td>\n",
       "      <td>1</td>\n",
       "      <td>0</td>\n",
       "      <td>0</td>\n",
       "      <td>0</td>\n",
       "      <td>0</td>\n",
       "      <td>0</td>\n",
       "      <td>0</td>\n",
       "      <td>0</td>\n",
       "      <td>1</td>\n",
       "      <td>0</td>\n",
       "      <td>0</td>\n",
       "      <td>0</td>\n",
       "      <td>1</td>\n",
       "      <td>0</td>\n",
       "      <td>0</td>\n",
       "      <td>0</td>\n",
       "      <td>0</td>\n",
       "      <td>0</td>\n",
       "      <td>0</td>\n",
       "      <td>0</td>\n",
       "      <td>0</td>\n",
       "      <td>0</td>\n",
       "      <td>0</td>\n",
       "      <td>0</td>\n",
       "      <td>0</td>\n",
       "      <td>0</td>\n",
       "      <td>0</td>\n",
       "      <td>0</td>\n",
       "      <td>1</td>\n",
       "      <td>0</td>\n",
       "      <td>0</td>\n",
       "      <td>0</td>\n",
       "      <td>0</td>\n",
       "      <td>0</td>\n",
       "      <td>0</td>\n",
       "      <td>0</td>\n",
       "    </tr>\n",
       "  </tbody>\n",
       "</table>\n",
       "</div>"
      ],
      "text/plain": [
       "      TotalVisits  Total Time Spent on Website  Page Views Per Visit  \\\n",
       "3360     0.011952                     0.518486              0.125000   \n",
       "436      0.011952                     0.020246              0.125000   \n",
       "8236     0.023904                     0.305018              0.125000   \n",
       "3034     0.003984                     0.548856              0.041667   \n",
       "2776     0.007968                     0.030810              0.041667   \n",
       "\n",
       "      Lead Origin_Landing Page Submission  Lead Origin_Lead Add Form  \\\n",
       "3360                                    1                          0   \n",
       "436                                     1                          0   \n",
       "8236                                    1                          0   \n",
       "3034                                    0                          1   \n",
       "2776                                    0                          0   \n",
       "\n",
       "      Lead Origin_Lead Import  Lead Source_Direct Traffic  \\\n",
       "3360                        0                           0   \n",
       "436                         0                           1   \n",
       "8236                        0                           0   \n",
       "3034                        0                           0   \n",
       "2776                        0                           0   \n",
       "\n",
       "      Lead Source_Facebook  Lead Source_Google  Lead Source_Live Chat  \\\n",
       "3360                     0                   1                      0   \n",
       "436                      0                   0                      0   \n",
       "8236                     0                   1                      0   \n",
       "3034                     0                   0                      0   \n",
       "2776                     0                   1                      0   \n",
       "\n",
       "      Lead Source_NC_EDM  Lead Source_Olark Chat  Lead Source_Organic Search  \\\n",
       "3360                   0                       0                           0   \n",
       "436                    0                       0                           0   \n",
       "8236                   0                       0                           0   \n",
       "3034                   0                       0                           0   \n",
       "2776                   0                       0                           0   \n",
       "\n",
       "      Lead Source_Others  Lead Source_Pay per Click Ads  \\\n",
       "3360                   0                              0   \n",
       "436                    0                              0   \n",
       "8236                   0                              0   \n",
       "3034                   0                              0   \n",
       "2776                   0                              0   \n",
       "\n",
       "      Lead Source_Press_Release  Lead Source_Reference  \\\n",
       "3360                          0                      0   \n",
       "436                           0                      0   \n",
       "8236                          0                      0   \n",
       "3034                          0                      1   \n",
       "2776                          0                      0   \n",
       "\n",
       "      Lead Source_Referral Sites  Lead Source_Social Media  \\\n",
       "3360                           0                         0   \n",
       "436                            0                         0   \n",
       "8236                           0                         0   \n",
       "3034                           0                         0   \n",
       "2776                           0                         0   \n",
       "\n",
       "      Lead Source_WeLearn  Lead Source_Welingak Website  Lead Source_bing  \\\n",
       "3360                    0                             0                 0   \n",
       "436                     0                             0                 0   \n",
       "8236                    0                             0                 0   \n",
       "3034                    0                             0                 0   \n",
       "2776                    0                             0                 0   \n",
       "\n",
       "      Lead Source_blog  Lead Source_google  Lead Source_testone  \\\n",
       "3360                 0                   0                    0   \n",
       "436                  0                   0                    0   \n",
       "8236                 0                   0                    0   \n",
       "3034                 0                   0                    0   \n",
       "2776                 0                   0                    0   \n",
       "\n",
       "      Lead Source_welearnblog_Home  Lead Source_youtubechannel  \\\n",
       "3360                             0                           0   \n",
       "436                              0                           0   \n",
       "8236                             0                           0   \n",
       "3034                             0                           0   \n",
       "2776                             0                           0   \n",
       "\n",
       "      Do Not Email_Yes  Do Not Call_Yes  Last Activity_Converted to Lead  \\\n",
       "3360                 0                0                                0   \n",
       "436                  0                0                                0   \n",
       "8236                 0                0                                0   \n",
       "3034                 0                0                                0   \n",
       "2776                 0                0                                0   \n",
       "\n",
       "      Last Activity_Email Bounced  Last Activity_Email Link Clicked  \\\n",
       "3360                            0                                 0   \n",
       "436                             0                                 1   \n",
       "8236                            0                                 0   \n",
       "3034                            0                                 1   \n",
       "2776                            0                                 0   \n",
       "\n",
       "      Last Activity_Email Marked Spam  Last Activity_Email Opened  \\\n",
       "3360                                0                           0   \n",
       "436                                 0                           0   \n",
       "8236                                0                           0   \n",
       "3034                                0                           0   \n",
       "2776                                0                           0   \n",
       "\n",
       "      Last Activity_Email Received  Last Activity_Form Submitted on Website  \\\n",
       "3360                             0                                        0   \n",
       "436                              0                                        0   \n",
       "8236                             0                                        0   \n",
       "3034                             0                                        0   \n",
       "2776                             0                                        0   \n",
       "\n",
       "      Last Activity_Had a Phone Conversation  \\\n",
       "3360                                       0   \n",
       "436                                        0   \n",
       "8236                                       0   \n",
       "3034                                       0   \n",
       "2776                                       0   \n",
       "\n",
       "      Last Activity_Olark Chat Conversation  \\\n",
       "3360                                      0   \n",
       "436                                       0   \n",
       "8236                                      0   \n",
       "3034                                      0   \n",
       "2776                                      0   \n",
       "\n",
       "      Last Activity_Page Visited on Website  \\\n",
       "3360                                      0   \n",
       "436                                       0   \n",
       "8236                                      1   \n",
       "3034                                      0   \n",
       "2776                                      0   \n",
       "\n",
       "      Last Activity_Resubscribed to emails  Last Activity_SMS Sent  \\\n",
       "3360                                     0                       1   \n",
       "436                                      0                       0   \n",
       "8236                                     0                       0   \n",
       "3034                                     0                       0   \n",
       "2776                                     0                       1   \n",
       "\n",
       "      Last Activity_Unreachable  Last Activity_Unsubscribed  \\\n",
       "3360                          0                           0   \n",
       "436                           0                           0   \n",
       "8236                          0                           0   \n",
       "3034                          0                           0   \n",
       "2776                          0                           0   \n",
       "\n",
       "      Last Activity_View in browser link Clicked  \\\n",
       "3360                                           0   \n",
       "436                                            0   \n",
       "8236                                           0   \n",
       "3034                                           0   \n",
       "2776                                           0   \n",
       "\n",
       "      Last Activity_Visited Booth in Tradeshow  \\\n",
       "3360                                         0   \n",
       "436                                          0   \n",
       "8236                                         0   \n",
       "3034                                         0   \n",
       "2776                                         0   \n",
       "\n",
       "      Specialization_Industry Specializations  \\\n",
       "3360                                        0   \n",
       "436                                         0   \n",
       "8236                                        1   \n",
       "3034                                        0   \n",
       "2776                                        0   \n",
       "\n",
       "      Specialization_Management Specializations  Specialization_Not Specified  \\\n",
       "3360                                          1                             0   \n",
       "436                                           1                             0   \n",
       "8236                                          0                             0   \n",
       "3034                                          0                             0   \n",
       "2776                                          0                             0   \n",
       "\n",
       "      Specialization_Select  What is your current occupation_Housewife  \\\n",
       "3360                      0                                          0   \n",
       "436                       0                                          0   \n",
       "8236                      0                                          0   \n",
       "3034                      1                                          0   \n",
       "2776                      1                                          0   \n",
       "\n",
       "      What is your current occupation_Other  \\\n",
       "3360                                      0   \n",
       "436                                       0   \n",
       "8236                                      0   \n",
       "3034                                      0   \n",
       "2776                                      0   \n",
       "\n",
       "      What is your current occupation_Student  \\\n",
       "3360                                        0   \n",
       "436                                         0   \n",
       "8236                                        0   \n",
       "3034                                        0   \n",
       "2776                                        0   \n",
       "\n",
       "      What is your current occupation_Unemployed  \\\n",
       "3360                                           1   \n",
       "436                                            1   \n",
       "8236                                           1   \n",
       "3034                                           1   \n",
       "2776                                           1   \n",
       "\n",
       "      What is your current occupation_Working Professional  Search_Yes  \\\n",
       "3360                                                  0              0   \n",
       "436                                                   0              0   \n",
       "8236                                                  0              0   \n",
       "3034                                                  0              0   \n",
       "2776                                                  0              0   \n",
       "\n",
       "      Newspaper Article_Yes  X Education Forums_Yes  Newspaper_Yes  \\\n",
       "3360                      0                       0              0   \n",
       "436                       0                       0              0   \n",
       "8236                      0                       0              0   \n",
       "3034                      0                       0              0   \n",
       "2776                      0                       0              0   \n",
       "\n",
       "      Digital Advertisement_Yes  Through Recommendations_Yes  \\\n",
       "3360                          0                            0   \n",
       "436                           0                            0   \n",
       "8236                          0                            0   \n",
       "3034                          0                            0   \n",
       "2776                          0                            0   \n",
       "\n",
       "      A free copy of Mastering The Interview_Yes  \\\n",
       "3360                                           0   \n",
       "436                                            1   \n",
       "8236                                           0   \n",
       "3034                                           0   \n",
       "2776                                           0   \n",
       "\n",
       "      Last Notable Activity_Email Bounced  \\\n",
       "3360                                    0   \n",
       "436                                     0   \n",
       "8236                                    0   \n",
       "3034                                    0   \n",
       "2776                                    0   \n",
       "\n",
       "      Last Notable Activity_Email Link Clicked  \\\n",
       "3360                                         0   \n",
       "436                                          1   \n",
       "8236                                         0   \n",
       "3034                                         0   \n",
       "2776                                         0   \n",
       "\n",
       "      Last Notable Activity_Email Marked Spam  \\\n",
       "3360                                        0   \n",
       "436                                         0   \n",
       "8236                                        0   \n",
       "3034                                        0   \n",
       "2776                                        0   \n",
       "\n",
       "      Last Notable Activity_Email Opened  \\\n",
       "3360                                   0   \n",
       "436                                    0   \n",
       "8236                                   0   \n",
       "3034                                   0   \n",
       "2776                                   0   \n",
       "\n",
       "      Last Notable Activity_Email Received  \\\n",
       "3360                                     0   \n",
       "436                                      0   \n",
       "8236                                     0   \n",
       "3034                                     0   \n",
       "2776                                     0   \n",
       "\n",
       "      Last Notable Activity_Form Submitted on Website  \\\n",
       "3360                                                0   \n",
       "436                                                 0   \n",
       "8236                                                0   \n",
       "3034                                                0   \n",
       "2776                                                0   \n",
       "\n",
       "      Last Notable Activity_Had a Phone Conversation  \\\n",
       "3360                                               0   \n",
       "436                                                0   \n",
       "8236                                               0   \n",
       "3034                                               0   \n",
       "2776                                               0   \n",
       "\n",
       "      Last Notable Activity_Modified  \\\n",
       "3360                               0   \n",
       "436                                0   \n",
       "8236                               1   \n",
       "3034                               1   \n",
       "2776                               1   \n",
       "\n",
       "      Last Notable Activity_Olark Chat Conversation  \\\n",
       "3360                                              0   \n",
       "436                                               0   \n",
       "8236                                              0   \n",
       "3034                                              0   \n",
       "2776                                              0   \n",
       "\n",
       "      Last Notable Activity_Page Visited on Website  \\\n",
       "3360                                              0   \n",
       "436                                               0   \n",
       "8236                                              0   \n",
       "3034                                              0   \n",
       "2776                                              0   \n",
       "\n",
       "      Last Notable Activity_Resubscribed to emails  \\\n",
       "3360                                             0   \n",
       "436                                              0   \n",
       "8236                                             0   \n",
       "3034                                             0   \n",
       "2776                                             0   \n",
       "\n",
       "      Last Notable Activity_SMS Sent  Last Notable Activity_Unreachable  \\\n",
       "3360                               1                                  0   \n",
       "436                                0                                  0   \n",
       "8236                               0                                  0   \n",
       "3034                               0                                  0   \n",
       "2776                               0                                  0   \n",
       "\n",
       "      Last Notable Activity_Unsubscribed  \\\n",
       "3360                                   0   \n",
       "436                                    0   \n",
       "8236                                   0   \n",
       "3034                                   0   \n",
       "2776                                   0   \n",
       "\n",
       "      Last Notable Activity_View in browser link Clicked  \n",
       "3360                                                  0   \n",
       "436                                                   0   \n",
       "8236                                                  0   \n",
       "3034                                                  0   \n",
       "2776                                                  0   "
      ]
     },
     "execution_count": 91,
     "metadata": {},
     "output_type": "execute_result"
    }
   ],
   "source": [
    "#Scaling the numerical data using Min-Max Scaler\n",
    "scaler = MinMaxScaler()\n",
    "\n",
    "X_train[num_columns] = scaler.fit_transform(X_train[num_columns])\n",
    "X_train.head()"
   ]
  },
  {
   "cell_type": "code",
   "execution_count": 92,
   "metadata": {},
   "outputs": [
    {
     "data": {
      "text/plain": [
       "38.02043282434362"
      ]
     },
     "execution_count": 92,
     "metadata": {},
     "output_type": "execute_result"
    }
   ],
   "source": [
    "#Checking the present lead conversion rate\n",
    "convert = (sum(Xed['Converted'])/len(Xed['Converted'].index))*100\n",
    "convert"
   ]
  },
  {
   "cell_type": "markdown",
   "metadata": {},
   "source": [
    "## Model Building"
   ]
  },
  {
   "cell_type": "markdown",
   "metadata": {},
   "source": [
    "### Running First Model"
   ]
  },
  {
   "cell_type": "code",
   "execution_count": 93,
   "metadata": {},
   "outputs": [
    {
     "data": {
      "text/html": [
       "<table class=\"simpletable\">\n",
       "<caption>Generalized Linear Model Regression Results</caption>\n",
       "<tr>\n",
       "  <th>Dep. Variable:</th>       <td>Converted</td>    <th>  No. Observations:  </th>  <td>  6372</td> \n",
       "</tr>\n",
       "<tr>\n",
       "  <th>Model:</th>                  <td>GLM</td>       <th>  Df Residuals:      </th>  <td>  6301</td> \n",
       "</tr>\n",
       "<tr>\n",
       "  <th>Model Family:</th>        <td>Binomial</td>     <th>  Df Model:          </th>  <td>    70</td> \n",
       "</tr>\n",
       "<tr>\n",
       "  <th>Link Function:</th>         <td>logit</td>      <th>  Scale:             </th> <td>  1.0000</td>\n",
       "</tr>\n",
       "<tr>\n",
       "  <th>Method:</th>                <td>IRLS</td>       <th>  Log-Likelihood:    </th> <td> -2538.5</td>\n",
       "</tr>\n",
       "<tr>\n",
       "  <th>Date:</th>            <td>Tue, 26 Oct 2021</td> <th>  Deviance:          </th> <td>  5077.0</td>\n",
       "</tr>\n",
       "<tr>\n",
       "  <th>Time:</th>                <td>21:42:28</td>     <th>  Pearson chi2:      </th> <td>6.31e+03</td>\n",
       "</tr>\n",
       "<tr>\n",
       "  <th>No. Iterations:</th>         <td>22</td>        <th>                     </th>     <td> </td>   \n",
       "</tr>\n",
       "<tr>\n",
       "  <th>Covariance Type:</th>     <td>nonrobust</td>    <th>                     </th>     <td> </td>   \n",
       "</tr>\n",
       "</table>\n",
       "<table class=\"simpletable\">\n",
       "<tr>\n",
       "                            <td></td>                              <th>coef</th>     <th>std err</th>      <th>z</th>      <th>P>|z|</th>  <th>[0.025</th>    <th>0.975]</th>  \n",
       "</tr>\n",
       "<tr>\n",
       "  <th>const</th>                                                <td>   23.7160</td> <td>  8.2e+04</td> <td>    0.000</td> <td> 1.000</td> <td>-1.61e+05</td> <td> 1.61e+05</td>\n",
       "</tr>\n",
       "<tr>\n",
       "  <th>TotalVisits</th>                                          <td>    8.9703</td> <td>    2.905</td> <td>    3.088</td> <td> 0.002</td> <td>    3.277</td> <td>   14.663</td>\n",
       "</tr>\n",
       "<tr>\n",
       "  <th>Total Time Spent on Website</th>                          <td>    4.3984</td> <td>    0.168</td> <td>   26.171</td> <td> 0.000</td> <td>    4.069</td> <td>    4.728</td>\n",
       "</tr>\n",
       "<tr>\n",
       "  <th>Page Views Per Visit</th>                                 <td>   -1.6304</td> <td>    0.600</td> <td>   -2.719</td> <td> 0.007</td> <td>   -2.806</td> <td>   -0.455</td>\n",
       "</tr>\n",
       "<tr>\n",
       "  <th>Lead Origin_Landing Page Submission</th>                  <td>   -0.9938</td> <td>    0.140</td> <td>   -7.108</td> <td> 0.000</td> <td>   -1.268</td> <td>   -0.720</td>\n",
       "</tr>\n",
       "<tr>\n",
       "  <th>Lead Origin_Lead Add Form</th>                            <td>    0.3848</td> <td>    1.332</td> <td>    0.289</td> <td> 0.773</td> <td>   -2.226</td> <td>    2.996</td>\n",
       "</tr>\n",
       "<tr>\n",
       "  <th>Lead Origin_Lead Import</th>                              <td>   -0.3082</td> <td>    1.629</td> <td>   -0.189</td> <td> 0.850</td> <td>   -3.501</td> <td>    2.885</td>\n",
       "</tr>\n",
       "<tr>\n",
       "  <th>Lead Source_Direct Traffic</th>                           <td>   -1.2946</td> <td>    1.821</td> <td>   -0.711</td> <td> 0.477</td> <td>   -4.864</td> <td>    2.275</td>\n",
       "</tr>\n",
       "<tr>\n",
       "  <th>Lead Source_Facebook</th>                                 <td>   -0.3738</td> <td>    2.086</td> <td>   -0.179</td> <td> 0.858</td> <td>   -4.461</td> <td>    3.714</td>\n",
       "</tr>\n",
       "<tr>\n",
       "  <th>Lead Source_Google</th>                                   <td>   -1.1129</td> <td>    1.819</td> <td>   -0.612</td> <td> 0.541</td> <td>   -4.678</td> <td>    2.453</td>\n",
       "</tr>\n",
       "<tr>\n",
       "  <th>Lead Source_Live Chat</th>                                <td>   22.5030</td> <td> 5.69e+04</td> <td>    0.000</td> <td> 1.000</td> <td>-1.12e+05</td> <td> 1.12e+05</td>\n",
       "</tr>\n",
       "<tr>\n",
       "  <th>Lead Source_NC_EDM</th>                                   <td>   22.5166</td> <td> 7.76e+04</td> <td>    0.000</td> <td> 1.000</td> <td>-1.52e+05</td> <td> 1.52e+05</td>\n",
       "</tr>\n",
       "<tr>\n",
       "  <th>Lead Source_Olark Chat</th>                               <td>   -0.0995</td> <td>    1.817</td> <td>   -0.055</td> <td> 0.956</td> <td>   -3.661</td> <td>    3.462</td>\n",
       "</tr>\n",
       "<tr>\n",
       "  <th>Lead Source_Organic Search</th>                           <td>   -1.1531</td> <td>    1.822</td> <td>   -0.633</td> <td> 0.527</td> <td>   -4.725</td> <td>    2.418</td>\n",
       "</tr>\n",
       "<tr>\n",
       "  <th>Lead Source_Others</th>                                   <td>    1.3972</td> <td>    1.427</td> <td>    0.979</td> <td> 0.328</td> <td>   -1.400</td> <td>    4.194</td>\n",
       "</tr>\n",
       "<tr>\n",
       "  <th>Lead Source_Pay per Click Ads</th>                        <td>  -22.7402</td> <td> 7.79e+04</td> <td>   -0.000</td> <td> 1.000</td> <td>-1.53e+05</td> <td> 1.53e+05</td>\n",
       "</tr>\n",
       "<tr>\n",
       "  <th>Lead Source_Press_Release</th>                            <td>  -21.7742</td> <td> 5.11e+04</td> <td>   -0.000</td> <td> 1.000</td> <td>   -1e+05</td> <td>    1e+05</td>\n",
       "</tr>\n",
       "<tr>\n",
       "  <th>Lead Source_Reference</th>                                <td>    1.5587</td> <td>    1.261</td> <td>    1.236</td> <td> 0.217</td> <td>   -0.913</td> <td>    4.031</td>\n",
       "</tr>\n",
       "<tr>\n",
       "  <th>Lead Source_Referral Sites</th>                           <td>   -1.3247</td> <td>    1.846</td> <td>   -0.717</td> <td> 0.473</td> <td>   -4.944</td> <td>    2.294</td>\n",
       "</tr>\n",
       "<tr>\n",
       "  <th>Lead Source_Social Media</th>                             <td>   23.2132</td> <td> 7.86e+04</td> <td>    0.000</td> <td> 1.000</td> <td>-1.54e+05</td> <td> 1.54e+05</td>\n",
       "</tr>\n",
       "<tr>\n",
       "  <th>Lead Source_WeLearn</th>                                  <td>   22.3672</td> <td> 8.34e+04</td> <td>    0.000</td> <td> 1.000</td> <td>-1.63e+05</td> <td> 1.64e+05</td>\n",
       "</tr>\n",
       "<tr>\n",
       "  <th>Lead Source_Welingak Website</th>                         <td>    4.3708</td> <td>    1.604</td> <td>    2.725</td> <td> 0.006</td> <td>    1.227</td> <td>    7.515</td>\n",
       "</tr>\n",
       "<tr>\n",
       "  <th>Lead Source_bing</th>                                     <td>   -0.4683</td> <td>    2.350</td> <td>   -0.199</td> <td> 0.842</td> <td>   -5.074</td> <td>    4.137</td>\n",
       "</tr>\n",
       "<tr>\n",
       "  <th>Lead Source_blog</th>                                     <td>  -23.8062</td> <td> 7.86e+04</td> <td>   -0.000</td> <td> 1.000</td> <td>-1.54e+05</td> <td> 1.54e+05</td>\n",
       "</tr>\n",
       "<tr>\n",
       "  <th>Lead Source_google</th>                                   <td>  -22.1655</td> <td>  3.4e+04</td> <td>   -0.001</td> <td> 0.999</td> <td>-6.66e+04</td> <td> 6.66e+04</td>\n",
       "</tr>\n",
       "<tr>\n",
       "  <th>Lead Source_testone</th>                                  <td>  -22.8371</td> <td> 8.05e+04</td> <td>   -0.000</td> <td> 1.000</td> <td>-1.58e+05</td> <td> 1.58e+05</td>\n",
       "</tr>\n",
       "<tr>\n",
       "  <th>Lead Source_welearnblog_Home</th>                         <td>  -23.1460</td> <td> 7.42e+04</td> <td>   -0.000</td> <td> 1.000</td> <td>-1.45e+05</td> <td> 1.45e+05</td>\n",
       "</tr>\n",
       "<tr>\n",
       "  <th>Lead Source_youtubechannel</th>                           <td> -1.83e-09</td> <td>  8.5e-06</td> <td>   -0.000</td> <td> 1.000</td> <td>-1.67e-05</td> <td> 1.67e-05</td>\n",
       "</tr>\n",
       "<tr>\n",
       "  <th>Do Not Email_Yes</th>                                     <td>   -1.4785</td> <td>    0.214</td> <td>   -6.919</td> <td> 0.000</td> <td>   -1.897</td> <td>   -1.060</td>\n",
       "</tr>\n",
       "<tr>\n",
       "  <th>Do Not Call_Yes</th>                                      <td>   22.5077</td> <td> 5.39e+04</td> <td>    0.000</td> <td> 1.000</td> <td>-1.06e+05</td> <td> 1.06e+05</td>\n",
       "</tr>\n",
       "<tr>\n",
       "  <th>Last Activity_Converted to Lead</th>                      <td>  -24.6760</td> <td> 5.65e+04</td> <td>   -0.000</td> <td> 1.000</td> <td>-1.11e+05</td> <td> 1.11e+05</td>\n",
       "</tr>\n",
       "<tr>\n",
       "  <th>Last Activity_Email Bounced</th>                          <td>  -24.9210</td> <td> 5.65e+04</td> <td>   -0.000</td> <td> 1.000</td> <td>-1.11e+05</td> <td> 1.11e+05</td>\n",
       "</tr>\n",
       "<tr>\n",
       "  <th>Last Activity_Email Link Clicked</th>                     <td>  -23.6512</td> <td> 5.65e+04</td> <td>   -0.000</td> <td> 1.000</td> <td>-1.11e+05</td> <td> 1.11e+05</td>\n",
       "</tr>\n",
       "<tr>\n",
       "  <th>Last Activity_Email Marked Spam</th>                      <td>    0.0842</td> <td> 4.99e+04</td> <td> 1.69e-06</td> <td> 1.000</td> <td>-9.77e+04</td> <td> 9.77e+04</td>\n",
       "</tr>\n",
       "<tr>\n",
       "  <th>Last Activity_Email Opened</th>                           <td>  -23.5227</td> <td> 5.65e+04</td> <td>   -0.000</td> <td> 1.000</td> <td>-1.11e+05</td> <td> 1.11e+05</td>\n",
       "</tr>\n",
       "<tr>\n",
       "  <th>Last Activity_Email Received</th>                         <td> -6.87e-09</td> <td> 2.78e-05</td> <td>   -0.000</td> <td> 1.000</td> <td>-5.45e-05</td> <td> 5.44e-05</td>\n",
       "</tr>\n",
       "<tr>\n",
       "  <th>Last Activity_Form Submitted on Website</th>              <td>  -24.3487</td> <td> 5.65e+04</td> <td>   -0.000</td> <td> 1.000</td> <td>-1.11e+05</td> <td> 1.11e+05</td>\n",
       "</tr>\n",
       "<tr>\n",
       "  <th>Last Activity_Had a Phone Conversation</th>               <td>  -22.3022</td> <td> 5.65e+04</td> <td>   -0.000</td> <td> 1.000</td> <td>-1.11e+05</td> <td> 1.11e+05</td>\n",
       "</tr>\n",
       "<tr>\n",
       "  <th>Last Activity_Olark Chat Conversation</th>                <td>  -24.9208</td> <td> 5.65e+04</td> <td>   -0.000</td> <td> 1.000</td> <td>-1.11e+05</td> <td> 1.11e+05</td>\n",
       "</tr>\n",
       "<tr>\n",
       "  <th>Last Activity_Page Visited on Website</th>                <td>  -24.1102</td> <td> 5.65e+04</td> <td>   -0.000</td> <td> 1.000</td> <td>-1.11e+05</td> <td> 1.11e+05</td>\n",
       "</tr>\n",
       "<tr>\n",
       "  <th>Last Activity_Resubscribed to emails</th>                 <td>    1.1838</td> <td> 5.71e+04</td> <td> 2.07e-05</td> <td> 1.000</td> <td>-1.12e+05</td> <td> 1.12e+05</td>\n",
       "</tr>\n",
       "<tr>\n",
       "  <th>Last Activity_SMS Sent</th>                               <td>  -23.1331</td> <td> 5.65e+04</td> <td>   -0.000</td> <td> 1.000</td> <td>-1.11e+05</td> <td> 1.11e+05</td>\n",
       "</tr>\n",
       "<tr>\n",
       "  <th>Last Activity_Unreachable</th>                            <td>  -24.4585</td> <td> 5.65e+04</td> <td>   -0.000</td> <td> 1.000</td> <td>-1.11e+05</td> <td> 1.11e+05</td>\n",
       "</tr>\n",
       "<tr>\n",
       "  <th>Last Activity_Unsubscribed</th>                           <td>  -23.1935</td> <td> 5.65e+04</td> <td>   -0.000</td> <td> 1.000</td> <td>-1.11e+05</td> <td> 1.11e+05</td>\n",
       "</tr>\n",
       "<tr>\n",
       "  <th>Last Activity_View in browser link Clicked</th>           <td>  -23.4603</td> <td> 5.65e+04</td> <td>   -0.000</td> <td> 1.000</td> <td>-1.11e+05</td> <td> 1.11e+05</td>\n",
       "</tr>\n",
       "<tr>\n",
       "  <th>Last Activity_Visited Booth in Tradeshow</th>             <td>  -45.1149</td> <td> 9.83e+04</td> <td>   -0.000</td> <td> 1.000</td> <td>-1.93e+05</td> <td> 1.93e+05</td>\n",
       "</tr>\n",
       "<tr>\n",
       "  <th>Specialization_Industry Specializations</th>              <td>    0.1411</td> <td>    0.163</td> <td>    0.865</td> <td> 0.387</td> <td>   -0.179</td> <td>    0.461</td>\n",
       "</tr>\n",
       "<tr>\n",
       "  <th>Specialization_Management Specializations</th>            <td>   -0.0116</td> <td>    0.131</td> <td>   -0.089</td> <td> 0.929</td> <td>   -0.268</td> <td>    0.245</td>\n",
       "</tr>\n",
       "<tr>\n",
       "  <th>Specialization_Not Specified</th>                         <td>   -1.9782</td> <td>    0.202</td> <td>   -9.769</td> <td> 0.000</td> <td>   -2.375</td> <td>   -1.581</td>\n",
       "</tr>\n",
       "<tr>\n",
       "  <th>Specialization_Select</th>                                <td>   -0.8373</td> <td>    0.178</td> <td>   -4.698</td> <td> 0.000</td> <td>   -1.187</td> <td>   -0.488</td>\n",
       "</tr>\n",
       "<tr>\n",
       "  <th>What is your current occupation_Housewife</th>            <td>   23.5628</td> <td> 2.75e+04</td> <td>    0.001</td> <td> 0.999</td> <td>-5.39e+04</td> <td> 5.39e+04</td>\n",
       "</tr>\n",
       "<tr>\n",
       "  <th>What is your current occupation_Other</th>                <td>    1.4531</td> <td>    1.587</td> <td>    0.916</td> <td> 0.360</td> <td>   -1.658</td> <td>    4.564</td>\n",
       "</tr>\n",
       "<tr>\n",
       "  <th>What is your current occupation_Student</th>              <td>   -0.0730</td> <td>    1.305</td> <td>   -0.056</td> <td> 0.955</td> <td>   -2.631</td> <td>    2.485</td>\n",
       "</tr>\n",
       "<tr>\n",
       "  <th>What is your current occupation_Unemployed</th>           <td>   -0.4385</td> <td>    1.286</td> <td>   -0.341</td> <td> 0.733</td> <td>   -2.958</td> <td>    2.081</td>\n",
       "</tr>\n",
       "<tr>\n",
       "  <th>What is your current occupation_Working Professional</th> <td>    2.3379</td> <td>    1.302</td> <td>    1.796</td> <td> 0.073</td> <td>   -0.214</td> <td>    4.890</td>\n",
       "</tr>\n",
       "<tr>\n",
       "  <th>Search_Yes</th>                                           <td>    0.1235</td> <td>    0.795</td> <td>    0.155</td> <td> 0.877</td> <td>   -1.434</td> <td>    1.681</td>\n",
       "</tr>\n",
       "<tr>\n",
       "  <th>Newspaper Article_Yes</th>                                <td>   24.9117</td> <td> 7.95e+04</td> <td>    0.000</td> <td> 1.000</td> <td>-1.56e+05</td> <td> 1.56e+05</td>\n",
       "</tr>\n",
       "<tr>\n",
       "  <th>X Education Forums_Yes</th>                               <td>  -69.6767</td> <td> 1.25e+05</td> <td>   -0.001</td> <td> 1.000</td> <td>-2.45e+05</td> <td> 2.45e+05</td>\n",
       "</tr>\n",
       "<tr>\n",
       "  <th>Newspaper_Yes</th>                                        <td>-1.634e-14</td> <td> 4.99e-11</td> <td>   -0.000</td> <td> 1.000</td> <td>-9.79e-11</td> <td> 9.78e-11</td>\n",
       "</tr>\n",
       "<tr>\n",
       "  <th>Digital Advertisement_Yes</th>                            <td>   -0.2958</td> <td>    1.308</td> <td>   -0.226</td> <td> 0.821</td> <td>   -2.860</td> <td>    2.268</td>\n",
       "</tr>\n",
       "<tr>\n",
       "  <th>Through Recommendations_Yes</th>                          <td>   22.3292</td> <td> 5.41e+04</td> <td>    0.000</td> <td> 1.000</td> <td>-1.06e+05</td> <td> 1.06e+05</td>\n",
       "</tr>\n",
       "<tr>\n",
       "  <th>A free copy of Mastering The Interview_Yes</th>           <td>   -0.1795</td> <td>    0.109</td> <td>   -1.650</td> <td> 0.099</td> <td>   -0.393</td> <td>    0.034</td>\n",
       "</tr>\n",
       "<tr>\n",
       "  <th>Last Notable Activity_Email Bounced</th>                  <td>    2.4232</td> <td> 9.96e+04</td> <td> 2.43e-05</td> <td> 1.000</td> <td>-1.95e+05</td> <td> 1.95e+05</td>\n",
       "</tr>\n",
       "<tr>\n",
       "  <th>Last Notable Activity_Email Link Clicked</th>             <td>   -0.0826</td> <td> 9.96e+04</td> <td>-8.29e-07</td> <td> 1.000</td> <td>-1.95e+05</td> <td> 1.95e+05</td>\n",
       "</tr>\n",
       "<tr>\n",
       "  <th>Last Notable Activity_Email Marked Spam</th>              <td>    0.0842</td> <td> 4.99e+04</td> <td> 1.69e-06</td> <td> 1.000</td> <td>-9.77e+04</td> <td> 9.77e+04</td>\n",
       "</tr>\n",
       "<tr>\n",
       "  <th>Last Notable Activity_Email Opened</th>                   <td>    0.3188</td> <td> 9.96e+04</td> <td>  3.2e-06</td> <td> 1.000</td> <td>-1.95e+05</td> <td> 1.95e+05</td>\n",
       "</tr>\n",
       "<tr>\n",
       "  <th>Last Notable Activity_Email Received</th>                 <td>-1.105e-15</td> <td> 2.32e-11</td> <td>-4.77e-05</td> <td> 1.000</td> <td>-4.54e-11</td> <td> 4.54e-11</td>\n",
       "</tr>\n",
       "<tr>\n",
       "  <th>Last Notable Activity_Form Submitted on Website</th>      <td>  -20.6665</td> <td> 1.28e+05</td> <td>   -0.000</td> <td> 1.000</td> <td> -2.5e+05</td> <td>  2.5e+05</td>\n",
       "</tr>\n",
       "<tr>\n",
       "  <th>Last Notable Activity_Had a Phone Conversation</th>       <td>    1.4644</td> <td> 9.96e+04</td> <td> 1.47e-05</td> <td> 1.000</td> <td>-1.95e+05</td> <td> 1.95e+05</td>\n",
       "</tr>\n",
       "<tr>\n",
       "  <th>Last Notable Activity_Modified</th>                       <td>    0.2279</td> <td> 9.96e+04</td> <td> 2.29e-06</td> <td> 1.000</td> <td>-1.95e+05</td> <td> 1.95e+05</td>\n",
       "</tr>\n",
       "<tr>\n",
       "  <th>Last Notable Activity_Olark Chat Conversation</th>        <td>    0.4163</td> <td> 9.96e+04</td> <td> 4.18e-06</td> <td> 1.000</td> <td>-1.95e+05</td> <td> 1.95e+05</td>\n",
       "</tr>\n",
       "<tr>\n",
       "  <th>Last Notable Activity_Page Visited on Website</th>        <td>    0.4859</td> <td> 9.96e+04</td> <td> 4.88e-06</td> <td> 1.000</td> <td>-1.95e+05</td> <td> 1.95e+05</td>\n",
       "</tr>\n",
       "<tr>\n",
       "  <th>Last Notable Activity_Resubscribed to emails</th>         <td>    1.1838</td> <td> 5.71e+04</td> <td> 2.07e-05</td> <td> 1.000</td> <td>-1.12e+05</td> <td> 1.12e+05</td>\n",
       "</tr>\n",
       "<tr>\n",
       "  <th>Last Notable Activity_SMS Sent</th>                       <td>    1.3980</td> <td> 9.96e+04</td> <td>  1.4e-05</td> <td> 1.000</td> <td>-1.95e+05</td> <td> 1.95e+05</td>\n",
       "</tr>\n",
       "<tr>\n",
       "  <th>Last Notable Activity_Unreachable</th>                    <td>    2.7629</td> <td> 9.96e+04</td> <td> 2.77e-05</td> <td> 1.000</td> <td>-1.95e+05</td> <td> 1.95e+05</td>\n",
       "</tr>\n",
       "<tr>\n",
       "  <th>Last Notable Activity_Unsubscribed</th>                   <td>    1.5805</td> <td> 9.96e+04</td> <td> 1.59e-05</td> <td> 1.000</td> <td>-1.95e+05</td> <td> 1.95e+05</td>\n",
       "</tr>\n",
       "<tr>\n",
       "  <th>Last Notable Activity_View in browser link Clicked</th>   <td>  -22.3586</td> <td> 1.27e+05</td> <td>   -0.000</td> <td> 1.000</td> <td> -2.5e+05</td> <td>  2.5e+05</td>\n",
       "</tr>\n",
       "</table>"
      ],
      "text/plain": [
       "<class 'statsmodels.iolib.summary.Summary'>\n",
       "\"\"\"\n",
       "                 Generalized Linear Model Regression Results                  \n",
       "==============================================================================\n",
       "Dep. Variable:              Converted   No. Observations:                 6372\n",
       "Model:                            GLM   Df Residuals:                     6301\n",
       "Model Family:                Binomial   Df Model:                           70\n",
       "Link Function:                  logit   Scale:                          1.0000\n",
       "Method:                          IRLS   Log-Likelihood:                -2538.5\n",
       "Date:                Tue, 26 Oct 2021   Deviance:                       5077.0\n",
       "Time:                        21:42:28   Pearson chi2:                 6.31e+03\n",
       "No. Iterations:                    22                                         \n",
       "Covariance Type:            nonrobust                                         \n",
       "========================================================================================================================\n",
       "                                                           coef    std err          z      P>|z|      [0.025      0.975]\n",
       "------------------------------------------------------------------------------------------------------------------------\n",
       "const                                                   23.7160    8.2e+04      0.000      1.000   -1.61e+05    1.61e+05\n",
       "TotalVisits                                              8.9703      2.905      3.088      0.002       3.277      14.663\n",
       "Total Time Spent on Website                              4.3984      0.168     26.171      0.000       4.069       4.728\n",
       "Page Views Per Visit                                    -1.6304      0.600     -2.719      0.007      -2.806      -0.455\n",
       "Lead Origin_Landing Page Submission                     -0.9938      0.140     -7.108      0.000      -1.268      -0.720\n",
       "Lead Origin_Lead Add Form                                0.3848      1.332      0.289      0.773      -2.226       2.996\n",
       "Lead Origin_Lead Import                                 -0.3082      1.629     -0.189      0.850      -3.501       2.885\n",
       "Lead Source_Direct Traffic                              -1.2946      1.821     -0.711      0.477      -4.864       2.275\n",
       "Lead Source_Facebook                                    -0.3738      2.086     -0.179      0.858      -4.461       3.714\n",
       "Lead Source_Google                                      -1.1129      1.819     -0.612      0.541      -4.678       2.453\n",
       "Lead Source_Live Chat                                   22.5030   5.69e+04      0.000      1.000   -1.12e+05    1.12e+05\n",
       "Lead Source_NC_EDM                                      22.5166   7.76e+04      0.000      1.000   -1.52e+05    1.52e+05\n",
       "Lead Source_Olark Chat                                  -0.0995      1.817     -0.055      0.956      -3.661       3.462\n",
       "Lead Source_Organic Search                              -1.1531      1.822     -0.633      0.527      -4.725       2.418\n",
       "Lead Source_Others                                       1.3972      1.427      0.979      0.328      -1.400       4.194\n",
       "Lead Source_Pay per Click Ads                          -22.7402   7.79e+04     -0.000      1.000   -1.53e+05    1.53e+05\n",
       "Lead Source_Press_Release                              -21.7742   5.11e+04     -0.000      1.000      -1e+05       1e+05\n",
       "Lead Source_Reference                                    1.5587      1.261      1.236      0.217      -0.913       4.031\n",
       "Lead Source_Referral Sites                              -1.3247      1.846     -0.717      0.473      -4.944       2.294\n",
       "Lead Source_Social Media                                23.2132   7.86e+04      0.000      1.000   -1.54e+05    1.54e+05\n",
       "Lead Source_WeLearn                                     22.3672   8.34e+04      0.000      1.000   -1.63e+05    1.64e+05\n",
       "Lead Source_Welingak Website                             4.3708      1.604      2.725      0.006       1.227       7.515\n",
       "Lead Source_bing                                        -0.4683      2.350     -0.199      0.842      -5.074       4.137\n",
       "Lead Source_blog                                       -23.8062   7.86e+04     -0.000      1.000   -1.54e+05    1.54e+05\n",
       "Lead Source_google                                     -22.1655    3.4e+04     -0.001      0.999   -6.66e+04    6.66e+04\n",
       "Lead Source_testone                                    -22.8371   8.05e+04     -0.000      1.000   -1.58e+05    1.58e+05\n",
       "Lead Source_welearnblog_Home                           -23.1460   7.42e+04     -0.000      1.000   -1.45e+05    1.45e+05\n",
       "Lead Source_youtubechannel                            -1.83e-09    8.5e-06     -0.000      1.000   -1.67e-05    1.67e-05\n",
       "Do Not Email_Yes                                        -1.4785      0.214     -6.919      0.000      -1.897      -1.060\n",
       "Do Not Call_Yes                                         22.5077   5.39e+04      0.000      1.000   -1.06e+05    1.06e+05\n",
       "Last Activity_Converted to Lead                        -24.6760   5.65e+04     -0.000      1.000   -1.11e+05    1.11e+05\n",
       "Last Activity_Email Bounced                            -24.9210   5.65e+04     -0.000      1.000   -1.11e+05    1.11e+05\n",
       "Last Activity_Email Link Clicked                       -23.6512   5.65e+04     -0.000      1.000   -1.11e+05    1.11e+05\n",
       "Last Activity_Email Marked Spam                          0.0842   4.99e+04   1.69e-06      1.000   -9.77e+04    9.77e+04\n",
       "Last Activity_Email Opened                             -23.5227   5.65e+04     -0.000      1.000   -1.11e+05    1.11e+05\n",
       "Last Activity_Email Received                          -6.87e-09   2.78e-05     -0.000      1.000   -5.45e-05    5.44e-05\n",
       "Last Activity_Form Submitted on Website                -24.3487   5.65e+04     -0.000      1.000   -1.11e+05    1.11e+05\n",
       "Last Activity_Had a Phone Conversation                 -22.3022   5.65e+04     -0.000      1.000   -1.11e+05    1.11e+05\n",
       "Last Activity_Olark Chat Conversation                  -24.9208   5.65e+04     -0.000      1.000   -1.11e+05    1.11e+05\n",
       "Last Activity_Page Visited on Website                  -24.1102   5.65e+04     -0.000      1.000   -1.11e+05    1.11e+05\n",
       "Last Activity_Resubscribed to emails                     1.1838   5.71e+04   2.07e-05      1.000   -1.12e+05    1.12e+05\n",
       "Last Activity_SMS Sent                                 -23.1331   5.65e+04     -0.000      1.000   -1.11e+05    1.11e+05\n",
       "Last Activity_Unreachable                              -24.4585   5.65e+04     -0.000      1.000   -1.11e+05    1.11e+05\n",
       "Last Activity_Unsubscribed                             -23.1935   5.65e+04     -0.000      1.000   -1.11e+05    1.11e+05\n",
       "Last Activity_View in browser link Clicked             -23.4603   5.65e+04     -0.000      1.000   -1.11e+05    1.11e+05\n",
       "Last Activity_Visited Booth in Tradeshow               -45.1149   9.83e+04     -0.000      1.000   -1.93e+05    1.93e+05\n",
       "Specialization_Industry Specializations                  0.1411      0.163      0.865      0.387      -0.179       0.461\n",
       "Specialization_Management Specializations               -0.0116      0.131     -0.089      0.929      -0.268       0.245\n",
       "Specialization_Not Specified                            -1.9782      0.202     -9.769      0.000      -2.375      -1.581\n",
       "Specialization_Select                                   -0.8373      0.178     -4.698      0.000      -1.187      -0.488\n",
       "What is your current occupation_Housewife               23.5628   2.75e+04      0.001      0.999   -5.39e+04    5.39e+04\n",
       "What is your current occupation_Other                    1.4531      1.587      0.916      0.360      -1.658       4.564\n",
       "What is your current occupation_Student                 -0.0730      1.305     -0.056      0.955      -2.631       2.485\n",
       "What is your current occupation_Unemployed              -0.4385      1.286     -0.341      0.733      -2.958       2.081\n",
       "What is your current occupation_Working Professional     2.3379      1.302      1.796      0.073      -0.214       4.890\n",
       "Search_Yes                                               0.1235      0.795      0.155      0.877      -1.434       1.681\n",
       "Newspaper Article_Yes                                   24.9117   7.95e+04      0.000      1.000   -1.56e+05    1.56e+05\n",
       "X Education Forums_Yes                                 -69.6767   1.25e+05     -0.001      1.000   -2.45e+05    2.45e+05\n",
       "Newspaper_Yes                                        -1.634e-14   4.99e-11     -0.000      1.000   -9.79e-11    9.78e-11\n",
       "Digital Advertisement_Yes                               -0.2958      1.308     -0.226      0.821      -2.860       2.268\n",
       "Through Recommendations_Yes                             22.3292   5.41e+04      0.000      1.000   -1.06e+05    1.06e+05\n",
       "A free copy of Mastering The Interview_Yes              -0.1795      0.109     -1.650      0.099      -0.393       0.034\n",
       "Last Notable Activity_Email Bounced                      2.4232   9.96e+04   2.43e-05      1.000   -1.95e+05    1.95e+05\n",
       "Last Notable Activity_Email Link Clicked                -0.0826   9.96e+04  -8.29e-07      1.000   -1.95e+05    1.95e+05\n",
       "Last Notable Activity_Email Marked Spam                  0.0842   4.99e+04   1.69e-06      1.000   -9.77e+04    9.77e+04\n",
       "Last Notable Activity_Email Opened                       0.3188   9.96e+04    3.2e-06      1.000   -1.95e+05    1.95e+05\n",
       "Last Notable Activity_Email Received                 -1.105e-15   2.32e-11  -4.77e-05      1.000   -4.54e-11    4.54e-11\n",
       "Last Notable Activity_Form Submitted on Website        -20.6665   1.28e+05     -0.000      1.000    -2.5e+05     2.5e+05\n",
       "Last Notable Activity_Had a Phone Conversation           1.4644   9.96e+04   1.47e-05      1.000   -1.95e+05    1.95e+05\n",
       "Last Notable Activity_Modified                           0.2279   9.96e+04   2.29e-06      1.000   -1.95e+05    1.95e+05\n",
       "Last Notable Activity_Olark Chat Conversation            0.4163   9.96e+04   4.18e-06      1.000   -1.95e+05    1.95e+05\n",
       "Last Notable Activity_Page Visited on Website            0.4859   9.96e+04   4.88e-06      1.000   -1.95e+05    1.95e+05\n",
       "Last Notable Activity_Resubscribed to emails             1.1838   5.71e+04   2.07e-05      1.000   -1.12e+05    1.12e+05\n",
       "Last Notable Activity_SMS Sent                           1.3980   9.96e+04    1.4e-05      1.000   -1.95e+05    1.95e+05\n",
       "Last Notable Activity_Unreachable                        2.7629   9.96e+04   2.77e-05      1.000   -1.95e+05    1.95e+05\n",
       "Last Notable Activity_Unsubscribed                       1.5805   9.96e+04   1.59e-05      1.000   -1.95e+05    1.95e+05\n",
       "Last Notable Activity_View in browser link Clicked     -22.3586   1.27e+05     -0.000      1.000    -2.5e+05     2.5e+05\n",
       "========================================================================================================================\n",
       "\"\"\""
      ]
     },
     "execution_count": 93,
     "metadata": {},
     "output_type": "execute_result"
    }
   ],
   "source": [
    "#Model 1\n",
    "X_train_sm = sm.GLM(y_train,(sm.add_constant(X_train)), family = sm.families.Binomial())\n",
    "X_train_sm.fit().summary()"
   ]
  },
  {
   "cell_type": "markdown",
   "metadata": {},
   "source": [
    "It is highly inconvenient to iterate the features individually. Let's use RFE to get 15 best features"
   ]
  },
  {
   "cell_type": "code",
   "execution_count": 94,
   "metadata": {},
   "outputs": [],
   "source": [
    "\n",
    "#Import Library required \n",
    "from sklearn.linear_model import LogisticRegression\n",
    "logreg = LogisticRegression()\n",
    "\n",
    "from sklearn.feature_selection import RFE"
   ]
  },
  {
   "cell_type": "code",
   "execution_count": 95,
   "metadata": {},
   "outputs": [],
   "source": [
    "rfe = RFE(logreg, 15)             # running RFE with 15 variables as output\n",
    "rfe = rfe.fit(X_train, y_train)"
   ]
  },
  {
   "cell_type": "code",
   "execution_count": 96,
   "metadata": {},
   "outputs": [
    {
     "data": {
      "text/plain": [
       "array([ True,  True,  True, False,  True, False, False, False, False,\n",
       "       False, False, False, False, False, False, False, False, False,\n",
       "       False, False,  True, False, False, False, False, False, False,\n",
       "        True, False,  True, False, False, False, False, False, False,\n",
       "       False,  True, False, False, False, False, False, False, False,\n",
       "       False, False, False, False, False, False, False,  True,  True,\n",
       "       False, False, False, False, False, False, False, False,  True,\n",
       "       False,  True, False, False, False,  True,  True,  True, False,\n",
       "       False, False, False, False])"
      ]
     },
     "execution_count": 96,
     "metadata": {},
     "output_type": "execute_result"
    }
   ],
   "source": [
    "rfe.support_"
   ]
  },
  {
   "cell_type": "code",
   "execution_count": 97,
   "metadata": {},
   "outputs": [
    {
     "data": {
      "text/plain": [
       "[('TotalVisits', True, 1),\n",
       " ('Total Time Spent on Website', True, 1),\n",
       " ('Page Views Per Visit', True, 1),\n",
       " ('Lead Origin_Landing Page Submission', False, 12),\n",
       " ('Lead Origin_Lead Add Form', True, 1),\n",
       " ('Lead Origin_Lead Import', False, 53),\n",
       " ('Lead Source_Direct Traffic', False, 4),\n",
       " ('Lead Source_Facebook', False, 51),\n",
       " ('Lead Source_Google', False, 7),\n",
       " ('Lead Source_Live Chat', False, 44),\n",
       " ('Lead Source_NC_EDM', False, 31),\n",
       " ('Lead Source_Olark Chat', False, 25),\n",
       " ('Lead Source_Organic Search', False, 6),\n",
       " ('Lead Source_Others', False, 24),\n",
       " ('Lead Source_Pay per Click Ads', False, 47),\n",
       " ('Lead Source_Press_Release', False, 45),\n",
       " ('Lead Source_Reference', False, 23),\n",
       " ('Lead Source_Referral Sites', False, 5),\n",
       " ('Lead Source_Social Media', False, 22),\n",
       " ('Lead Source_WeLearn', False, 38),\n",
       " ('Lead Source_Welingak Website', True, 1),\n",
       " ('Lead Source_bing', False, 57),\n",
       " ('Lead Source_blog', False, 34),\n",
       " ('Lead Source_google', False, 17),\n",
       " ('Lead Source_testone', False, 43),\n",
       " ('Lead Source_welearnblog_Home', False, 39),\n",
       " ('Lead Source_youtubechannel', False, 62),\n",
       " ('Do Not Email_Yes', True, 1),\n",
       " ('Do Not Call_Yes', False, 28),\n",
       " ('Last Activity_Converted to Lead', True, 1),\n",
       " ('Last Activity_Email Bounced', False, 8),\n",
       " ('Last Activity_Email Link Clicked', False, 56),\n",
       " ('Last Activity_Email Marked Spam', False, 29),\n",
       " ('Last Activity_Email Opened', False, 41),\n",
       " ('Last Activity_Email Received', False, 61),\n",
       " ('Last Activity_Form Submitted on Website', False, 11),\n",
       " ('Last Activity_Had a Phone Conversation', False, 9),\n",
       " ('Last Activity_Olark Chat Conversation', True, 1),\n",
       " ('Last Activity_Page Visited on Website', False, 14),\n",
       " ('Last Activity_Resubscribed to emails', False, 18),\n",
       " ('Last Activity_SMS Sent', False, 21),\n",
       " ('Last Activity_Unreachable', False, 15),\n",
       " ('Last Activity_Unsubscribed', False, 37),\n",
       " ('Last Activity_View in browser link Clicked', False, 54),\n",
       " ('Last Activity_Visited Booth in Tradeshow', False, 52),\n",
       " ('Specialization_Industry Specializations', False, 50),\n",
       " ('Specialization_Management Specializations', False, 55),\n",
       " ('Specialization_Not Specified', False, 3),\n",
       " ('Specialization_Select', False, 13),\n",
       " ('What is your current occupation_Housewife', False, 10),\n",
       " ('What is your current occupation_Other', False, 32),\n",
       " ('What is your current occupation_Student', False, 2),\n",
       " ('What is your current occupation_Unemployed', True, 1),\n",
       " ('What is your current occupation_Working Professional', True, 1),\n",
       " ('Search_Yes', False, 58),\n",
       " ('Newspaper Article_Yes', False, 26),\n",
       " ('X Education Forums_Yes', False, 42),\n",
       " ('Newspaper_Yes', False, 59),\n",
       " ('Digital Advertisement_Yes', False, 40),\n",
       " ('Through Recommendations_Yes', False, 46),\n",
       " ('A free copy of Mastering The Interview_Yes', False, 48),\n",
       " ('Last Notable Activity_Email Bounced', False, 20),\n",
       " ('Last Notable Activity_Email Link Clicked', True, 1),\n",
       " ('Last Notable Activity_Email Marked Spam', False, 35),\n",
       " ('Last Notable Activity_Email Opened', True, 1),\n",
       " ('Last Notable Activity_Email Received', False, 60),\n",
       " ('Last Notable Activity_Form Submitted on Website', False, 49),\n",
       " ('Last Notable Activity_Had a Phone Conversation', False, 33),\n",
       " ('Last Notable Activity_Modified', True, 1),\n",
       " ('Last Notable Activity_Olark Chat Conversation', True, 1),\n",
       " ('Last Notable Activity_Page Visited on Website', True, 1),\n",
       " ('Last Notable Activity_Resubscribed to emails', False, 19),\n",
       " ('Last Notable Activity_SMS Sent', False, 36),\n",
       " ('Last Notable Activity_Unreachable', False, 16),\n",
       " ('Last Notable Activity_Unsubscribed', False, 30),\n",
       " ('Last Notable Activity_View in browser link Clicked', False, 27)]"
      ]
     },
     "execution_count": 97,
     "metadata": {},
     "output_type": "execute_result"
    }
   ],
   "source": [
    "list(zip(X_train.columns, rfe.support_, rfe.ranking_))"
   ]
  },
  {
   "cell_type": "code",
   "execution_count": 98,
   "metadata": {},
   "outputs": [],
   "source": [
    "col_rfe = X_train.columns[rfe.support_]"
   ]
  },
  {
   "cell_type": "code",
   "execution_count": 99,
   "metadata": {},
   "outputs": [
    {
     "data": {
      "text/plain": [
       "Index(['Lead Origin_Landing Page Submission', 'Lead Origin_Lead Import',\n",
       "       'Lead Source_Direct Traffic', 'Lead Source_Facebook',\n",
       "       'Lead Source_Google', 'Lead Source_Live Chat', 'Lead Source_NC_EDM',\n",
       "       'Lead Source_Olark Chat', 'Lead Source_Organic Search',\n",
       "       'Lead Source_Others', 'Lead Source_Pay per Click Ads',\n",
       "       'Lead Source_Press_Release', 'Lead Source_Reference',\n",
       "       'Lead Source_Referral Sites', 'Lead Source_Social Media',\n",
       "       'Lead Source_WeLearn', 'Lead Source_bing', 'Lead Source_blog',\n",
       "       'Lead Source_google', 'Lead Source_testone',\n",
       "       'Lead Source_welearnblog_Home', 'Lead Source_youtubechannel',\n",
       "       'Do Not Call_Yes', 'Last Activity_Email Bounced',\n",
       "       'Last Activity_Email Link Clicked', 'Last Activity_Email Marked Spam',\n",
       "       'Last Activity_Email Opened', 'Last Activity_Email Received',\n",
       "       'Last Activity_Form Submitted on Website',\n",
       "       'Last Activity_Had a Phone Conversation',\n",
       "       'Last Activity_Page Visited on Website',\n",
       "       'Last Activity_Resubscribed to emails', 'Last Activity_SMS Sent',\n",
       "       'Last Activity_Unreachable', 'Last Activity_Unsubscribed',\n",
       "       'Last Activity_View in browser link Clicked',\n",
       "       'Last Activity_Visited Booth in Tradeshow',\n",
       "       'Specialization_Industry Specializations',\n",
       "       'Specialization_Management Specializations',\n",
       "       'Specialization_Not Specified', 'Specialization_Select',\n",
       "       'What is your current occupation_Housewife',\n",
       "       'What is your current occupation_Other',\n",
       "       'What is your current occupation_Student', 'Search_Yes',\n",
       "       'Newspaper Article_Yes', 'X Education Forums_Yes', 'Newspaper_Yes',\n",
       "       'Digital Advertisement_Yes', 'Through Recommendations_Yes',\n",
       "       'A free copy of Mastering The Interview_Yes',\n",
       "       'Last Notable Activity_Email Bounced',\n",
       "       'Last Notable Activity_Email Marked Spam',\n",
       "       'Last Notable Activity_Email Received',\n",
       "       'Last Notable Activity_Form Submitted on Website',\n",
       "       'Last Notable Activity_Had a Phone Conversation',\n",
       "       'Last Notable Activity_Resubscribed to emails',\n",
       "       'Last Notable Activity_SMS Sent', 'Last Notable Activity_Unreachable',\n",
       "       'Last Notable Activity_Unsubscribed',\n",
       "       'Last Notable Activity_View in browser link Clicked'],\n",
       "      dtype='object')"
      ]
     },
     "execution_count": 99,
     "metadata": {},
     "output_type": "execute_result"
    }
   ],
   "source": [
    "X_train.columns[~rfe.support_]"
   ]
  },
  {
   "cell_type": "code",
   "execution_count": 100,
   "metadata": {},
   "outputs": [
    {
     "data": {
      "text/html": [
       "<table class=\"simpletable\">\n",
       "<caption>Generalized Linear Model Regression Results</caption>\n",
       "<tr>\n",
       "  <th>Dep. Variable:</th>       <td>Converted</td>    <th>  No. Observations:  </th>  <td>  6372</td> \n",
       "</tr>\n",
       "<tr>\n",
       "  <th>Model:</th>                  <td>GLM</td>       <th>  Df Residuals:      </th>  <td>  6356</td> \n",
       "</tr>\n",
       "<tr>\n",
       "  <th>Model Family:</th>        <td>Binomial</td>     <th>  Df Model:          </th>  <td>    15</td> \n",
       "</tr>\n",
       "<tr>\n",
       "  <th>Link Function:</th>         <td>logit</td>      <th>  Scale:             </th> <td>  1.0000</td>\n",
       "</tr>\n",
       "<tr>\n",
       "  <th>Method:</th>                <td>IRLS</td>       <th>  Log-Likelihood:    </th> <td> -2714.8</td>\n",
       "</tr>\n",
       "<tr>\n",
       "  <th>Date:</th>            <td>Tue, 26 Oct 2021</td> <th>  Deviance:          </th> <td>  5429.7</td>\n",
       "</tr>\n",
       "<tr>\n",
       "  <th>Time:</th>                <td>21:42:37</td>     <th>  Pearson chi2:      </th> <td>6.51e+03</td>\n",
       "</tr>\n",
       "<tr>\n",
       "  <th>No. Iterations:</th>          <td>7</td>        <th>                     </th>     <td> </td>   \n",
       "</tr>\n",
       "<tr>\n",
       "  <th>Covariance Type:</th>     <td>nonrobust</td>    <th>                     </th>     <td> </td>   \n",
       "</tr>\n",
       "</table>\n",
       "<table class=\"simpletable\">\n",
       "<tr>\n",
       "                            <td></td>                              <th>coef</th>     <th>std err</th>      <th>z</th>      <th>P>|z|</th>  <th>[0.025</th>    <th>0.975]</th>  \n",
       "</tr>\n",
       "<tr>\n",
       "  <th>const</th>                                                <td>    0.4860</td> <td>    0.218</td> <td>    2.227</td> <td> 0.026</td> <td>    0.058</td> <td>    0.914</td>\n",
       "</tr>\n",
       "<tr>\n",
       "  <th>TotalVisits</th>                                          <td>    7.1199</td> <td>    2.442</td> <td>    2.916</td> <td> 0.004</td> <td>    2.334</td> <td>   11.905</td>\n",
       "</tr>\n",
       "<tr>\n",
       "  <th>Total Time Spent on Website</th>                          <td>    3.9923</td> <td>    0.150</td> <td>   26.581</td> <td> 0.000</td> <td>    3.698</td> <td>    4.287</td>\n",
       "</tr>\n",
       "<tr>\n",
       "  <th>Page Views Per Visit</th>                                 <td>   -3.4324</td> <td>    0.506</td> <td>   -6.785</td> <td> 0.000</td> <td>   -4.424</td> <td>   -2.441</td>\n",
       "</tr>\n",
       "<tr>\n",
       "  <th>Lead Origin_Lead Add Form</th>                            <td>    3.3458</td> <td>    0.224</td> <td>   14.953</td> <td> 0.000</td> <td>    2.907</td> <td>    3.784</td>\n",
       "</tr>\n",
       "<tr>\n",
       "  <th>Lead Source_Welingak Website</th>                         <td>    2.4753</td> <td>    1.036</td> <td>    2.389</td> <td> 0.017</td> <td>    0.445</td> <td>    4.506</td>\n",
       "</tr>\n",
       "<tr>\n",
       "  <th>Do Not Email_Yes</th>                                     <td>   -1.8906</td> <td>    0.167</td> <td>  -11.310</td> <td> 0.000</td> <td>   -2.218</td> <td>   -1.563</td>\n",
       "</tr>\n",
       "<tr>\n",
       "  <th>Last Activity_Converted to Lead</th>                      <td>   -1.4095</td> <td>    0.217</td> <td>   -6.482</td> <td> 0.000</td> <td>   -1.836</td> <td>   -0.983</td>\n",
       "</tr>\n",
       "<tr>\n",
       "  <th>Last Activity_Olark Chat Conversation</th>                <td>   -1.1041</td> <td>    0.184</td> <td>   -6.010</td> <td> 0.000</td> <td>   -1.464</td> <td>   -0.744</td>\n",
       "</tr>\n",
       "<tr>\n",
       "  <th>What is your current occupation_Unemployed</th>           <td>   -0.6299</td> <td>    0.203</td> <td>   -3.099</td> <td> 0.002</td> <td>   -1.028</td> <td>   -0.232</td>\n",
       "</tr>\n",
       "<tr>\n",
       "  <th>What is your current occupation_Working Professional</th> <td>    2.2777</td> <td>    0.282</td> <td>    8.091</td> <td> 0.000</td> <td>    1.726</td> <td>    2.829</td>\n",
       "</tr>\n",
       "<tr>\n",
       "  <th>Last Notable Activity_Email Link Clicked</th>             <td>   -2.0169</td> <td>    0.276</td> <td>   -7.319</td> <td> 0.000</td> <td>   -2.557</td> <td>   -1.477</td>\n",
       "</tr>\n",
       "<tr>\n",
       "  <th>Last Notable Activity_Email Opened</th>                   <td>   -1.4762</td> <td>    0.087</td> <td>  -16.942</td> <td> 0.000</td> <td>   -1.647</td> <td>   -1.305</td>\n",
       "</tr>\n",
       "<tr>\n",
       "  <th>Last Notable Activity_Modified</th>                       <td>   -1.6509</td> <td>    0.097</td> <td>  -17.047</td> <td> 0.000</td> <td>   -1.841</td> <td>   -1.461</td>\n",
       "</tr>\n",
       "<tr>\n",
       "  <th>Last Notable Activity_Olark Chat Conversation</th>        <td>   -1.5499</td> <td>    0.373</td> <td>   -4.154</td> <td> 0.000</td> <td>   -2.281</td> <td>   -0.819</td>\n",
       "</tr>\n",
       "<tr>\n",
       "  <th>Last Notable Activity_Page Visited on Website</th>        <td>   -1.9969</td> <td>    0.210</td> <td>   -9.498</td> <td> 0.000</td> <td>   -2.409</td> <td>   -1.585</td>\n",
       "</tr>\n",
       "</table>"
      ],
      "text/plain": [
       "<class 'statsmodels.iolib.summary.Summary'>\n",
       "\"\"\"\n",
       "                 Generalized Linear Model Regression Results                  \n",
       "==============================================================================\n",
       "Dep. Variable:              Converted   No. Observations:                 6372\n",
       "Model:                            GLM   Df Residuals:                     6356\n",
       "Model Family:                Binomial   Df Model:                           15\n",
       "Link Function:                  logit   Scale:                          1.0000\n",
       "Method:                          IRLS   Log-Likelihood:                -2714.8\n",
       "Date:                Tue, 26 Oct 2021   Deviance:                       5429.7\n",
       "Time:                        21:42:37   Pearson chi2:                 6.51e+03\n",
       "No. Iterations:                     7                                         \n",
       "Covariance Type:            nonrobust                                         \n",
       "========================================================================================================================\n",
       "                                                           coef    std err          z      P>|z|      [0.025      0.975]\n",
       "------------------------------------------------------------------------------------------------------------------------\n",
       "const                                                    0.4860      0.218      2.227      0.026       0.058       0.914\n",
       "TotalVisits                                              7.1199      2.442      2.916      0.004       2.334      11.905\n",
       "Total Time Spent on Website                              3.9923      0.150     26.581      0.000       3.698       4.287\n",
       "Page Views Per Visit                                    -3.4324      0.506     -6.785      0.000      -4.424      -2.441\n",
       "Lead Origin_Lead Add Form                                3.3458      0.224     14.953      0.000       2.907       3.784\n",
       "Lead Source_Welingak Website                             2.4753      1.036      2.389      0.017       0.445       4.506\n",
       "Do Not Email_Yes                                        -1.8906      0.167    -11.310      0.000      -2.218      -1.563\n",
       "Last Activity_Converted to Lead                         -1.4095      0.217     -6.482      0.000      -1.836      -0.983\n",
       "Last Activity_Olark Chat Conversation                   -1.1041      0.184     -6.010      0.000      -1.464      -0.744\n",
       "What is your current occupation_Unemployed              -0.6299      0.203     -3.099      0.002      -1.028      -0.232\n",
       "What is your current occupation_Working Professional     2.2777      0.282      8.091      0.000       1.726       2.829\n",
       "Last Notable Activity_Email Link Clicked                -2.0169      0.276     -7.319      0.000      -2.557      -1.477\n",
       "Last Notable Activity_Email Opened                      -1.4762      0.087    -16.942      0.000      -1.647      -1.305\n",
       "Last Notable Activity_Modified                          -1.6509      0.097    -17.047      0.000      -1.841      -1.461\n",
       "Last Notable Activity_Olark Chat Conversation           -1.5499      0.373     -4.154      0.000      -2.281      -0.819\n",
       "Last Notable Activity_Page Visited on Website           -1.9969      0.210     -9.498      0.000      -2.409      -1.585\n",
       "========================================================================================================================\n",
       "\"\"\""
      ]
     },
     "execution_count": 100,
     "metadata": {},
     "output_type": "execute_result"
    }
   ],
   "source": [
    "#Model 2\n",
    "X_train_sm = sm.add_constant(X_train[col_rfe])\n",
    "logm2 = sm.GLM(y_train,X_train_sm, family = sm.families.Binomial())\n",
    "res = logm2.fit()\n",
    "res.summary()"
   ]
  },
  {
   "cell_type": "markdown",
   "metadata": {},
   "source": [
    "Lead Origin_Lead Add Form and What is your current occupation_Working Professional have high p value ( greater than 0.05) which make them insignificant.We should remove them."
   ]
  },
  {
   "cell_type": "code",
   "execution_count": 101,
   "metadata": {},
   "outputs": [],
   "source": [
    "#lets check VIF and then drop 1 by 1\n",
    "\n",
    "from statsmodels.stats.outliers_influence import variance_inflation_factor"
   ]
  },
  {
   "cell_type": "code",
   "execution_count": 102,
   "metadata": {},
   "outputs": [
    {
     "data": {
      "text/html": [
       "<div>\n",
       "<style scoped>\n",
       "    .dataframe tbody tr th:only-of-type {\n",
       "        vertical-align: middle;\n",
       "    }\n",
       "\n",
       "    .dataframe tbody tr th {\n",
       "        vertical-align: top;\n",
       "    }\n",
       "\n",
       "    .dataframe thead th {\n",
       "        text-align: right;\n",
       "    }\n",
       "</style>\n",
       "<table border=\"1\" class=\"dataframe\">\n",
       "  <thead>\n",
       "    <tr style=\"text-align: right;\">\n",
       "      <th></th>\n",
       "      <th>Features</th>\n",
       "      <th>VIF</th>\n",
       "    </tr>\n",
       "  </thead>\n",
       "  <tbody>\n",
       "    <tr>\n",
       "      <th>8</th>\n",
       "      <td>What is your current occupation_Unemployed</td>\n",
       "      <td>5.910000</td>\n",
       "    </tr>\n",
       "    <tr>\n",
       "      <th>2</th>\n",
       "      <td>Page Views Per Visit</td>\n",
       "      <td>3.330000</td>\n",
       "    </tr>\n",
       "    <tr>\n",
       "      <th>12</th>\n",
       "      <td>Last Notable Activity_Modified</td>\n",
       "      <td>2.890000</td>\n",
       "    </tr>\n",
       "    <tr>\n",
       "      <th>11</th>\n",
       "      <td>Last Notable Activity_Email Opened</td>\n",
       "      <td>2.110000</td>\n",
       "    </tr>\n",
       "    <tr>\n",
       "      <th>1</th>\n",
       "      <td>Total Time Spent on Website</td>\n",
       "      <td>2.100000</td>\n",
       "    </tr>\n",
       "    <tr>\n",
       "      <th>0</th>\n",
       "      <td>TotalVisits</td>\n",
       "      <td>2.010000</td>\n",
       "    </tr>\n",
       "    <tr>\n",
       "      <th>7</th>\n",
       "      <td>Last Activity_Olark Chat Conversation</td>\n",
       "      <td>1.850000</td>\n",
       "    </tr>\n",
       "    <tr>\n",
       "      <th>3</th>\n",
       "      <td>Lead Origin_Lead Add Form</td>\n",
       "      <td>1.530000</td>\n",
       "    </tr>\n",
       "    <tr>\n",
       "      <th>9</th>\n",
       "      <td>What is your current occupation_Working Profes...</td>\n",
       "      <td>1.470000</td>\n",
       "    </tr>\n",
       "    <tr>\n",
       "      <th>13</th>\n",
       "      <td>Last Notable Activity_Olark Chat Conversation</td>\n",
       "      <td>1.390000</td>\n",
       "    </tr>\n",
       "    <tr>\n",
       "      <th>4</th>\n",
       "      <td>Lead Source_Welingak Website</td>\n",
       "      <td>1.260000</td>\n",
       "    </tr>\n",
       "    <tr>\n",
       "      <th>6</th>\n",
       "      <td>Last Activity_Converted to Lead</td>\n",
       "      <td>1.240000</td>\n",
       "    </tr>\n",
       "    <tr>\n",
       "      <th>5</th>\n",
       "      <td>Do Not Email_Yes</td>\n",
       "      <td>1.180000</td>\n",
       "    </tr>\n",
       "    <tr>\n",
       "      <th>14</th>\n",
       "      <td>Last Notable Activity_Page Visited on Website</td>\n",
       "      <td>1.180000</td>\n",
       "    </tr>\n",
       "    <tr>\n",
       "      <th>10</th>\n",
       "      <td>Last Notable Activity_Email Link Clicked</td>\n",
       "      <td>1.070000</td>\n",
       "    </tr>\n",
       "  </tbody>\n",
       "</table>\n",
       "</div>"
      ],
      "text/plain": [
       "                                             Features      VIF\n",
       "8          What is your current occupation_Unemployed 5.910000\n",
       "2                                Page Views Per Visit 3.330000\n",
       "12                     Last Notable Activity_Modified 2.890000\n",
       "11                 Last Notable Activity_Email Opened 2.110000\n",
       "1                         Total Time Spent on Website 2.100000\n",
       "0                                         TotalVisits 2.010000\n",
       "7               Last Activity_Olark Chat Conversation 1.850000\n",
       "3                           Lead Origin_Lead Add Form 1.530000\n",
       "9   What is your current occupation_Working Profes... 1.470000\n",
       "13      Last Notable Activity_Olark Chat Conversation 1.390000\n",
       "4                        Lead Source_Welingak Website 1.260000\n",
       "6                     Last Activity_Converted to Lead 1.240000\n",
       "5                                    Do Not Email_Yes 1.180000\n",
       "14      Last Notable Activity_Page Visited on Website 1.180000\n",
       "10           Last Notable Activity_Email Link Clicked 1.070000"
      ]
     },
     "execution_count": 102,
     "metadata": {},
     "output_type": "execute_result"
    }
   ],
   "source": [
    "X_train_sm = X_train_sm.drop(['const'], axis=1)\n",
    "\n",
    "vif = pd.DataFrame()\n",
    "X = X_train_sm\n",
    "vif['Features'] = X.columns\n",
    "vif['VIF'] = [variance_inflation_factor(X.values, i) for i in range(X.shape[1])]\n",
    "vif['VIF'] = round(vif['VIF'], 2)\n",
    "vif = vif.sort_values(by = \"VIF\", ascending = False)\n",
    "vif"
   ]
  },
  {
   "cell_type": "markdown",
   "metadata": {},
   "source": [
    "Let's remove What is your occupation_Unemployed first"
   ]
  },
  {
   "cell_type": "code",
   "execution_count": 103,
   "metadata": {},
   "outputs": [],
   "source": [
    "X_train_sm = X_train_sm.drop([\"What is your current occupation_Unemployed\"], axis = 1)"
   ]
  },
  {
   "cell_type": "code",
   "execution_count": 104,
   "metadata": {},
   "outputs": [
    {
     "data": {
      "text/html": [
       "<table class=\"simpletable\">\n",
       "<caption>Generalized Linear Model Regression Results</caption>\n",
       "<tr>\n",
       "  <th>Dep. Variable:</th>       <td>Converted</td>    <th>  No. Observations:  </th>  <td>  6372</td> \n",
       "</tr>\n",
       "<tr>\n",
       "  <th>Model:</th>                  <td>GLM</td>       <th>  Df Residuals:      </th>  <td>  6357</td> \n",
       "</tr>\n",
       "<tr>\n",
       "  <th>Model Family:</th>        <td>Binomial</td>     <th>  Df Model:          </th>  <td>    14</td> \n",
       "</tr>\n",
       "<tr>\n",
       "  <th>Link Function:</th>         <td>logit</td>      <th>  Scale:             </th> <td>  1.0000</td>\n",
       "</tr>\n",
       "<tr>\n",
       "  <th>Method:</th>                <td>IRLS</td>       <th>  Log-Likelihood:    </th> <td> -2719.5</td>\n",
       "</tr>\n",
       "<tr>\n",
       "  <th>Date:</th>            <td>Tue, 26 Oct 2021</td> <th>  Deviance:          </th> <td>  5439.1</td>\n",
       "</tr>\n",
       "<tr>\n",
       "  <th>Time:</th>                <td>21:42:39</td>     <th>  Pearson chi2:      </th> <td>6.52e+03</td>\n",
       "</tr>\n",
       "<tr>\n",
       "  <th>No. Iterations:</th>          <td>7</td>        <th>                     </th>     <td> </td>   \n",
       "</tr>\n",
       "<tr>\n",
       "  <th>Covariance Type:</th>     <td>nonrobust</td>    <th>                     </th>     <td> </td>   \n",
       "</tr>\n",
       "</table>\n",
       "<table class=\"simpletable\">\n",
       "<tr>\n",
       "                            <td></td>                              <th>coef</th>     <th>std err</th>      <th>z</th>      <th>P>|z|</th>  <th>[0.025</th>    <th>0.975]</th>  \n",
       "</tr>\n",
       "<tr>\n",
       "  <th>const</th>                                                <td>   -0.1378</td> <td>    0.085</td> <td>   -1.624</td> <td> 0.104</td> <td>   -0.304</td> <td>    0.029</td>\n",
       "</tr>\n",
       "<tr>\n",
       "  <th>TotalVisits</th>                                          <td>    7.0540</td> <td>    2.437</td> <td>    2.895</td> <td> 0.004</td> <td>    2.278</td> <td>   11.830</td>\n",
       "</tr>\n",
       "<tr>\n",
       "  <th>Total Time Spent on Website</th>                          <td>    3.9972</td> <td>    0.150</td> <td>   26.637</td> <td> 0.000</td> <td>    3.703</td> <td>    4.291</td>\n",
       "</tr>\n",
       "<tr>\n",
       "  <th>Page Views Per Visit</th>                                 <td>   -3.4326</td> <td>    0.505</td> <td>   -6.793</td> <td> 0.000</td> <td>   -4.423</td> <td>   -2.442</td>\n",
       "</tr>\n",
       "<tr>\n",
       "  <th>Lead Origin_Lead Add Form</th>                            <td>    3.3687</td> <td>    0.223</td> <td>   15.075</td> <td> 0.000</td> <td>    2.931</td> <td>    3.807</td>\n",
       "</tr>\n",
       "<tr>\n",
       "  <th>Lead Source_Welingak Website</th>                         <td>    2.4345</td> <td>    1.036</td> <td>    2.350</td> <td> 0.019</td> <td>    0.404</td> <td>    4.465</td>\n",
       "</tr>\n",
       "<tr>\n",
       "  <th>Do Not Email_Yes</th>                                     <td>   -1.8841</td> <td>    0.167</td> <td>  -11.257</td> <td> 0.000</td> <td>   -2.212</td> <td>   -1.556</td>\n",
       "</tr>\n",
       "<tr>\n",
       "  <th>Last Activity_Converted to Lead</th>                      <td>   -1.4093</td> <td>    0.218</td> <td>   -6.474</td> <td> 0.000</td> <td>   -1.836</td> <td>   -0.983</td>\n",
       "</tr>\n",
       "<tr>\n",
       "  <th>Last Activity_Olark Chat Conversation</th>                <td>   -1.1035</td> <td>    0.184</td> <td>   -6.010</td> <td> 0.000</td> <td>   -1.463</td> <td>   -0.744</td>\n",
       "</tr>\n",
       "<tr>\n",
       "  <th>What is your current occupation_Working Professional</th> <td>    2.8887</td> <td>    0.201</td> <td>   14.336</td> <td> 0.000</td> <td>    2.494</td> <td>    3.284</td>\n",
       "</tr>\n",
       "<tr>\n",
       "  <th>Last Notable Activity_Email Link Clicked</th>             <td>   -1.9961</td> <td>    0.275</td> <td>   -7.262</td> <td> 0.000</td> <td>   -2.535</td> <td>   -1.457</td>\n",
       "</tr>\n",
       "<tr>\n",
       "  <th>Last Notable Activity_Email Opened</th>                   <td>   -1.4591</td> <td>    0.087</td> <td>  -16.810</td> <td> 0.000</td> <td>   -1.629</td> <td>   -1.289</td>\n",
       "</tr>\n",
       "<tr>\n",
       "  <th>Last Notable Activity_Modified</th>                       <td>   -1.6395</td> <td>    0.097</td> <td>  -16.956</td> <td> 0.000</td> <td>   -1.829</td> <td>   -1.450</td>\n",
       "</tr>\n",
       "<tr>\n",
       "  <th>Last Notable Activity_Olark Chat Conversation</th>        <td>   -1.5041</td> <td>    0.370</td> <td>   -4.062</td> <td> 0.000</td> <td>   -2.230</td> <td>   -0.778</td>\n",
       "</tr>\n",
       "<tr>\n",
       "  <th>Last Notable Activity_Page Visited on Website</th>        <td>   -1.9829</td> <td>    0.210</td> <td>   -9.441</td> <td> 0.000</td> <td>   -2.395</td> <td>   -1.571</td>\n",
       "</tr>\n",
       "</table>"
      ],
      "text/plain": [
       "<class 'statsmodels.iolib.summary.Summary'>\n",
       "\"\"\"\n",
       "                 Generalized Linear Model Regression Results                  \n",
       "==============================================================================\n",
       "Dep. Variable:              Converted   No. Observations:                 6372\n",
       "Model:                            GLM   Df Residuals:                     6357\n",
       "Model Family:                Binomial   Df Model:                           14\n",
       "Link Function:                  logit   Scale:                          1.0000\n",
       "Method:                          IRLS   Log-Likelihood:                -2719.5\n",
       "Date:                Tue, 26 Oct 2021   Deviance:                       5439.1\n",
       "Time:                        21:42:39   Pearson chi2:                 6.52e+03\n",
       "No. Iterations:                     7                                         \n",
       "Covariance Type:            nonrobust                                         \n",
       "========================================================================================================================\n",
       "                                                           coef    std err          z      P>|z|      [0.025      0.975]\n",
       "------------------------------------------------------------------------------------------------------------------------\n",
       "const                                                   -0.1378      0.085     -1.624      0.104      -0.304       0.029\n",
       "TotalVisits                                              7.0540      2.437      2.895      0.004       2.278      11.830\n",
       "Total Time Spent on Website                              3.9972      0.150     26.637      0.000       3.703       4.291\n",
       "Page Views Per Visit                                    -3.4326      0.505     -6.793      0.000      -4.423      -2.442\n",
       "Lead Origin_Lead Add Form                                3.3687      0.223     15.075      0.000       2.931       3.807\n",
       "Lead Source_Welingak Website                             2.4345      1.036      2.350      0.019       0.404       4.465\n",
       "Do Not Email_Yes                                        -1.8841      0.167    -11.257      0.000      -2.212      -1.556\n",
       "Last Activity_Converted to Lead                         -1.4093      0.218     -6.474      0.000      -1.836      -0.983\n",
       "Last Activity_Olark Chat Conversation                   -1.1035      0.184     -6.010      0.000      -1.463      -0.744\n",
       "What is your current occupation_Working Professional     2.8887      0.201     14.336      0.000       2.494       3.284\n",
       "Last Notable Activity_Email Link Clicked                -1.9961      0.275     -7.262      0.000      -2.535      -1.457\n",
       "Last Notable Activity_Email Opened                      -1.4591      0.087    -16.810      0.000      -1.629      -1.289\n",
       "Last Notable Activity_Modified                          -1.6395      0.097    -16.956      0.000      -1.829      -1.450\n",
       "Last Notable Activity_Olark Chat Conversation           -1.5041      0.370     -4.062      0.000      -2.230      -0.778\n",
       "Last Notable Activity_Page Visited on Website           -1.9829      0.210     -9.441      0.000      -2.395      -1.571\n",
       "========================================================================================================================\n",
       "\"\"\""
      ]
     },
     "execution_count": 104,
     "metadata": {},
     "output_type": "execute_result"
    }
   ],
   "source": [
    "# model 3\n",
    "\n",
    "#Build model again\n",
    "\n",
    "X_train_sm = sm.add_constant(X_train_sm)\n",
    "logm3 = sm.GLM(y_train,X_train_sm, family = sm.families.Binomial())\n",
    "res = logm3.fit()\n",
    "res.summary()"
   ]
  },
  {
   "cell_type": "code",
   "execution_count": 105,
   "metadata": {},
   "outputs": [
    {
     "data": {
      "text/html": [
       "<table class=\"simpletable\">\n",
       "<caption>Generalized Linear Model Regression Results</caption>\n",
       "<tr>\n",
       "  <th>Dep. Variable:</th>       <td>Converted</td>    <th>  No. Observations:  </th>  <td>  6372</td> \n",
       "</tr>\n",
       "<tr>\n",
       "  <th>Model:</th>                  <td>GLM</td>       <th>  Df Residuals:      </th>  <td>  6358</td> \n",
       "</tr>\n",
       "<tr>\n",
       "  <th>Model Family:</th>        <td>Binomial</td>     <th>  Df Model:          </th>  <td>    13</td> \n",
       "</tr>\n",
       "<tr>\n",
       "  <th>Link Function:</th>         <td>logit</td>      <th>  Scale:             </th> <td>  1.0000</td>\n",
       "</tr>\n",
       "<tr>\n",
       "  <th>Method:</th>                <td>IRLS</td>       <th>  Log-Likelihood:    </th> <td> -2725.2</td>\n",
       "</tr>\n",
       "<tr>\n",
       "  <th>Date:</th>            <td>Tue, 26 Oct 2021</td> <th>  Deviance:          </th> <td>  5450.3</td>\n",
       "</tr>\n",
       "<tr>\n",
       "  <th>Time:</th>                <td>21:42:39</td>     <th>  Pearson chi2:      </th> <td>6.70e+03</td>\n",
       "</tr>\n",
       "<tr>\n",
       "  <th>No. Iterations:</th>          <td>6</td>        <th>                     </th>     <td> </td>   \n",
       "</tr>\n",
       "<tr>\n",
       "  <th>Covariance Type:</th>     <td>nonrobust</td>    <th>                     </th>     <td> </td>   \n",
       "</tr>\n",
       "</table>\n",
       "<table class=\"simpletable\">\n",
       "<tr>\n",
       "                            <td></td>                              <th>coef</th>     <th>std err</th>      <th>z</th>      <th>P>|z|</th>  <th>[0.025</th>    <th>0.975]</th>  \n",
       "</tr>\n",
       "<tr>\n",
       "  <th>const</th>                                                <td>   -0.1381</td> <td>    0.085</td> <td>   -1.628</td> <td> 0.103</td> <td>   -0.304</td> <td>    0.028</td>\n",
       "</tr>\n",
       "<tr>\n",
       "  <th>TotalVisits</th>                                          <td>    7.0308</td> <td>    2.435</td> <td>    2.887</td> <td> 0.004</td> <td>    2.258</td> <td>   11.803</td>\n",
       "</tr>\n",
       "<tr>\n",
       "  <th>Total Time Spent on Website</th>                          <td>    3.9959</td> <td>    0.150</td> <td>   26.635</td> <td> 0.000</td> <td>    3.702</td> <td>    4.290</td>\n",
       "</tr>\n",
       "<tr>\n",
       "  <th>Page Views Per Visit</th>                                 <td>   -3.4275</td> <td>    0.505</td> <td>   -6.786</td> <td> 0.000</td> <td>   -4.417</td> <td>   -2.438</td>\n",
       "</tr>\n",
       "<tr>\n",
       "  <th>Lead Origin_Lead Add Form</th>                            <td>    3.6811</td> <td>    0.217</td> <td>   16.995</td> <td> 0.000</td> <td>    3.257</td> <td>    4.106</td>\n",
       "</tr>\n",
       "<tr>\n",
       "  <th>Do Not Email_Yes</th>                                     <td>   -1.8711</td> <td>    0.166</td> <td>  -11.259</td> <td> 0.000</td> <td>   -2.197</td> <td>   -1.545</td>\n",
       "</tr>\n",
       "<tr>\n",
       "  <th>Last Activity_Converted to Lead</th>                      <td>   -1.4074</td> <td>    0.218</td> <td>   -6.467</td> <td> 0.000</td> <td>   -1.834</td> <td>   -0.981</td>\n",
       "</tr>\n",
       "<tr>\n",
       "  <th>Last Activity_Olark Chat Conversation</th>                <td>   -1.1039</td> <td>    0.184</td> <td>   -6.008</td> <td> 0.000</td> <td>   -1.464</td> <td>   -0.744</td>\n",
       "</tr>\n",
       "<tr>\n",
       "  <th>What is your current occupation_Working Professional</th> <td>    2.8809</td> <td>    0.202</td> <td>   14.280</td> <td> 0.000</td> <td>    2.485</td> <td>    3.276</td>\n",
       "</tr>\n",
       "<tr>\n",
       "  <th>Last Notable Activity_Email Link Clicked</th>             <td>   -1.9954</td> <td>    0.275</td> <td>   -7.268</td> <td> 0.000</td> <td>   -2.534</td> <td>   -1.457</td>\n",
       "</tr>\n",
       "<tr>\n",
       "  <th>Last Notable Activity_Email Opened</th>                   <td>   -1.4593</td> <td>    0.087</td> <td>  -16.818</td> <td> 0.000</td> <td>   -1.629</td> <td>   -1.289</td>\n",
       "</tr>\n",
       "<tr>\n",
       "  <th>Last Notable Activity_Modified</th>                       <td>   -1.6403</td> <td>    0.097</td> <td>  -16.977</td> <td> 0.000</td> <td>   -1.830</td> <td>   -1.451</td>\n",
       "</tr>\n",
       "<tr>\n",
       "  <th>Last Notable Activity_Olark Chat Conversation</th>        <td>   -1.4809</td> <td>    0.367</td> <td>   -4.039</td> <td> 0.000</td> <td>   -2.199</td> <td>   -0.762</td>\n",
       "</tr>\n",
       "<tr>\n",
       "  <th>Last Notable Activity_Page Visited on Website</th>        <td>   -1.9796</td> <td>    0.210</td> <td>   -9.444</td> <td> 0.000</td> <td>   -2.390</td> <td>   -1.569</td>\n",
       "</tr>\n",
       "</table>"
      ],
      "text/plain": [
       "<class 'statsmodels.iolib.summary.Summary'>\n",
       "\"\"\"\n",
       "                 Generalized Linear Model Regression Results                  \n",
       "==============================================================================\n",
       "Dep. Variable:              Converted   No. Observations:                 6372\n",
       "Model:                            GLM   Df Residuals:                     6358\n",
       "Model Family:                Binomial   Df Model:                           13\n",
       "Link Function:                  logit   Scale:                          1.0000\n",
       "Method:                          IRLS   Log-Likelihood:                -2725.2\n",
       "Date:                Tue, 26 Oct 2021   Deviance:                       5450.3\n",
       "Time:                        21:42:39   Pearson chi2:                 6.70e+03\n",
       "No. Iterations:                     6                                         \n",
       "Covariance Type:            nonrobust                                         \n",
       "========================================================================================================================\n",
       "                                                           coef    std err          z      P>|z|      [0.025      0.975]\n",
       "------------------------------------------------------------------------------------------------------------------------\n",
       "const                                                   -0.1381      0.085     -1.628      0.103      -0.304       0.028\n",
       "TotalVisits                                              7.0308      2.435      2.887      0.004       2.258      11.803\n",
       "Total Time Spent on Website                              3.9959      0.150     26.635      0.000       3.702       4.290\n",
       "Page Views Per Visit                                    -3.4275      0.505     -6.786      0.000      -4.417      -2.438\n",
       "Lead Origin_Lead Add Form                                3.6811      0.217     16.995      0.000       3.257       4.106\n",
       "Do Not Email_Yes                                        -1.8711      0.166    -11.259      0.000      -2.197      -1.545\n",
       "Last Activity_Converted to Lead                         -1.4074      0.218     -6.467      0.000      -1.834      -0.981\n",
       "Last Activity_Olark Chat Conversation                   -1.1039      0.184     -6.008      0.000      -1.464      -0.744\n",
       "What is your current occupation_Working Professional     2.8809      0.202     14.280      0.000       2.485       3.276\n",
       "Last Notable Activity_Email Link Clicked                -1.9954      0.275     -7.268      0.000      -2.534      -1.457\n",
       "Last Notable Activity_Email Opened                      -1.4593      0.087    -16.818      0.000      -1.629      -1.289\n",
       "Last Notable Activity_Modified                          -1.6403      0.097    -16.977      0.000      -1.830      -1.451\n",
       "Last Notable Activity_Olark Chat Conversation           -1.4809      0.367     -4.039      0.000      -2.199      -0.762\n",
       "Last Notable Activity_Page Visited on Website           -1.9796      0.210     -9.444      0.000      -2.390      -1.569\n",
       "========================================================================================================================\n",
       "\"\"\""
      ]
     },
     "execution_count": 105,
     "metadata": {},
     "output_type": "execute_result"
    }
   ],
   "source": [
    "# Lead Source_Welingak Website have quite high p value, lets remove it too\n",
    "\n",
    "X_train_sm = X_train_sm.drop(['Lead Source_Welingak Website'], axis = 1)\n",
    "\n",
    "# build model again \n",
    "#Model 4\n",
    "\n",
    "X_train_sm = sm.add_constant(X_train_sm)\n",
    "logm4 = sm.GLM(y_train,X_train_sm, family = sm.families.Binomial())\n",
    "res = logm4.fit()\n",
    "res.summary()"
   ]
  },
  {
   "cell_type": "code",
   "execution_count": 106,
   "metadata": {},
   "outputs": [
    {
     "data": {
      "text/html": [
       "<div>\n",
       "<style scoped>\n",
       "    .dataframe tbody tr th:only-of-type {\n",
       "        vertical-align: middle;\n",
       "    }\n",
       "\n",
       "    .dataframe tbody tr th {\n",
       "        vertical-align: top;\n",
       "    }\n",
       "\n",
       "    .dataframe thead th {\n",
       "        text-align: right;\n",
       "    }\n",
       "</style>\n",
       "<table border=\"1\" class=\"dataframe\">\n",
       "  <thead>\n",
       "    <tr style=\"text-align: right;\">\n",
       "      <th></th>\n",
       "      <th>Features</th>\n",
       "      <th>VIF</th>\n",
       "    </tr>\n",
       "  </thead>\n",
       "  <tbody>\n",
       "    <tr>\n",
       "      <th>0</th>\n",
       "      <td>const</td>\n",
       "      <td>7.670000</td>\n",
       "    </tr>\n",
       "    <tr>\n",
       "      <th>11</th>\n",
       "      <td>Last Notable Activity_Modified</td>\n",
       "      <td>1.960000</td>\n",
       "    </tr>\n",
       "    <tr>\n",
       "      <th>7</th>\n",
       "      <td>Last Activity_Olark Chat Conversation</td>\n",
       "      <td>1.660000</td>\n",
       "    </tr>\n",
       "    <tr>\n",
       "      <th>10</th>\n",
       "      <td>Last Notable Activity_Email Opened</td>\n",
       "      <td>1.600000</td>\n",
       "    </tr>\n",
       "    <tr>\n",
       "      <th>3</th>\n",
       "      <td>Page Views Per Visit</td>\n",
       "      <td>1.510000</td>\n",
       "    </tr>\n",
       "    <tr>\n",
       "      <th>12</th>\n",
       "      <td>Last Notable Activity_Olark Chat Conversation</td>\n",
       "      <td>1.380000</td>\n",
       "    </tr>\n",
       "    <tr>\n",
       "      <th>1</th>\n",
       "      <td>TotalVisits</td>\n",
       "      <td>1.370000</td>\n",
       "    </tr>\n",
       "    <tr>\n",
       "      <th>4</th>\n",
       "      <td>Lead Origin_Lead Add Form</td>\n",
       "      <td>1.220000</td>\n",
       "    </tr>\n",
       "    <tr>\n",
       "      <th>2</th>\n",
       "      <td>Total Time Spent on Website</td>\n",
       "      <td>1.200000</td>\n",
       "    </tr>\n",
       "    <tr>\n",
       "      <th>6</th>\n",
       "      <td>Last Activity_Converted to Lead</td>\n",
       "      <td>1.190000</td>\n",
       "    </tr>\n",
       "    <tr>\n",
       "      <th>13</th>\n",
       "      <td>Last Notable Activity_Page Visited on Website</td>\n",
       "      <td>1.160000</td>\n",
       "    </tr>\n",
       "    <tr>\n",
       "      <th>5</th>\n",
       "      <td>Do Not Email_Yes</td>\n",
       "      <td>1.090000</td>\n",
       "    </tr>\n",
       "    <tr>\n",
       "      <th>8</th>\n",
       "      <td>What is your current occupation_Working Profes...</td>\n",
       "      <td>1.070000</td>\n",
       "    </tr>\n",
       "    <tr>\n",
       "      <th>9</th>\n",
       "      <td>Last Notable Activity_Email Link Clicked</td>\n",
       "      <td>1.060000</td>\n",
       "    </tr>\n",
       "  </tbody>\n",
       "</table>\n",
       "</div>"
      ],
      "text/plain": [
       "                                             Features      VIF\n",
       "0                                               const 7.670000\n",
       "11                     Last Notable Activity_Modified 1.960000\n",
       "7               Last Activity_Olark Chat Conversation 1.660000\n",
       "10                 Last Notable Activity_Email Opened 1.600000\n",
       "3                                Page Views Per Visit 1.510000\n",
       "12      Last Notable Activity_Olark Chat Conversation 1.380000\n",
       "1                                         TotalVisits 1.370000\n",
       "4                           Lead Origin_Lead Add Form 1.220000\n",
       "2                         Total Time Spent on Website 1.200000\n",
       "6                     Last Activity_Converted to Lead 1.190000\n",
       "13      Last Notable Activity_Page Visited on Website 1.160000\n",
       "5                                    Do Not Email_Yes 1.090000\n",
       "8   What is your current occupation_Working Profes... 1.070000\n",
       "9            Last Notable Activity_Email Link Clicked 1.060000"
      ]
     },
     "execution_count": 106,
     "metadata": {},
     "output_type": "execute_result"
    }
   ],
   "source": [
    "#Lets see VIF of the model\n",
    "\n",
    "vif = pd.DataFrame()\n",
    "X = X_train_sm\n",
    "vif['Features'] = X.columns\n",
    "vif['VIF'] = [variance_inflation_factor(X.values, i) for i in range(X.shape[1])]\n",
    "vif['VIF'] = round(vif['VIF'], 2)\n",
    "vif = vif.sort_values(by = \"VIF\", ascending = False)\n",
    "vif"
   ]
  },
  {
   "cell_type": "markdown",
   "metadata": {},
   "source": [
    "\n",
    "All variables have a good value of VIF(VIF value leass than 2). So we need not drop any more variables and we can proceed with making predictions using this model only"
   ]
  },
  {
   "cell_type": "code",
   "execution_count": 107,
   "metadata": {},
   "outputs": [
    {
     "data": {
      "text/plain": [
       "3360   0.830515\n",
       "436    0.083397\n",
       "8236   0.305767\n",
       "3034   0.981675\n",
       "2776   0.149045\n",
       "2420   0.482466\n",
       "6304   0.128122\n",
       "1421   0.175104\n",
       "308    0.717074\n",
       "7230   0.151043\n",
       "dtype: float64"
      ]
     },
     "execution_count": 107,
     "metadata": {},
     "output_type": "execute_result"
    }
   ],
   "source": [
    "# Getting the predicted values on the train set\n",
    "y_train_pred = res.predict(X_train_sm)\n",
    "y_train_pred[:10]"
   ]
  },
  {
   "cell_type": "code",
   "execution_count": 108,
   "metadata": {},
   "outputs": [
    {
     "data": {
      "text/plain": [
       "array([0.83051547, 0.08339723, 0.30576708, 0.98167539, 0.14904471,\n",
       "       0.48246556, 0.12812211, 0.17510419, 0.71707437, 0.15104321])"
      ]
     },
     "execution_count": 108,
     "metadata": {},
     "output_type": "execute_result"
    }
   ],
   "source": [
    "\n",
    "y_train_pred = y_train_pred.values.reshape(-1)\n",
    "y_train_pred[:10]"
   ]
  },
  {
   "cell_type": "code",
   "execution_count": 109,
   "metadata": {},
   "outputs": [
    {
     "data": {
      "text/html": [
       "<div>\n",
       "<style scoped>\n",
       "    .dataframe tbody tr th:only-of-type {\n",
       "        vertical-align: middle;\n",
       "    }\n",
       "\n",
       "    .dataframe tbody tr th {\n",
       "        vertical-align: top;\n",
       "    }\n",
       "\n",
       "    .dataframe thead th {\n",
       "        text-align: right;\n",
       "    }\n",
       "</style>\n",
       "<table border=\"1\" class=\"dataframe\">\n",
       "  <thead>\n",
       "    <tr style=\"text-align: right;\">\n",
       "      <th></th>\n",
       "      <th>Converted</th>\n",
       "      <th>Converted_Prob</th>\n",
       "      <th>Lead Number</th>\n",
       "    </tr>\n",
       "  </thead>\n",
       "  <tbody>\n",
       "    <tr>\n",
       "      <th>0</th>\n",
       "      <td>1</td>\n",
       "      <td>0.830515</td>\n",
       "      <td>3360</td>\n",
       "    </tr>\n",
       "    <tr>\n",
       "      <th>1</th>\n",
       "      <td>0</td>\n",
       "      <td>0.083397</td>\n",
       "      <td>436</td>\n",
       "    </tr>\n",
       "    <tr>\n",
       "      <th>2</th>\n",
       "      <td>0</td>\n",
       "      <td>0.305767</td>\n",
       "      <td>8236</td>\n",
       "    </tr>\n",
       "    <tr>\n",
       "      <th>3</th>\n",
       "      <td>1</td>\n",
       "      <td>0.981675</td>\n",
       "      <td>3034</td>\n",
       "    </tr>\n",
       "    <tr>\n",
       "      <th>4</th>\n",
       "      <td>0</td>\n",
       "      <td>0.149045</td>\n",
       "      <td>2776</td>\n",
       "    </tr>\n",
       "  </tbody>\n",
       "</table>\n",
       "</div>"
      ],
      "text/plain": [
       "   Converted  Converted_Prob  Lead Number\n",
       "0          1        0.830515         3360\n",
       "1          0        0.083397          436\n",
       "2          0        0.305767         8236\n",
       "3          1        0.981675         3034\n",
       "4          0        0.149045         2776"
      ]
     },
     "execution_count": 109,
     "metadata": {},
     "output_type": "execute_result"
    }
   ],
   "source": [
    "y_train_pred_final = pd.DataFrame({'Converted':y_train.values, 'Converted_Prob':y_train_pred})\n",
    "y_train_pred_final['Lead Number'] = y_train.index\n",
    "y_train_pred_final.head()"
   ]
  },
  {
   "cell_type": "code",
   "execution_count": 120,
   "metadata": {},
   "outputs": [],
   "source": [
    "from sklearn import metrics"
   ]
  },
  {
   "cell_type": "code",
   "execution_count": 121,
   "metadata": {},
   "outputs": [],
   "source": [
    "def draw_roc( actual, probs ):\n",
    "    fpr, tpr, thresholds = metrics.roc_curve( actual, probs,\n",
    "                                              drop_intermediate = False )\n",
    "    auc_score = metrics.roc_auc_score( actual, probs )\n",
    "    plt.figure(figsize=(5, 5))\n",
    "    plt.plot( fpr, tpr, label='ROC curve (area = %0.2f)' % auc_score )\n",
    "    plt.plot([0, 1], [0, 1], 'k--')\n",
    "    plt.xlim([0.0, 1.0])\n",
    "    plt.ylim([0.0, 1.05])\n",
    "    plt.xlabel('False Positive Rate or [1 - True Negative Rate]')\n",
    "    plt.ylabel('True Positive Rate')\n",
    "    plt.title('Receiver operating characteristic example')\n",
    "    plt.legend(loc=\"lower right\")\n",
    "    plt.show()\n",
    "\n",
    "    return None"
   ]
  },
  {
   "cell_type": "code",
   "execution_count": 122,
   "metadata": {},
   "outputs": [],
   "source": [
    "fpr, tpr, thresholds = metrics.roc_curve( y_train_pred_final.Converted, y_train_pred_final.Converted_Prob, drop_intermediate = False )"
   ]
  },
  {
   "cell_type": "code",
   "execution_count": 123,
   "metadata": {},
   "outputs": [
    {
     "data": {
      "image/png": "[encoded data removed]",
      "text/plain": [
       "<Figure size 360x360 with 1 Axes>"
      ]
     },
     "metadata": {
      "needs_background": "light"
     },
     "output_type": "display_data"
    }
   ],
   "source": [
    "\n",
    "draw_roc(y_train_pred_final.Converted, y_train_pred_final.Converted_Prob)"
   ]
  },
  {
   "cell_type": "code",
   "execution_count": 113,
   "metadata": {},
   "outputs": [
    {
     "data": {
      "text/html": [
       "<div>\n",
       "<style scoped>\n",
       "    .dataframe tbody tr th:only-of-type {\n",
       "        vertical-align: middle;\n",
       "    }\n",
       "\n",
       "    .dataframe tbody tr th {\n",
       "        vertical-align: top;\n",
       "    }\n",
       "\n",
       "    .dataframe thead th {\n",
       "        text-align: right;\n",
       "    }\n",
       "</style>\n",
       "<table border=\"1\" class=\"dataframe\">\n",
       "  <thead>\n",
       "    <tr style=\"text-align: right;\">\n",
       "      <th></th>\n",
       "      <th>Converted</th>\n",
       "      <th>Converted_Prob</th>\n",
       "      <th>Lead Number</th>\n",
       "      <th>0.0</th>\n",
       "      <th>0.1</th>\n",
       "      <th>0.2</th>\n",
       "      <th>0.3</th>\n",
       "      <th>0.4</th>\n",
       "      <th>0.5</th>\n",
       "      <th>0.6</th>\n",
       "      <th>0.7</th>\n",
       "      <th>0.8</th>\n",
       "      <th>0.9</th>\n",
       "    </tr>\n",
       "  </thead>\n",
       "  <tbody>\n",
       "    <tr>\n",
       "      <th>0</th>\n",
       "      <td>1</td>\n",
       "      <td>0.830515</td>\n",
       "      <td>3360</td>\n",
       "      <td>1</td>\n",
       "      <td>1</td>\n",
       "      <td>1</td>\n",
       "      <td>1</td>\n",
       "      <td>1</td>\n",
       "      <td>1</td>\n",
       "      <td>1</td>\n",
       "      <td>1</td>\n",
       "      <td>1</td>\n",
       "      <td>0</td>\n",
       "    </tr>\n",
       "    <tr>\n",
       "      <th>1</th>\n",
       "      <td>0</td>\n",
       "      <td>0.083397</td>\n",
       "      <td>436</td>\n",
       "      <td>1</td>\n",
       "      <td>0</td>\n",
       "      <td>0</td>\n",
       "      <td>0</td>\n",
       "      <td>0</td>\n",
       "      <td>0</td>\n",
       "      <td>0</td>\n",
       "      <td>0</td>\n",
       "      <td>0</td>\n",
       "      <td>0</td>\n",
       "    </tr>\n",
       "    <tr>\n",
       "      <th>2</th>\n",
       "      <td>0</td>\n",
       "      <td>0.305767</td>\n",
       "      <td>8236</td>\n",
       "      <td>1</td>\n",
       "      <td>1</td>\n",
       "      <td>1</td>\n",
       "      <td>1</td>\n",
       "      <td>0</td>\n",
       "      <td>0</td>\n",
       "      <td>0</td>\n",
       "      <td>0</td>\n",
       "      <td>0</td>\n",
       "      <td>0</td>\n",
       "    </tr>\n",
       "    <tr>\n",
       "      <th>3</th>\n",
       "      <td>1</td>\n",
       "      <td>0.981675</td>\n",
       "      <td>3034</td>\n",
       "      <td>1</td>\n",
       "      <td>1</td>\n",
       "      <td>1</td>\n",
       "      <td>1</td>\n",
       "      <td>1</td>\n",
       "      <td>1</td>\n",
       "      <td>1</td>\n",
       "      <td>1</td>\n",
       "      <td>1</td>\n",
       "      <td>1</td>\n",
       "    </tr>\n",
       "    <tr>\n",
       "      <th>4</th>\n",
       "      <td>0</td>\n",
       "      <td>0.149045</td>\n",
       "      <td>2776</td>\n",
       "      <td>1</td>\n",
       "      <td>1</td>\n",
       "      <td>0</td>\n",
       "      <td>0</td>\n",
       "      <td>0</td>\n",
       "      <td>0</td>\n",
       "      <td>0</td>\n",
       "      <td>0</td>\n",
       "      <td>0</td>\n",
       "      <td>0</td>\n",
       "    </tr>\n",
       "  </tbody>\n",
       "</table>\n",
       "</div>"
      ],
      "text/plain": [
       "   Converted  Converted_Prob  Lead Number  0.0  0.1  0.2  0.3  0.4  0.5  0.6  \\\n",
       "0          1        0.830515         3360    1    1    1    1    1    1    1   \n",
       "1          0        0.083397          436    1    0    0    0    0    0    0   \n",
       "2          0        0.305767         8236    1    1    1    1    0    0    0   \n",
       "3          1        0.981675         3034    1    1    1    1    1    1    1   \n",
       "4          0        0.149045         2776    1    1    0    0    0    0    0   \n",
       "\n",
       "   0.7  0.8  0.9  \n",
       "0    1    1    0  \n",
       "1    0    0    0  \n",
       "2    0    0    0  \n",
       "3    1    1    1  \n",
       "4    0    0    0  "
      ]
     },
     "execution_count": 113,
     "metadata": {},
     "output_type": "execute_result"
    }
   ],
   "source": [
    "# Let's create columns with different probability cutoffs \n",
    "numbers = [float(x)/10 for x in range(10)]\n",
    "for i in numbers:\n",
    "    y_train_pred_final[i]= y_train_pred_final.Converted_Prob.map(lambda x: 1 if x > i else 0)\n",
    "y_train_pred_final.head()"
   ]
  },
  {
   "cell_type": "code",
   "execution_count": 124,
   "metadata": {},
   "outputs": [
    {
     "name": "stdout",
     "output_type": "stream",
     "text": [
      "             prob  accuracy    sensi    speci\n",
      "0.000000 0.000000  0.381984 1.000000 0.000000\n",
      "0.100000 0.100000  0.554614 0.978636 0.292534\n",
      "0.200000 0.200000  0.751883 0.873048 0.676993\n",
      "0.300000 0.300000  0.797081 0.836072 0.772981\n",
      "0.400000 0.400000  0.805085 0.787592 0.815896\n",
      "0.500000 0.500000  0.793315 0.656122 0.878111\n",
      "0.600000 0.600000  0.791588 0.570666 0.928136\n",
      "0.700000 0.700000  0.778092 0.495070 0.953022\n",
      "0.800000 0.800000  0.758318 0.410846 0.973083\n",
      "0.900000 0.900000  0.702605 0.235826 0.991112\n"
     ]
    }
   ],
   "source": [
    "\n",
    "# Now let's calculate accuracy sensitivity and specificity for various probability cutoffs.\n",
    "cutoff_df = pd.DataFrame( columns = ['prob','accuracy','sensi','speci'])\n",
    "from sklearn.metrics import confusion_matrix\n",
    "\n",
    "num = [0.0,0.1,0.2,0.3,0.4,0.5,0.6,0.7,0.8,0.9]\n",
    "for i in num:\n",
    "    cm1 = metrics.confusion_matrix(y_train_pred_final.Converted, y_train_pred_final[i] )\n",
    "    total1=sum(sum(cm1))\n",
    "    accuracy = (cm1[0,0]+cm1[1,1])/total1\n",
    "    \n",
    "    speci = cm1[0,0]/(cm1[0,0]+cm1[0,1])\n",
    "    sensi = cm1[1,1]/(cm1[1,0]+cm1[1,1])\n",
    "    cutoff_df.loc[i] =[ i ,accuracy,sensi,speci]\n",
    "print(cutoff_df)"
   ]
  },
  {
   "cell_type": "code",
   "execution_count": 125,
   "metadata": {},
   "outputs": [
    {
     "name": "stdout",
     "output_type": "stream",
     "text": [
      "             prob  accuracy    sensi    speci\n",
      "0.000000 0.000000  0.381984 1.000000 0.000000\n",
      "0.100000 0.100000  0.554614 0.978636 0.292534\n",
      "0.200000 0.200000  0.751883 0.873048 0.676993\n",
      "0.300000 0.300000  0.797081 0.836072 0.772981\n",
      "0.400000 0.400000  0.805085 0.787592 0.815896\n",
      "0.500000 0.500000  0.793315 0.656122 0.878111\n",
      "0.600000 0.600000  0.791588 0.570666 0.928136\n",
      "0.700000 0.700000  0.778092 0.495070 0.953022\n",
      "0.800000 0.800000  0.758318 0.410846 0.973083\n",
      "0.900000 0.900000  0.702605 0.235826 0.991112\n"
     ]
    }
   ],
   "source": [
    "# Now let's calculate accuracy sensitivity and specificity for various probability cutoffs.\n",
    "cutoff_df = pd.DataFrame( columns = ['prob','accuracy','sensi','speci'])\n",
    "from sklearn.metrics import confusion_matrix\n",
    "\n",
    "num = [0.0,0.1,0.2,0.3,0.4,0.5,0.6,0.7,0.8,0.9]\n",
    "for i in num:\n",
    "    cm1 = metrics.confusion_matrix(y_train_pred_final.Converted, y_train_pred_final[i] )\n",
    "    total1=sum(sum(cm1))\n",
    "    accuracy = (cm1[0,0]+cm1[1,1])/total1\n",
    "    \n",
    "    speci = cm1[0,0]/(cm1[0,0]+cm1[0,1])\n",
    "    sensi = cm1[1,1]/(cm1[1,0]+cm1[1,1])\n",
    "    cutoff_df.loc[i] =[ i ,accuracy,sensi,speci]\n",
    "print(cutoff_df)"
   ]
  },
  {
   "cell_type": "code",
   "execution_count": 126,
   "metadata": {},
   "outputs": [
    {
     "data": {
      "image/png": "[encoded data removed]",
      "text/plain": [
       "<Figure size 432x288 with 1 Axes>"
      ]
     },
     "metadata": {
      "needs_background": "light"
     },
     "output_type": "display_data"
    }
   ],
   "source": [
    "# Let's plot accuracy sensitivity and specificity for various probabilities.\n",
    "cutoff_df.plot.line(x='prob', y=['accuracy','sensi','speci'])\n",
    "plt.axvline(0.34,linestyle='-.',color='r')\n",
    "plt.title('Accuracy vs Sensitivity vs Specificity for various probabilities')\n",
    "plt.show()"
   ]
  },
  {
   "cell_type": "markdown",
   "metadata": {},
   "source": [
    "From the curve above, 0.35 is the optimum point to take it as a cutoff probability."
   ]
  },
  {
   "cell_type": "code",
   "execution_count": 127,
   "metadata": {},
   "outputs": [
    {
     "data": {
      "text/html": [
       "<div>\n",
       "<style scoped>\n",
       "    .dataframe tbody tr th:only-of-type {\n",
       "        vertical-align: middle;\n",
       "    }\n",
       "\n",
       "    .dataframe tbody tr th {\n",
       "        vertical-align: top;\n",
       "    }\n",
       "\n",
       "    .dataframe thead th {\n",
       "        text-align: right;\n",
       "    }\n",
       "</style>\n",
       "<table border=\"1\" class=\"dataframe\">\n",
       "  <thead>\n",
       "    <tr style=\"text-align: right;\">\n",
       "      <th></th>\n",
       "      <th>Converted</th>\n",
       "      <th>Converted_Prob</th>\n",
       "      <th>Lead Number</th>\n",
       "      <th>0.0</th>\n",
       "      <th>0.1</th>\n",
       "      <th>0.2</th>\n",
       "      <th>0.3</th>\n",
       "      <th>0.4</th>\n",
       "      <th>0.5</th>\n",
       "      <th>0.6</th>\n",
       "      <th>0.7</th>\n",
       "      <th>0.8</th>\n",
       "      <th>0.9</th>\n",
       "      <th>final_predicted</th>\n",
       "    </tr>\n",
       "  </thead>\n",
       "  <tbody>\n",
       "    <tr>\n",
       "      <th>0</th>\n",
       "      <td>1</td>\n",
       "      <td>0.830515</td>\n",
       "      <td>3360</td>\n",
       "      <td>1</td>\n",
       "      <td>1</td>\n",
       "      <td>1</td>\n",
       "      <td>1</td>\n",
       "      <td>1</td>\n",
       "      <td>1</td>\n",
       "      <td>1</td>\n",
       "      <td>1</td>\n",
       "      <td>1</td>\n",
       "      <td>0</td>\n",
       "      <td>1</td>\n",
       "    </tr>\n",
       "    <tr>\n",
       "      <th>1</th>\n",
       "      <td>0</td>\n",
       "      <td>0.083397</td>\n",
       "      <td>436</td>\n",
       "      <td>1</td>\n",
       "      <td>0</td>\n",
       "      <td>0</td>\n",
       "      <td>0</td>\n",
       "      <td>0</td>\n",
       "      <td>0</td>\n",
       "      <td>0</td>\n",
       "      <td>0</td>\n",
       "      <td>0</td>\n",
       "      <td>0</td>\n",
       "      <td>0</td>\n",
       "    </tr>\n",
       "    <tr>\n",
       "      <th>2</th>\n",
       "      <td>0</td>\n",
       "      <td>0.305767</td>\n",
       "      <td>8236</td>\n",
       "      <td>1</td>\n",
       "      <td>1</td>\n",
       "      <td>1</td>\n",
       "      <td>1</td>\n",
       "      <td>0</td>\n",
       "      <td>0</td>\n",
       "      <td>0</td>\n",
       "      <td>0</td>\n",
       "      <td>0</td>\n",
       "      <td>0</td>\n",
       "      <td>0</td>\n",
       "    </tr>\n",
       "    <tr>\n",
       "      <th>3</th>\n",
       "      <td>1</td>\n",
       "      <td>0.981675</td>\n",
       "      <td>3034</td>\n",
       "      <td>1</td>\n",
       "      <td>1</td>\n",
       "      <td>1</td>\n",
       "      <td>1</td>\n",
       "      <td>1</td>\n",
       "      <td>1</td>\n",
       "      <td>1</td>\n",
       "      <td>1</td>\n",
       "      <td>1</td>\n",
       "      <td>1</td>\n",
       "      <td>1</td>\n",
       "    </tr>\n",
       "    <tr>\n",
       "      <th>4</th>\n",
       "      <td>0</td>\n",
       "      <td>0.149045</td>\n",
       "      <td>2776</td>\n",
       "      <td>1</td>\n",
       "      <td>1</td>\n",
       "      <td>0</td>\n",
       "      <td>0</td>\n",
       "      <td>0</td>\n",
       "      <td>0</td>\n",
       "      <td>0</td>\n",
       "      <td>0</td>\n",
       "      <td>0</td>\n",
       "      <td>0</td>\n",
       "      <td>0</td>\n",
       "    </tr>\n",
       "  </tbody>\n",
       "</table>\n",
       "</div>"
      ],
      "text/plain": [
       "   Converted  Converted_Prob  Lead Number  0.0  0.1  0.2  0.3  0.4  0.5  0.6  \\\n",
       "0          1        0.830515         3360    1    1    1    1    1    1    1   \n",
       "1          0        0.083397          436    1    0    0    0    0    0    0   \n",
       "2          0        0.305767         8236    1    1    1    1    0    0    0   \n",
       "3          1        0.981675         3034    1    1    1    1    1    1    1   \n",
       "4          0        0.149045         2776    1    1    0    0    0    0    0   \n",
       "\n",
       "   0.7  0.8  0.9  final_predicted  \n",
       "0    1    1    0                1  \n",
       "1    0    0    0                0  \n",
       "2    0    0    0                0  \n",
       "3    1    1    1                1  \n",
       "4    0    0    0                0  "
      ]
     },
     "execution_count": 127,
     "metadata": {},
     "output_type": "execute_result"
    }
   ],
   "source": [
    "y_train_pred_final['final_predicted'] = y_train_pred_final.Converted_Prob.map( lambda x: 1 if x > 0.34 else 0)\n",
    "\n",
    "y_train_pred_final.head()"
   ]
  },
  {
   "cell_type": "code",
   "execution_count": 129,
   "metadata": {},
   "outputs": [
    {
     "data": {
      "text/plain": [
       "array([[3110,  828],\n",
       "       [ 442, 1992]], dtype=int64)"
      ]
     },
     "execution_count": 129,
     "metadata": {},
     "output_type": "execute_result"
    }
   ],
   "source": [
    "confusion = metrics.confusion_matrix(y_train_pred_final.Converted, y_train_pred_final.final_predicted )\n",
    "confusion"
   ]
  },
  {
   "cell_type": "code",
   "execution_count": 130,
   "metadata": {},
   "outputs": [],
   "source": [
    "\n",
    "TP = confusion2[1,1] # true positive \n",
    "TN = confusion2[0,0] # true negatives\n",
    "FP = confusion2[0,1] # false positives\n",
    "FN = confusion2[1,0] # false negatives"
   ]
  },
  {
   "cell_type": "code",
   "execution_count": 131,
   "metadata": {},
   "outputs": [
    {
     "name": "stdout",
     "output_type": "stream",
     "text": [
      "Statistics for model at cutoff value for Converted_prob > 0.34\n",
      "\n",
      "Overall_Accuaracy :0.8\n",
      "Sensitivity :0.82\n",
      "Specificity : 0.79\n",
      "False positive rate : 0.21\n",
      "Precision(Positive predictive Value) : 0.71\n",
      "Negative predictive Value : 0.88\n",
      "\n",
      "Sensitivity - Specificity : 0.82 , 0.79\n",
      "Precision - Recall : 0.71 , 0.82\n",
      "F1 score is : 0.7610457516339869 \n"
     ]
    }
   ],
   "source": [
    "print(\"Statistics for model at cutoff value for Converted_prob > 0.34\")\n",
    "print(\"\")\n",
    "# Let's check the overall accuracy.\n",
    "print('Overall_Accuaracy :{0}'.format(round(metrics.accuracy_score(y_train_pred_final.Converted, y_train_pred_final.final_predicted),2)))\n",
    "\n",
    "sensitivity = round(TP / float(TP+FN),2)\n",
    "# Let's see the sensitivity of our logistic regression model\n",
    "print('Sensitivity :{0}'.format(sensitivity))\n",
    "\n",
    "specificity = round(TN / float(TN+FP),2)\n",
    "\n",
    "# Let us calculate specificity\n",
    "print('Specificity : {0}'.format(specificity))\n",
    "\n",
    "# Calculate false postive rate - predicting lead when customer does not convert\n",
    "print('False positive rate : {0}'.format(round(FP/ float(TN+FP),2)))\n",
    "\n",
    "precision = round(TP / float(TP+FP),2)\n",
    "# positive predictive value (Precision)\n",
    "print ('Precision(Positive predictive Value) : {0}'.format(precision))\n",
    "\n",
    "# Negative predictive value\n",
    "print ('Negative predictive Value : {0}'.format(round(TN / float(TN+ FN),2)))\n",
    "\n",
    "print(\"\")\n",
    "\n",
    "print(\"Sensitivity - Specificity : {0} , {1}\".format(sensitivity,specificity))\n",
    "\n",
    "print(\"Precision - Recall : {0} , {1}\".format(precision,sensitivity))\n",
    "\n",
    "print(\"F1 score is : {0} \".format(2*(precision*sensitivity)/(precision+sensitivity)))"
   ]
  },
  {
   "cell_type": "code",
   "execution_count": 135,
   "metadata": {},
   "outputs": [
    {
     "data": {
      "image/png": "[encoded data removed]",
      "text/plain": [
       "<Figure size 864x576 with 1 Axes>"
      ]
     },
     "metadata": {
      "needs_background": "light"
     },
     "output_type": "display_data"
    }
   ],
   "source": [
    "p, r, thresholds = precision_recall_curve(y_train_pred_final.Converted, y_train_pred_final.Converted_Prob)\n",
    "plt.figure(figsize=(12,8))\n",
    "plt.plot(thresholds, p[:-1], \"g-\")\n",
    "plt.plot(thresholds, r[:-1], \"r-\")\n",
    "plt.title('Precision vs Recall for various probabilities')\n",
    "plt.axvline(0.42,linestyle='-.',color='r')  #optimal cutoff as per the curve\n",
    "\n",
    "plt.plot(np.interp (0.80, p[:-1], thresholds),0.8,'o')  # need to find threshold where precision is 0.8\n",
    "plt.axhline(0.80,linestyle='-.')\n",
    "plt.axvline(np.interp (0.80, p[:-1], thresholds))\n",
    "plt.show()"
   ]
  },
  {
   "cell_type": "code",
   "execution_count": 136,
   "metadata": {},
   "outputs": [
    {
     "data": {
      "text/plain": [
       "0.554"
      ]
     },
     "execution_count": 136,
     "metadata": {},
     "output_type": "execute_result"
    }
   ],
   "source": [
    "round(np.interp (0.80, p[:-1], thresholds),3)"
   ]
  },
  {
   "cell_type": "code",
   "execution_count": 137,
   "metadata": {},
   "outputs": [
    {
     "data": {
      "text/html": [
       "<div>\n",
       "<style scoped>\n",
       "    .dataframe tbody tr th:only-of-type {\n",
       "        vertical-align: middle;\n",
       "    }\n",
       "\n",
       "    .dataframe tbody tr th {\n",
       "        vertical-align: top;\n",
       "    }\n",
       "\n",
       "    .dataframe thead th {\n",
       "        text-align: right;\n",
       "    }\n",
       "</style>\n",
       "<table border=\"1\" class=\"dataframe\">\n",
       "  <thead>\n",
       "    <tr style=\"text-align: right;\">\n",
       "      <th></th>\n",
       "      <th>Converted</th>\n",
       "      <th>Converted_Prob</th>\n",
       "      <th>Lead Number</th>\n",
       "      <th>0.0</th>\n",
       "      <th>0.1</th>\n",
       "      <th>0.2</th>\n",
       "      <th>0.3</th>\n",
       "      <th>0.4</th>\n",
       "      <th>0.5</th>\n",
       "      <th>0.6</th>\n",
       "      <th>0.7</th>\n",
       "      <th>0.8</th>\n",
       "      <th>0.9</th>\n",
       "      <th>final_predicted</th>\n",
       "      <th>final_predicted_pr</th>\n",
       "    </tr>\n",
       "  </thead>\n",
       "  <tbody>\n",
       "    <tr>\n",
       "      <th>0</th>\n",
       "      <td>1</td>\n",
       "      <td>0.830515</td>\n",
       "      <td>3360</td>\n",
       "      <td>1</td>\n",
       "      <td>1</td>\n",
       "      <td>1</td>\n",
       "      <td>1</td>\n",
       "      <td>1</td>\n",
       "      <td>1</td>\n",
       "      <td>1</td>\n",
       "      <td>1</td>\n",
       "      <td>1</td>\n",
       "      <td>0</td>\n",
       "      <td>1</td>\n",
       "      <td>1</td>\n",
       "    </tr>\n",
       "    <tr>\n",
       "      <th>1</th>\n",
       "      <td>0</td>\n",
       "      <td>0.083397</td>\n",
       "      <td>436</td>\n",
       "      <td>1</td>\n",
       "      <td>0</td>\n",
       "      <td>0</td>\n",
       "      <td>0</td>\n",
       "      <td>0</td>\n",
       "      <td>0</td>\n",
       "      <td>0</td>\n",
       "      <td>0</td>\n",
       "      <td>0</td>\n",
       "      <td>0</td>\n",
       "      <td>0</td>\n",
       "      <td>0</td>\n",
       "    </tr>\n",
       "    <tr>\n",
       "      <th>2</th>\n",
       "      <td>0</td>\n",
       "      <td>0.305767</td>\n",
       "      <td>8236</td>\n",
       "      <td>1</td>\n",
       "      <td>1</td>\n",
       "      <td>1</td>\n",
       "      <td>1</td>\n",
       "      <td>0</td>\n",
       "      <td>0</td>\n",
       "      <td>0</td>\n",
       "      <td>0</td>\n",
       "      <td>0</td>\n",
       "      <td>0</td>\n",
       "      <td>0</td>\n",
       "      <td>0</td>\n",
       "    </tr>\n",
       "    <tr>\n",
       "      <th>3</th>\n",
       "      <td>1</td>\n",
       "      <td>0.981675</td>\n",
       "      <td>3034</td>\n",
       "      <td>1</td>\n",
       "      <td>1</td>\n",
       "      <td>1</td>\n",
       "      <td>1</td>\n",
       "      <td>1</td>\n",
       "      <td>1</td>\n",
       "      <td>1</td>\n",
       "      <td>1</td>\n",
       "      <td>1</td>\n",
       "      <td>1</td>\n",
       "      <td>1</td>\n",
       "      <td>1</td>\n",
       "    </tr>\n",
       "    <tr>\n",
       "      <th>4</th>\n",
       "      <td>0</td>\n",
       "      <td>0.149045</td>\n",
       "      <td>2776</td>\n",
       "      <td>1</td>\n",
       "      <td>1</td>\n",
       "      <td>0</td>\n",
       "      <td>0</td>\n",
       "      <td>0</td>\n",
       "      <td>0</td>\n",
       "      <td>0</td>\n",
       "      <td>0</td>\n",
       "      <td>0</td>\n",
       "      <td>0</td>\n",
       "      <td>0</td>\n",
       "      <td>0</td>\n",
       "    </tr>\n",
       "  </tbody>\n",
       "</table>\n",
       "</div>"
      ],
      "text/plain": [
       "   Converted  Converted_Prob  Lead Number  0.0  0.1  0.2  0.3  0.4  0.5  0.6  \\\n",
       "0          1        0.830515         3360    1    1    1    1    1    1    1   \n",
       "1          0        0.083397          436    1    0    0    0    0    0    0   \n",
       "2          0        0.305767         8236    1    1    1    1    0    0    0   \n",
       "3          1        0.981675         3034    1    1    1    1    1    1    1   \n",
       "4          0        0.149045         2776    1    1    0    0    0    0    0   \n",
       "\n",
       "   0.7  0.8  0.9  final_predicted  final_predicted_pr  \n",
       "0    1    1    0                1                   1  \n",
       "1    0    0    0                0                   0  \n",
       "2    0    0    0                0                   0  \n",
       "3    1    1    1                1                   1  \n",
       "4    0    0    0                0                   0  "
      ]
     },
     "execution_count": 137,
     "metadata": {},
     "output_type": "execute_result"
    }
   ],
   "source": [
    "#Lets take cuttoff as 0.55 to get precision value of 0.8\n",
    "y_train_pred_final['final_predicted_pr'] = y_train_pred_final.Converted_Prob.map( lambda x: 1 if x > 0.554 else 0)\n",
    "\n",
    "y_train_pred_final.head()"
   ]
  },
  {
   "cell_type": "code",
   "execution_count": 138,
   "metadata": {},
   "outputs": [
    {
     "data": {
      "text/plain": [
       "array([[3568,  370],\n",
       "       [ 955, 1479]], dtype=int64)"
      ]
     },
     "execution_count": 138,
     "metadata": {},
     "output_type": "execute_result"
    }
   ],
   "source": [
    "confusion2 = metrics.confusion_matrix(y_train_pred_final.Converted, y_train_pred_final.final_predicted_pr )\n",
    "confusion2"
   ]
  },
  {
   "cell_type": "code",
   "execution_count": 140,
   "metadata": {},
   "outputs": [],
   "source": [
    "\n",
    "TP = confusion2[1,1] # true positive \n",
    "TN = confusion2[0,0] # true negatives\n",
    "FP = confusion2[0,1] # false positives\n",
    "FN = confusion2[1,0] # false negatives"
   ]
  },
  {
   "cell_type": "code",
   "execution_count": 141,
   "metadata": {},
   "outputs": [
    {
     "name": "stdout",
     "output_type": "stream",
     "text": [
      "Statistics for model at cutoff value for Converted_prob > 0.513\n",
      "\n",
      "Overall_Accuaracy :0.79\n",
      "Sensitivity :0.61\n",
      "Specificity : 0.91\n",
      "False positive rate : 0.09\n",
      "Precision(Positive predictive Value) : 0.8\n",
      "Negative predictive Value : 0.79\n",
      "\n",
      "Sensitivity - Specificity : 0.61 , 0.91\n",
      "Precision - Recall : 0.8 , 0.61\n",
      "F1 score is : 0.6921985815602836 \n"
     ]
    }
   ],
   "source": [
    "print(\"Statistics for model at cutoff value for Converted_prob > 0.513\")\n",
    "print(\"\")\n",
    "# Let's check the overall accuracy.\n",
    "print('Overall_Accuaracy :{0}'.format(round(metrics.accuracy_score(y_train_pred_final.Converted, y_train_pred_final.final_predicted_pr),2)))\n",
    "\n",
    "sensitivity = round(TP / float(TP+FN),2)\n",
    "# Let's see the sensitivity of our logistic regression model\n",
    "print('Sensitivity :{0}'.format(sensitivity))\n",
    "\n",
    "specificity = round(TN / float(TN+FP),2)\n",
    "\n",
    "# Let us calculate specificity\n",
    "print('Specificity : {0}'.format(specificity))\n",
    "\n",
    "# Calculate false postive rate - predicting lead when customer does not convert\n",
    "print('False positive rate : {0}'.format(round(FP/ float(TN+FP),2)))\n",
    "\n",
    "precision = round(TP / float(TP+FP),2)\n",
    "# positive predictive value (Precision)\n",
    "print ('Precision(Positive predictive Value) : {0}'.format(precision))\n",
    "\n",
    "# Negative predictive value\n",
    "print ('Negative predictive Value : {0}'.format(round(TN / float(TN+ FN),2)))\n",
    "\n",
    "print(\"\")\n",
    "\n",
    "print(\"Sensitivity - Specificity : {0} , {1}\".format(sensitivity,specificity))\n",
    "\n",
    "print(\"Precision - Recall : {0} , {1}\".format(precision,sensitivity))\n",
    "\n",
    "print(\"F1 score is : {0} \".format(2*(precision*sensitivity)/(precision+sensitivity)))"
   ]
  },
  {
   "cell_type": "markdown",
   "metadata": {},
   "source": [
    "We need positive predictive value or precision at 0.8 which will ensure conversion ratio of 80% and with cutoff for converted prob value as 0.554 is giving us 0.80 precision value. Hence we will go with cutoff of 0.554."
   ]
  },
  {
   "cell_type": "markdown",
   "metadata": {},
   "source": [
    "## Model Evaluation"
   ]
  },
  {
   "cell_type": "code",
   "execution_count": 142,
   "metadata": {},
   "outputs": [],
   "source": [
    "X_test[num_columns] = scaler.transform(X_test[num_columns])"
   ]
  },
  {
   "cell_type": "code",
   "execution_count": 143,
   "metadata": {},
   "outputs": [
    {
     "data": {
      "text/html": [
       "<div>\n",
       "<style scoped>\n",
       "    .dataframe tbody tr th:only-of-type {\n",
       "        vertical-align: middle;\n",
       "    }\n",
       "\n",
       "    .dataframe tbody tr th {\n",
       "        vertical-align: top;\n",
       "    }\n",
       "\n",
       "    .dataframe thead th {\n",
       "        text-align: right;\n",
       "    }\n",
       "</style>\n",
       "<table border=\"1\" class=\"dataframe\">\n",
       "  <thead>\n",
       "    <tr style=\"text-align: right;\">\n",
       "      <th></th>\n",
       "      <th>TotalVisits</th>\n",
       "      <th>Total Time Spent on Website</th>\n",
       "      <th>Page Views Per Visit</th>\n",
       "      <th>Lead Origin_Lead Add Form</th>\n",
       "      <th>Do Not Email_Yes</th>\n",
       "      <th>Last Activity_Converted to Lead</th>\n",
       "      <th>Last Activity_Olark Chat Conversation</th>\n",
       "      <th>What is your current occupation_Working Professional</th>\n",
       "      <th>Last Notable Activity_Email Link Clicked</th>\n",
       "      <th>Last Notable Activity_Email Opened</th>\n",
       "      <th>Last Notable Activity_Modified</th>\n",
       "      <th>Last Notable Activity_Olark Chat Conversation</th>\n",
       "      <th>Last Notable Activity_Page Visited on Website</th>\n",
       "    </tr>\n",
       "  </thead>\n",
       "  <tbody>\n",
       "    <tr>\n",
       "      <th>7999</th>\n",
       "      <td>0.003984</td>\n",
       "      <td>0.093310</td>\n",
       "      <td>0.041667</td>\n",
       "      <td>0</td>\n",
       "      <td>0</td>\n",
       "      <td>1</td>\n",
       "      <td>0</td>\n",
       "      <td>0</td>\n",
       "      <td>0</td>\n",
       "      <td>0</td>\n",
       "      <td>1</td>\n",
       "      <td>0</td>\n",
       "      <td>0</td>\n",
       "    </tr>\n",
       "    <tr>\n",
       "      <th>4317</th>\n",
       "      <td>0.011952</td>\n",
       "      <td>0.056338</td>\n",
       "      <td>0.125000</td>\n",
       "      <td>0</td>\n",
       "      <td>0</td>\n",
       "      <td>0</td>\n",
       "      <td>0</td>\n",
       "      <td>0</td>\n",
       "      <td>0</td>\n",
       "      <td>1</td>\n",
       "      <td>0</td>\n",
       "      <td>0</td>\n",
       "      <td>0</td>\n",
       "    </tr>\n",
       "    <tr>\n",
       "      <th>5468</th>\n",
       "      <td>0.000000</td>\n",
       "      <td>0.000000</td>\n",
       "      <td>0.000000</td>\n",
       "      <td>0</td>\n",
       "      <td>0</td>\n",
       "      <td>0</td>\n",
       "      <td>1</td>\n",
       "      <td>0</td>\n",
       "      <td>0</td>\n",
       "      <td>0</td>\n",
       "      <td>1</td>\n",
       "      <td>0</td>\n",
       "      <td>0</td>\n",
       "    </tr>\n",
       "    <tr>\n",
       "      <th>2220</th>\n",
       "      <td>0.007968</td>\n",
       "      <td>0.196743</td>\n",
       "      <td>0.083333</td>\n",
       "      <td>0</td>\n",
       "      <td>0</td>\n",
       "      <td>0</td>\n",
       "      <td>0</td>\n",
       "      <td>0</td>\n",
       "      <td>0</td>\n",
       "      <td>1</td>\n",
       "      <td>0</td>\n",
       "      <td>0</td>\n",
       "      <td>0</td>\n",
       "    </tr>\n",
       "    <tr>\n",
       "      <th>3766</th>\n",
       "      <td>0.015936</td>\n",
       "      <td>0.045335</td>\n",
       "      <td>0.166667</td>\n",
       "      <td>0</td>\n",
       "      <td>0</td>\n",
       "      <td>0</td>\n",
       "      <td>0</td>\n",
       "      <td>0</td>\n",
       "      <td>0</td>\n",
       "      <td>1</td>\n",
       "      <td>0</td>\n",
       "      <td>0</td>\n",
       "      <td>0</td>\n",
       "    </tr>\n",
       "  </tbody>\n",
       "</table>\n",
       "</div>"
      ],
      "text/plain": [
       "      TotalVisits  Total Time Spent on Website  Page Views Per Visit  \\\n",
       "7999     0.003984                     0.093310              0.041667   \n",
       "4317     0.011952                     0.056338              0.125000   \n",
       "5468     0.000000                     0.000000              0.000000   \n",
       "2220     0.007968                     0.196743              0.083333   \n",
       "3766     0.015936                     0.045335              0.166667   \n",
       "\n",
       "      Lead Origin_Lead Add Form  Do Not Email_Yes  \\\n",
       "7999                          0                 0   \n",
       "4317                          0                 0   \n",
       "5468                          0                 0   \n",
       "2220                          0                 0   \n",
       "3766                          0                 0   \n",
       "\n",
       "      Last Activity_Converted to Lead  Last Activity_Olark Chat Conversation  \\\n",
       "7999                                1                                      0   \n",
       "4317                                0                                      0   \n",
       "5468                                0                                      1   \n",
       "2220                                0                                      0   \n",
       "3766                                0                                      0   \n",
       "\n",
       "      What is your current occupation_Working Professional  \\\n",
       "7999                                                  0      \n",
       "4317                                                  0      \n",
       "5468                                                  0      \n",
       "2220                                                  0      \n",
       "3766                                                  0      \n",
       "\n",
       "      Last Notable Activity_Email Link Clicked  \\\n",
       "7999                                         0   \n",
       "4317                                         0   \n",
       "5468                                         0   \n",
       "2220                                         0   \n",
       "3766                                         0   \n",
       "\n",
       "      Last Notable Activity_Email Opened  Last Notable Activity_Modified  \\\n",
       "7999                                   0                               1   \n",
       "4317                                   1                               0   \n",
       "5468                                   0                               1   \n",
       "2220                                   1                               0   \n",
       "3766                                   1                               0   \n",
       "\n",
       "      Last Notable Activity_Olark Chat Conversation  \\\n",
       "7999                                              0   \n",
       "4317                                              0   \n",
       "5468                                              0   \n",
       "2220                                              0   \n",
       "3766                                              0   \n",
       "\n",
       "      Last Notable Activity_Page Visited on Website  \n",
       "7999                                              0  \n",
       "4317                                              0  \n",
       "5468                                              0  \n",
       "2220                                              0  \n",
       "3766                                              0  "
      ]
     },
     "execution_count": 143,
     "metadata": {},
     "output_type": "execute_result"
    }
   ],
   "source": [
    "X_test = X_test[X_train_sm.columns[1:]]\n",
    "X_test.head()"
   ]
  },
  {
   "cell_type": "code",
   "execution_count": 144,
   "metadata": {},
   "outputs": [],
   "source": [
    "\n",
    "X_test_sm = sm.add_constant(X_test)"
   ]
  },
  {
   "cell_type": "markdown",
   "metadata": {},
   "source": [
    "### Making predictions on Test data"
   ]
  },
  {
   "cell_type": "code",
   "execution_count": 145,
   "metadata": {},
   "outputs": [],
   "source": [
    "y_test_pred = res.predict(X_test_sm)"
   ]
  },
  {
   "cell_type": "code",
   "execution_count": 146,
   "metadata": {},
   "outputs": [
    {
     "data": {
      "text/plain": [
       "7999   0.050798\n",
       "4317   0.152299\n",
       "5468   0.053032\n",
       "2220   0.260989\n",
       "3766   0.132912\n",
       "3595   0.053032\n",
       "4112   0.939501\n",
       "1455   0.453812\n",
       "7064   0.448228\n",
       "5657   0.343504\n",
       "dtype: float64"
      ]
     },
     "execution_count": 146,
     "metadata": {},
     "output_type": "execute_result"
    }
   ],
   "source": [
    "y_test_pred[:10]"
   ]
  },
  {
   "cell_type": "code",
   "execution_count": 147,
   "metadata": {},
   "outputs": [
    {
     "data": {
      "text/html": [
       "<div>\n",
       "<style scoped>\n",
       "    .dataframe tbody tr th:only-of-type {\n",
       "        vertical-align: middle;\n",
       "    }\n",
       "\n",
       "    .dataframe tbody tr th {\n",
       "        vertical-align: top;\n",
       "    }\n",
       "\n",
       "    .dataframe thead th {\n",
       "        text-align: right;\n",
       "    }\n",
       "</style>\n",
       "<table border=\"1\" class=\"dataframe\">\n",
       "  <thead>\n",
       "    <tr style=\"text-align: right;\">\n",
       "      <th></th>\n",
       "      <th>0</th>\n",
       "    </tr>\n",
       "  </thead>\n",
       "  <tbody>\n",
       "    <tr>\n",
       "      <th>7999</th>\n",
       "      <td>0.050798</td>\n",
       "    </tr>\n",
       "    <tr>\n",
       "      <th>4317</th>\n",
       "      <td>0.152299</td>\n",
       "    </tr>\n",
       "    <tr>\n",
       "      <th>5468</th>\n",
       "      <td>0.053032</td>\n",
       "    </tr>\n",
       "    <tr>\n",
       "      <th>2220</th>\n",
       "      <td>0.260989</td>\n",
       "    </tr>\n",
       "    <tr>\n",
       "      <th>3766</th>\n",
       "      <td>0.132912</td>\n",
       "    </tr>\n",
       "  </tbody>\n",
       "</table>\n",
       "</div>"
      ],
      "text/plain": [
       "            0\n",
       "7999 0.050798\n",
       "4317 0.152299\n",
       "5468 0.053032\n",
       "2220 0.260989\n",
       "3766 0.132912"
      ]
     },
     "execution_count": 147,
     "metadata": {},
     "output_type": "execute_result"
    }
   ],
   "source": [
    "# Converting y_pred to a dataframe which is an array\n",
    "y_pred_1 = pd.DataFrame(y_test_pred)\n",
    "\n",
    "y_pred_1.head()"
   ]
  },
  {
   "cell_type": "code",
   "execution_count": 148,
   "metadata": {},
   "outputs": [],
   "source": [
    "# Converting y_test to dataframe\n",
    "y_test_df = pd.DataFrame(y_test)\n",
    "\n",
    "\n",
    "# Putting Lead Number to index\n",
    "y_test_df['Lead Number'] = y_test_df.index"
   ]
  },
  {
   "cell_type": "code",
   "execution_count": 149,
   "metadata": {},
   "outputs": [],
   "source": [
    "# Removing index for both dataframes to append them side by side \n",
    "y_pred_1.reset_index(drop=True, inplace=True)\n",
    "y_test_df.reset_index(drop=True, inplace=True)"
   ]
  },
  {
   "cell_type": "code",
   "execution_count": 150,
   "metadata": {},
   "outputs": [
    {
     "data": {
      "text/html": [
       "<div>\n",
       "<style scoped>\n",
       "    .dataframe tbody tr th:only-of-type {\n",
       "        vertical-align: middle;\n",
       "    }\n",
       "\n",
       "    .dataframe tbody tr th {\n",
       "        vertical-align: top;\n",
       "    }\n",
       "\n",
       "    .dataframe thead th {\n",
       "        text-align: right;\n",
       "    }\n",
       "</style>\n",
       "<table border=\"1\" class=\"dataframe\">\n",
       "  <thead>\n",
       "    <tr style=\"text-align: right;\">\n",
       "      <th></th>\n",
       "      <th>Converted</th>\n",
       "      <th>Lead Number</th>\n",
       "      <th>0</th>\n",
       "    </tr>\n",
       "  </thead>\n",
       "  <tbody>\n",
       "    <tr>\n",
       "      <th>0</th>\n",
       "      <td>0</td>\n",
       "      <td>7999</td>\n",
       "      <td>0.050798</td>\n",
       "    </tr>\n",
       "    <tr>\n",
       "      <th>1</th>\n",
       "      <td>1</td>\n",
       "      <td>4317</td>\n",
       "      <td>0.152299</td>\n",
       "    </tr>\n",
       "    <tr>\n",
       "      <th>2</th>\n",
       "      <td>0</td>\n",
       "      <td>5468</td>\n",
       "      <td>0.053032</td>\n",
       "    </tr>\n",
       "    <tr>\n",
       "      <th>3</th>\n",
       "      <td>0</td>\n",
       "      <td>2220</td>\n",
       "      <td>0.260989</td>\n",
       "    </tr>\n",
       "    <tr>\n",
       "      <th>4</th>\n",
       "      <td>0</td>\n",
       "      <td>3766</td>\n",
       "      <td>0.132912</td>\n",
       "    </tr>\n",
       "  </tbody>\n",
       "</table>\n",
       "</div>"
      ],
      "text/plain": [
       "   Converted  Lead Number        0\n",
       "0          0         7999 0.050798\n",
       "1          1         4317 0.152299\n",
       "2          0         5468 0.053032\n",
       "3          0         2220 0.260989\n",
       "4          0         3766 0.132912"
      ]
     },
     "execution_count": 150,
     "metadata": {},
     "output_type": "execute_result"
    }
   ],
   "source": [
    "# Appending y_test_df and y_pred_1\n",
    "y_pred_final = pd.concat([y_test_df, y_pred_1],axis=1)\n",
    "\n",
    "y_pred_final.head()"
   ]
  },
  {
   "cell_type": "code",
   "execution_count": 152,
   "metadata": {},
   "outputs": [
    {
     "data": {
      "text/html": [
       "<div>\n",
       "<style scoped>\n",
       "    .dataframe tbody tr th:only-of-type {\n",
       "        vertical-align: middle;\n",
       "    }\n",
       "\n",
       "    .dataframe tbody tr th {\n",
       "        vertical-align: top;\n",
       "    }\n",
       "\n",
       "    .dataframe thead th {\n",
       "        text-align: right;\n",
       "    }\n",
       "</style>\n",
       "<table border=\"1\" class=\"dataframe\">\n",
       "  <thead>\n",
       "    <tr style=\"text-align: right;\">\n",
       "      <th></th>\n",
       "      <th>Converted</th>\n",
       "      <th>Lead Number</th>\n",
       "      <th>Converted_Prob</th>\n",
       "    </tr>\n",
       "  </thead>\n",
       "  <tbody>\n",
       "    <tr>\n",
       "      <th>0</th>\n",
       "      <td>0</td>\n",
       "      <td>7999</td>\n",
       "      <td>0.050798</td>\n",
       "    </tr>\n",
       "    <tr>\n",
       "      <th>1</th>\n",
       "      <td>1</td>\n",
       "      <td>4317</td>\n",
       "      <td>0.152299</td>\n",
       "    </tr>\n",
       "    <tr>\n",
       "      <th>2</th>\n",
       "      <td>0</td>\n",
       "      <td>5468</td>\n",
       "      <td>0.053032</td>\n",
       "    </tr>\n",
       "    <tr>\n",
       "      <th>3</th>\n",
       "      <td>0</td>\n",
       "      <td>2220</td>\n",
       "      <td>0.260989</td>\n",
       "    </tr>\n",
       "    <tr>\n",
       "      <th>4</th>\n",
       "      <td>0</td>\n",
       "      <td>3766</td>\n",
       "      <td>0.132912</td>\n",
       "    </tr>\n",
       "  </tbody>\n",
       "</table>\n",
       "</div>"
      ],
      "text/plain": [
       "   Converted  Lead Number  Converted_Prob\n",
       "0          0         7999        0.050798\n",
       "1          1         4317        0.152299\n",
       "2          0         5468        0.053032\n",
       "3          0         2220        0.260989\n",
       "4          0         3766        0.132912"
      ]
     },
     "execution_count": 152,
     "metadata": {},
     "output_type": "execute_result"
    }
   ],
   "source": [
    "# Renaming the column \n",
    "y_pred_final= y_pred_final.rename(columns={ 0 : 'Converted_Prob'})\n",
    "\n",
    "# Let's see the head of y_pred_final\n",
    "y_pred_final.head()"
   ]
  },
  {
   "cell_type": "code",
   "execution_count": 154,
   "metadata": {},
   "outputs": [
    {
     "data": {
      "text/html": [
       "<div>\n",
       "<style scoped>\n",
       "    .dataframe tbody tr th:only-of-type {\n",
       "        vertical-align: middle;\n",
       "    }\n",
       "\n",
       "    .dataframe tbody tr th {\n",
       "        vertical-align: top;\n",
       "    }\n",
       "\n",
       "    .dataframe thead th {\n",
       "        text-align: right;\n",
       "    }\n",
       "</style>\n",
       "<table border=\"1\" class=\"dataframe\">\n",
       "  <thead>\n",
       "    <tr style=\"text-align: right;\">\n",
       "      <th></th>\n",
       "      <th>Converted</th>\n",
       "      <th>Lead Number</th>\n",
       "      <th>Converted_Prob</th>\n",
       "      <th>final_predicted</th>\n",
       "    </tr>\n",
       "  </thead>\n",
       "  <tbody>\n",
       "    <tr>\n",
       "      <th>0</th>\n",
       "      <td>0</td>\n",
       "      <td>7999</td>\n",
       "      <td>0.050798</td>\n",
       "      <td>0</td>\n",
       "    </tr>\n",
       "    <tr>\n",
       "      <th>1</th>\n",
       "      <td>1</td>\n",
       "      <td>4317</td>\n",
       "      <td>0.152299</td>\n",
       "      <td>0</td>\n",
       "    </tr>\n",
       "    <tr>\n",
       "      <th>2</th>\n",
       "      <td>0</td>\n",
       "      <td>5468</td>\n",
       "      <td>0.053032</td>\n",
       "      <td>0</td>\n",
       "    </tr>\n",
       "    <tr>\n",
       "      <th>3</th>\n",
       "      <td>0</td>\n",
       "      <td>2220</td>\n",
       "      <td>0.260989</td>\n",
       "      <td>0</td>\n",
       "    </tr>\n",
       "    <tr>\n",
       "      <th>4</th>\n",
       "      <td>0</td>\n",
       "      <td>3766</td>\n",
       "      <td>0.132912</td>\n",
       "      <td>0</td>\n",
       "    </tr>\n",
       "  </tbody>\n",
       "</table>\n",
       "</div>"
      ],
      "text/plain": [
       "   Converted  Lead Number  Converted_Prob  final_predicted\n",
       "0          0         7999        0.050798                0\n",
       "1          1         4317        0.152299                0\n",
       "2          0         5468        0.053032                0\n",
       "3          0         2220        0.260989                0\n",
       "4          0         3766        0.132912                0"
      ]
     },
     "execution_count": 154,
     "metadata": {},
     "output_type": "execute_result"
    }
   ],
   "source": [
    "y_pred_final['final_predicted'] = y_pred_final.Converted_Prob.map(lambda x: 1 if x > 0.554 else 0)\n",
    "y_pred_final.head()"
   ]
  },
  {
   "cell_type": "code",
   "execution_count": 155,
   "metadata": {},
   "outputs": [
    {
     "data": {
      "text/plain": [
       "array([[1554,  150],\n",
       "       [ 392,  635]], dtype=int64)"
      ]
     },
     "execution_count": 155,
     "metadata": {},
     "output_type": "execute_result"
    }
   ],
   "source": [
    "confusion_test = metrics.confusion_matrix(y_pred_final.Converted, y_pred_final.final_predicted )\n",
    "confusion_test"
   ]
  },
  {
   "cell_type": "code",
   "execution_count": 156,
   "metadata": {},
   "outputs": [],
   "source": [
    "TP = confusion_test[1,1] # true positive \n",
    "TN = confusion_test[0,0] # true negatives\n",
    "FP = confusion_test[0,1] # false positives\n",
    "FN = confusion_test[1,0] # false negatives"
   ]
  },
  {
   "cell_type": "code",
   "execution_count": 157,
   "metadata": {},
   "outputs": [
    {
     "name": "stdout",
     "output_type": "stream",
     "text": [
      "Statistics for model at cutoff value for Converted_prob > 0.513\n",
      "\n",
      "Overall_Accuaracy :0.8\n",
      "Sensitivity :0.62\n",
      "Specificity : 0.91\n",
      "False positive rate : 0.09\n",
      "Precision(Positive predictive Value) : 0.81\n",
      "Negative predictive Value : 0.8\n",
      "\n",
      "Sensitivity - Specificity : 0.62 , 0.91\n",
      "Precision - Recall : 0.81 , 0.62\n",
      "F1 score is : 0.7023776223776222 \n"
     ]
    }
   ],
   "source": [
    "print(\"Statistics for model at cutoff value for Converted_prob > 0.513\")\n",
    "print(\"\")\n",
    "# Let's check the overall accuracy.\n",
    "print('Overall_Accuaracy :{0}'.format(round(metrics.accuracy_score(y_pred_final.Converted, y_pred_final.final_predicted),2)))\n",
    "\n",
    "sensitivity = round(TP / float(TP+FN),2)\n",
    "# Let's see the sensitivity of our logistic regression model\n",
    "print('Sensitivity :{0}'.format(sensitivity))\n",
    "\n",
    "specificity = round(TN / float(TN+FP),2)\n",
    "\n",
    "# Let us calculate specificity\n",
    "print('Specificity : {0}'.format(specificity))\n",
    "\n",
    "# Calculate false postive rate - predicting lead when customer does not convert\n",
    "print('False positive rate : {0}'.format(round(FP/ float(TN+FP),2)))\n",
    "\n",
    "precision = round(TP / float(TP+FP),2)\n",
    "# positive predictive value (Precision)\n",
    "print ('Precision(Positive predictive Value) : {0}'.format(precision))\n",
    "\n",
    "# Negative predictive value\n",
    "print ('Negative predictive Value : {0}'.format(round(TN / float(TN+ FN),2)))\n",
    "\n",
    "print(\"\")\n",
    "\n",
    "print(\"Sensitivity - Specificity : {0} , {1}\".format(sensitivity,specificity))\n",
    "\n",
    "print(\"Precision - Recall : {0} , {1}\".format(precision,sensitivity))\n",
    "\n",
    "print(\"F1 score is : {0} \".format(2*(precision*sensitivity)/(precision+sensitivity)))"
   ]
  },
  {
   "cell_type": "code",
   "execution_count": 158,
   "metadata": {},
   "outputs": [
    {
     "data": {
      "text/html": [
       "<div>\n",
       "<style scoped>\n",
       "    .dataframe tbody tr th:only-of-type {\n",
       "        vertical-align: middle;\n",
       "    }\n",
       "\n",
       "    .dataframe tbody tr th {\n",
       "        vertical-align: top;\n",
       "    }\n",
       "\n",
       "    .dataframe thead th {\n",
       "        text-align: right;\n",
       "    }\n",
       "</style>\n",
       "<table border=\"1\" class=\"dataframe\">\n",
       "  <thead>\n",
       "    <tr style=\"text-align: right;\">\n",
       "      <th></th>\n",
       "      <th>Converted</th>\n",
       "      <th>Lead Number</th>\n",
       "      <th>Converted_Prob</th>\n",
       "      <th>final_predicted</th>\n",
       "      <th>Lead_Score</th>\n",
       "    </tr>\n",
       "  </thead>\n",
       "  <tbody>\n",
       "    <tr>\n",
       "      <th>1888</th>\n",
       "      <td>1</td>\n",
       "      <td>818</td>\n",
       "      <td>0.998986</td>\n",
       "      <td>1</td>\n",
       "      <td>99.898558</td>\n",
       "    </tr>\n",
       "    <tr>\n",
       "      <th>802</th>\n",
       "      <td>1</td>\n",
       "      <td>8112</td>\n",
       "      <td>0.998380</td>\n",
       "      <td>1</td>\n",
       "      <td>99.838013</td>\n",
       "    </tr>\n",
       "    <tr>\n",
       "      <th>1084</th>\n",
       "      <td>1</td>\n",
       "      <td>4771</td>\n",
       "      <td>0.998380</td>\n",
       "      <td>1</td>\n",
       "      <td>99.838013</td>\n",
       "    </tr>\n",
       "    <tr>\n",
       "      <th>1653</th>\n",
       "      <td>1</td>\n",
       "      <td>2658</td>\n",
       "      <td>0.998380</td>\n",
       "      <td>1</td>\n",
       "      <td>99.838013</td>\n",
       "    </tr>\n",
       "    <tr>\n",
       "      <th>1666</th>\n",
       "      <td>1</td>\n",
       "      <td>5819</td>\n",
       "      <td>0.998380</td>\n",
       "      <td>1</td>\n",
       "      <td>99.838013</td>\n",
       "    </tr>\n",
       "  </tbody>\n",
       "</table>\n",
       "</div>"
      ],
      "text/plain": [
       "      Converted  Lead Number  Converted_Prob  final_predicted  Lead_Score\n",
       "1888          1          818        0.998986                1   99.898558\n",
       "802           1         8112        0.998380                1   99.838013\n",
       "1084          1         4771        0.998380                1   99.838013\n",
       "1653          1         2658        0.998380                1   99.838013\n",
       "1666          1         5819        0.998380                1   99.838013"
      ]
     },
     "execution_count": 158,
     "metadata": {},
     "output_type": "execute_result"
    }
   ],
   "source": [
    "# Assigning lead score for test set \n",
    "\n",
    "y_pred_final['Lead_Score'] = y_pred_final['Converted_Prob']*100\n",
    "\n",
    "y_pred_final.sort_values(by = 'Lead_Score',ascending = False).head()"
   ]
  },
  {
   "cell_type": "code",
   "execution_count": null,
   "metadata": {},
   "outputs": [],
   "source": []
  }
 ],
 "metadata": {
  "kernelspec": {
   "display_name": "Python 3",
   "language": "python",
   "name": "python3"
  },
  "language_info": {
   "codemirror_mode": {
    "name": "ipython",
    "version": 3
   },
   "file_extension": ".py",
   "mimetype": "text/x-python",
   "name": "python",
   "nbconvert_exporter": "python",
   "pygments_lexer": "ipython3",
   "version": "3.8.8"
  }
 },
 "nbformat": 4,
 "nbformat_minor": 4
}
